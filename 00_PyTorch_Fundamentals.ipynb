{
  "nbformat": 4,
  "nbformat_minor": 0,
  "metadata": {
    "colab": {
      "provenance": [],
      "toc_visible": true,
      "gpuType": "T4",
      "authorship_tag": "ABX9TyPVc8C4VhDCapcDfL96Wqa/",
      "include_colab_link": true
    },
    "kernelspec": {
      "name": "python3",
      "display_name": "Python 3"
    },
    "language_info": {
      "name": "python"
    },
    "accelerator": "GPU"
  },
  "cells": [
    {
      "cell_type": "markdown",
      "metadata": {
        "id": "view-in-github",
        "colab_type": "text"
      },
      "source": [
        "<a href=\"https://colab.research.google.com/github/MathewS424/DeepLearning_with_PyTorch/blob/main/00_PyTorch_Fundamentals.ipynb\" target=\"_parent\"><img src=\"https://colab.research.google.com/assets/colab-badge.svg\" alt=\"Open In Colab\"/></a>"
      ]
    },
    {
      "cell_type": "markdown",
      "source": [
        "# 00. PyTorch Fundamentals\n",
        "\n",
        "[Resourse NoteBook](https://www.learnpytorch.io/00_pytorch_fundamentals/)"
      ],
      "metadata": {
        "id": "hDy85L0-tiAb"
      }
    },
    {
      "cell_type": "code",
      "execution_count": null,
      "metadata": {
        "id": "JcaZHNmP7RkK",
        "outputId": "7f6a9976-4c8c-4b54-9c78-632c0cea1f28",
        "colab": {
          "base_uri": "https://localhost:8080/"
        }
      },
      "outputs": [
        {
          "output_type": "stream",
          "name": "stdout",
          "text": [
            "2.4.0+cu121\n"
          ]
        }
      ],
      "source": [
        "import torch\n",
        "import pandas as pd\n",
        "import numpy as np\n",
        "import matplotlib.pyplot as plt\n",
        "print(torch.__version__)"
      ]
    },
    {
      "cell_type": "markdown",
      "source": [
        "# Introduction to Tensor\n",
        "\n",
        "Creating tensors"
      ],
      "metadata": {
        "id": "3KMP_S-mvBv6"
      }
    },
    {
      "cell_type": "code",
      "source": [
        "# scalar\n",
        "scalar = torch.tensor(7)\n",
        "scalar"
      ],
      "metadata": {
        "id": "O7_xUWMxu6Ij",
        "outputId": "4fe9505c-98d8-47b4-f11a-1afd88d3414d",
        "colab": {
          "base_uri": "https://localhost:8080/"
        }
      },
      "execution_count": null,
      "outputs": [
        {
          "output_type": "execute_result",
          "data": {
            "text/plain": [
              "tensor(7)"
            ]
          },
          "metadata": {},
          "execution_count": 2
        }
      ]
    },
    {
      "cell_type": "code",
      "source": [
        "scalar.ndim"
      ],
      "metadata": {
        "id": "hnpCl5zSv4kj",
        "outputId": "07c6dccc-aa43-4bc3-c713-813d2e282498",
        "colab": {
          "base_uri": "https://localhost:8080/"
        }
      },
      "execution_count": null,
      "outputs": [
        {
          "output_type": "execute_result",
          "data": {
            "text/plain": [
              "0"
            ]
          },
          "metadata": {},
          "execution_count": 3
        }
      ]
    },
    {
      "cell_type": "code",
      "source": [
        "# Get tensor back as Python as int\n",
        "item = scalar.item()\n",
        "item"
      ],
      "metadata": {
        "id": "AsEUcZcHwAHC",
        "outputId": "39c6f4f7-e2ad-442b-b810-8c028a1ecc1e",
        "colab": {
          "base_uri": "https://localhost:8080/"
        }
      },
      "execution_count": null,
      "outputs": [
        {
          "output_type": "execute_result",
          "data": {
            "text/plain": [
              "7"
            ]
          },
          "metadata": {},
          "execution_count": 4
        }
      ]
    },
    {
      "cell_type": "code",
      "source": [
        "# Vector\n",
        "vector = torch.tensor([7,7])\n",
        "vector"
      ],
      "metadata": {
        "id": "F3J2zOsUwS6i",
        "outputId": "8c8d7fc2-f38c-4aa5-b5a8-2eb72010bf37",
        "colab": {
          "base_uri": "https://localhost:8080/"
        }
      },
      "execution_count": null,
      "outputs": [
        {
          "output_type": "execute_result",
          "data": {
            "text/plain": [
              "tensor([7, 7])"
            ]
          },
          "metadata": {},
          "execution_count": 5
        }
      ]
    },
    {
      "cell_type": "code",
      "source": [
        "vector.ndim"
      ],
      "metadata": {
        "id": "H_89z3Vlwhqa",
        "outputId": "20603c83-3b6f-4948-86a8-7504d8f307b0",
        "colab": {
          "base_uri": "https://localhost:8080/"
        }
      },
      "execution_count": null,
      "outputs": [
        {
          "output_type": "execute_result",
          "data": {
            "text/plain": [
              "1"
            ]
          },
          "metadata": {},
          "execution_count": 6
        }
      ]
    },
    {
      "cell_type": "code",
      "source": [
        "vector.shape"
      ],
      "metadata": {
        "id": "aq2jInqEwlSS",
        "outputId": "c4bec22d-ba78-4b77-f4dc-5017b1136e03",
        "colab": {
          "base_uri": "https://localhost:8080/"
        }
      },
      "execution_count": null,
      "outputs": [
        {
          "output_type": "execute_result",
          "data": {
            "text/plain": [
              "torch.Size([2])"
            ]
          },
          "metadata": {},
          "execution_count": 7
        }
      ]
    },
    {
      "cell_type": "code",
      "source": [
        "# MATRIX\n",
        "matrix = torch.tensor([[7,8],\n",
        "                      [9,10]])\n",
        "matrix"
      ],
      "metadata": {
        "id": "UxlglJ18w8Z6",
        "outputId": "63b02f4e-5ebf-46a3-9161-4b5f7e353d74",
        "colab": {
          "base_uri": "https://localhost:8080/"
        }
      },
      "execution_count": null,
      "outputs": [
        {
          "output_type": "execute_result",
          "data": {
            "text/plain": [
              "tensor([[ 7,  8],\n",
              "        [ 9, 10]])"
            ]
          },
          "metadata": {},
          "execution_count": 8
        }
      ]
    },
    {
      "cell_type": "code",
      "source": [
        "matrix.ndim"
      ],
      "metadata": {
        "id": "1-2BCai5xBCK",
        "outputId": "c4e3d2c3-5587-430d-d512-0aae6eb500c4",
        "colab": {
          "base_uri": "https://localhost:8080/"
        }
      },
      "execution_count": null,
      "outputs": [
        {
          "output_type": "execute_result",
          "data": {
            "text/plain": [
              "2"
            ]
          },
          "metadata": {},
          "execution_count": 9
        }
      ]
    },
    {
      "cell_type": "code",
      "source": [
        "matrix.shape   # Row x Col ,2X2"
      ],
      "metadata": {
        "id": "DLL9R8eFxDcy",
        "outputId": "ea984bba-6287-4203-8f3a-570ee89d8542",
        "colab": {
          "base_uri": "https://localhost:8080/"
        }
      },
      "execution_count": null,
      "outputs": [
        {
          "output_type": "execute_result",
          "data": {
            "text/plain": [
              "torch.Size([2, 2])"
            ]
          },
          "metadata": {},
          "execution_count": 10
        }
      ]
    },
    {
      "cell_type": "code",
      "source": [
        "# Tensor\n",
        "tensor = torch.tensor([[[1,2,3],\n",
        "                       [3,6,9],\n",
        "                       [2,4,5]]])\n",
        "tensor"
      ],
      "metadata": {
        "id": "xoEk_GznxJ4C",
        "outputId": "034f7813-9781-47e6-a831-877334315c3f",
        "colab": {
          "base_uri": "https://localhost:8080/"
        }
      },
      "execution_count": null,
      "outputs": [
        {
          "output_type": "execute_result",
          "data": {
            "text/plain": [
              "tensor([[[1, 2, 3],\n",
              "         [3, 6, 9],\n",
              "         [2, 4, 5]]])"
            ]
          },
          "metadata": {},
          "execution_count": 11
        }
      ]
    },
    {
      "cell_type": "code",
      "source": [
        "tensor.ndim"
      ],
      "metadata": {
        "id": "FeN0JzgBxl0p",
        "outputId": "1bcaec45-1c68-464d-aa9d-87c942975cf2",
        "colab": {
          "base_uri": "https://localhost:8080/"
        }
      },
      "execution_count": null,
      "outputs": [
        {
          "output_type": "execute_result",
          "data": {
            "text/plain": [
              "3"
            ]
          },
          "metadata": {},
          "execution_count": 12
        }
      ]
    },
    {
      "cell_type": "code",
      "source": [
        "tensor.shape"
      ],
      "metadata": {
        "id": "Q4yeGKs6xoGS",
        "outputId": "dff30f46-2494-41ba-dee5-24c3b12789e0",
        "colab": {
          "base_uri": "https://localhost:8080/"
        }
      },
      "execution_count": null,
      "outputs": [
        {
          "output_type": "execute_result",
          "data": {
            "text/plain": [
              "torch.Size([1, 3, 3])"
            ]
          },
          "metadata": {},
          "execution_count": 13
        }
      ]
    },
    {
      "cell_type": "code",
      "source": [
        "tensor[0]"
      ],
      "metadata": {
        "id": "RZOk8y3tyNDq",
        "outputId": "91c7d150-b861-4da0-81ca-0e7e9f85b313",
        "colab": {
          "base_uri": "https://localhost:8080/"
        }
      },
      "execution_count": null,
      "outputs": [
        {
          "output_type": "execute_result",
          "data": {
            "text/plain": [
              "tensor([[1, 2, 3],\n",
              "        [3, 6, 9],\n",
              "        [2, 4, 5]])"
            ]
          },
          "metadata": {},
          "execution_count": 14
        }
      ]
    },
    {
      "cell_type": "code",
      "source": [
        "tensor1 = torch.tensor([[[1,2,3],\n",
        "                       [3,6,9],\n",
        "                       [2,4,5]],\n",
        "\n",
        "                       [[11,22,33],\n",
        "                        [33,64,93],\n",
        "                       [23,42,51]]])\n",
        "tensor1"
      ],
      "metadata": {
        "id": "qy5tNfZAySwJ",
        "outputId": "41f6a36e-53ae-4964-bc26-f79ad449a9f0",
        "colab": {
          "base_uri": "https://localhost:8080/"
        }
      },
      "execution_count": null,
      "outputs": [
        {
          "output_type": "execute_result",
          "data": {
            "text/plain": [
              "tensor([[[ 1,  2,  3],\n",
              "         [ 3,  6,  9],\n",
              "         [ 2,  4,  5]],\n",
              "\n",
              "        [[11, 22, 33],\n",
              "         [33, 64, 93],\n",
              "         [23, 42, 51]]])"
            ]
          },
          "metadata": {},
          "execution_count": 15
        }
      ]
    },
    {
      "cell_type": "code",
      "source": [
        "tensor1.ndim\n"
      ],
      "metadata": {
        "id": "fKhx4ShYy4Ma",
        "outputId": "b706c51b-efee-42bf-98f3-2760b865274a",
        "colab": {
          "base_uri": "https://localhost:8080/"
        }
      },
      "execution_count": null,
      "outputs": [
        {
          "output_type": "execute_result",
          "data": {
            "text/plain": [
              "3"
            ]
          },
          "metadata": {},
          "execution_count": 16
        }
      ]
    },
    {
      "cell_type": "code",
      "source": [
        "tensor1.shape"
      ],
      "metadata": {
        "id": "5hq7Ckwmy7WK",
        "outputId": "29090f20-4bb6-431a-b458-07be46897ee3",
        "colab": {
          "base_uri": "https://localhost:8080/"
        }
      },
      "execution_count": null,
      "outputs": [
        {
          "output_type": "execute_result",
          "data": {
            "text/plain": [
              "torch.Size([2, 3, 3])"
            ]
          },
          "metadata": {},
          "execution_count": 17
        }
      ]
    },
    {
      "cell_type": "code",
      "source": [
        "print(tensor1[1])\n",
        "print(tensor1[0])\n",
        "print(tensor1[1][2])\n",
        "print(tensor1[1][2][2])"
      ],
      "metadata": {
        "id": "EDCurLC8zMny",
        "outputId": "18473062-29bf-415a-96d8-28ba9e6a3faf",
        "colab": {
          "base_uri": "https://localhost:8080/"
        }
      },
      "execution_count": null,
      "outputs": [
        {
          "output_type": "stream",
          "name": "stdout",
          "text": [
            "tensor([[11, 22, 33],\n",
            "        [33, 64, 93],\n",
            "        [23, 42, 51]])\n",
            "tensor([[1, 2, 3],\n",
            "        [3, 6, 9],\n",
            "        [2, 4, 5]])\n",
            "tensor([23, 42, 51])\n",
            "tensor(51)\n"
          ]
        }
      ]
    },
    {
      "cell_type": "markdown",
      "source": [
        "# Explanation\n",
        "Shape: The shape [4, 5, 3] means:\n",
        "\n",
        "4 blocks (first dimension)  \n",
        "5 rows in each block (second dimension)   \n",
        "3 columns in each row (third dimension)   \n",
        "Last Two Elements Are Not the Same: The rows within each block are not identical, which satisfies the condition that \"the last two elements are not the same.\""
      ],
      "metadata": {
        "id": "KIY1QlSN1ZwK"
      }
    },
    {
      "cell_type": "code",
      "source": [
        "import torch\n",
        "\n",
        "tensor2 = torch.tensor([\n",
        "    [[1, 2, 3],   # Block 1\n",
        "     [3, 6, 9],\n",
        "     [2, 4, 5],\n",
        "     [5, 10, 15],\n",
        "     [7, 14, 21]],\n",
        "\n",
        "    [[11, 22, 33],  # Block 2\n",
        "     [33, 64, 93],\n",
        "     [23, 42, 51],\n",
        "     [44, 88, 132],\n",
        "     [9, 18, 27]],\n",
        "\n",
        "    [[11, 22, 33],  # Block 3\n",
        "     [33, 1, 93],\n",
        "     [23, 42, 51],\n",
        "     [15, 30, 45],\n",
        "     [6, 12, 18]],\n",
        "\n",
        "    [[11, 22, 33],  # Block 4\n",
        "     [33, 64, 93],\n",
        "     [23, 42, 51],\n",
        "     [14, 28, 42],\n",
        "     [3, 6, 9]]\n",
        "])\n",
        "print(tensor2.ndim)   # Output the number of dimensions\n",
        "print(tensor2.shape)  # Output the shape of the tensor\n",
        "print(tensor2)        # Output the tensor itself\n",
        "\n",
        "print(\"_________________________________________________________________________\")\n",
        "\n",
        "tensor2 = torch.tensor([[[1,2,3],\n",
        "                       [3,6,9],\n",
        "                       [2,4,5]],\n",
        "\n",
        "                       [[11,22,33],\n",
        "                        [33,64,93],\n",
        "                       [23,42,51]],\n",
        "\n",
        "                        [[11,22,33],\n",
        "                        [33,1,93],\n",
        "                       [23,42,51]],\n",
        "\n",
        "                        [[11,22,33],\n",
        "                        [33,64,93],\n",
        "                       [23,42,51]]])\n",
        "\n",
        "print(tensor2.ndim)\n",
        "print(tensor2.shape)\n",
        "print(tensor2)"
      ],
      "metadata": {
        "id": "p7bbEXG-z77S",
        "outputId": "92ecbf66-912d-4114-e96e-11d1f8498d52",
        "colab": {
          "base_uri": "https://localhost:8080/"
        }
      },
      "execution_count": null,
      "outputs": [
        {
          "output_type": "stream",
          "name": "stdout",
          "text": [
            "3\n",
            "torch.Size([4, 5, 3])\n",
            "tensor([[[  1,   2,   3],\n",
            "         [  3,   6,   9],\n",
            "         [  2,   4,   5],\n",
            "         [  5,  10,  15],\n",
            "         [  7,  14,  21]],\n",
            "\n",
            "        [[ 11,  22,  33],\n",
            "         [ 33,  64,  93],\n",
            "         [ 23,  42,  51],\n",
            "         [ 44,  88, 132],\n",
            "         [  9,  18,  27]],\n",
            "\n",
            "        [[ 11,  22,  33],\n",
            "         [ 33,   1,  93],\n",
            "         [ 23,  42,  51],\n",
            "         [ 15,  30,  45],\n",
            "         [  6,  12,  18]],\n",
            "\n",
            "        [[ 11,  22,  33],\n",
            "         [ 33,  64,  93],\n",
            "         [ 23,  42,  51],\n",
            "         [ 14,  28,  42],\n",
            "         [  3,   6,   9]]])\n",
            "_________________________________________________________________________\n",
            "3\n",
            "torch.Size([4, 3, 3])\n",
            "tensor([[[ 1,  2,  3],\n",
            "         [ 3,  6,  9],\n",
            "         [ 2,  4,  5]],\n",
            "\n",
            "        [[11, 22, 33],\n",
            "         [33, 64, 93],\n",
            "         [23, 42, 51]],\n",
            "\n",
            "        [[11, 22, 33],\n",
            "         [33,  1, 93],\n",
            "         [23, 42, 51]],\n",
            "\n",
            "        [[11, 22, 33],\n",
            "         [33, 64, 93],\n",
            "         [23, 42, 51]]])\n"
          ]
        }
      ]
    },
    {
      "cell_type": "markdown",
      "source": [
        "# Random Tensors\n",
        "\n",
        "Why random tensors?\n",
        "\n",
        "Random tensors are important because the way many neural networks learn is that they start with tensors full of random numbers and then adjust those random numbers to better represent the data\n",
        "\n",
        "**Start with random numbers-> look at data-> update random numbers-> look at data-> update random numbers**"
      ],
      "metadata": {
        "id": "iSYDMHpm2k_6"
      }
    },
    {
      "cell_type": "code",
      "source": [
        "# Create a random tensor of size(3, 4), size(1, 5, 4), size(5) ..etc\n",
        "random_tensor = torch.rand(3, 4)\n",
        "random_tensor"
      ],
      "metadata": {
        "id": "BbzlJdNA0GOq",
        "outputId": "4a1a7bfd-c8e4-456d-c0ab-48c9bb27fb01",
        "colab": {
          "base_uri": "https://localhost:8080/"
        }
      },
      "execution_count": null,
      "outputs": [
        {
          "output_type": "execute_result",
          "data": {
            "text/plain": [
              "tensor([[0.4857, 0.0022, 0.4462, 0.5511],\n",
              "        [0.2091, 0.8553, 0.5372, 0.8700],\n",
              "        [0.6720, 0.7111, 0.2818, 0.3005]])"
            ]
          },
          "metadata": {},
          "execution_count": 20
        }
      ]
    },
    {
      "cell_type": "code",
      "source": [
        "random_tensor.ndim"
      ],
      "metadata": {
        "id": "QwWok-mI3t87",
        "outputId": "f3ea53be-d65f-4ccf-eb7e-ceef91f0c30c",
        "colab": {
          "base_uri": "https://localhost:8080/"
        }
      },
      "execution_count": null,
      "outputs": [
        {
          "output_type": "execute_result",
          "data": {
            "text/plain": [
              "2"
            ]
          },
          "metadata": {},
          "execution_count": 21
        }
      ]
    },
    {
      "cell_type": "code",
      "source": [
        "# Create a random tensor with similar shape to an image tensor\n",
        "random_image_size_tensor = torch.rand(size=(3, 224, 224)) # color channel(R, G, B), height, width\n",
        "random_image_size_tensor.shape, random_image_size_tensor.ndim"
      ],
      "metadata": {
        "id": "65CTqtyX3tfK",
        "outputId": "7a600899-266b-4bc1-8ff8-26bb7a14bc73",
        "colab": {
          "base_uri": "https://localhost:8080/"
        }
      },
      "execution_count": null,
      "outputs": [
        {
          "output_type": "execute_result",
          "data": {
            "text/plain": [
              "(torch.Size([3, 224, 224]), 3)"
            ]
          },
          "metadata": {},
          "execution_count": 22
        }
      ]
    },
    {
      "cell_type": "markdown",
      "source": [
        "# ZEROES AND ONES"
      ],
      "metadata": {
        "id": "0SQpgw4i5J6S"
      }
    },
    {
      "cell_type": "code",
      "source": [
        "zeroes = torch.zeros(size=(3,4))\n",
        "zeroes"
      ],
      "metadata": {
        "id": "O6xk5c8a5JDy",
        "outputId": "4a72babf-da25-44cd-817c-37894002ca8f",
        "colab": {
          "base_uri": "https://localhost:8080/"
        }
      },
      "execution_count": null,
      "outputs": [
        {
          "output_type": "execute_result",
          "data": {
            "text/plain": [
              "tensor([[0., 0., 0., 0.],\n",
              "        [0., 0., 0., 0.],\n",
              "        [0., 0., 0., 0.]])"
            ]
          },
          "metadata": {},
          "execution_count": 23
        }
      ]
    },
    {
      "cell_type": "code",
      "source": [
        "ones = torch.ones(size=(2,3,4))\n",
        "ones"
      ],
      "metadata": {
        "id": "5UZpiPVF5pR6",
        "outputId": "99b64af8-8c65-4966-b820-0b498d7d4a28",
        "colab": {
          "base_uri": "https://localhost:8080/"
        }
      },
      "execution_count": null,
      "outputs": [
        {
          "output_type": "execute_result",
          "data": {
            "text/plain": [
              "tensor([[[1., 1., 1., 1.],\n",
              "         [1., 1., 1., 1.],\n",
              "         [1., 1., 1., 1.]],\n",
              "\n",
              "        [[1., 1., 1., 1.],\n",
              "         [1., 1., 1., 1.],\n",
              "         [1., 1., 1., 1.]]])"
            ]
          },
          "metadata": {},
          "execution_count": 24
        }
      ]
    },
    {
      "cell_type": "code",
      "source": [
        "ones*random_tensor"
      ],
      "metadata": {
        "id": "FJd_KXEV5u-6",
        "outputId": "1479b7fb-4a74-4c67-d046-c91cee8dbce8",
        "colab": {
          "base_uri": "https://localhost:8080/"
        }
      },
      "execution_count": null,
      "outputs": [
        {
          "output_type": "execute_result",
          "data": {
            "text/plain": [
              "tensor([[[0.4857, 0.0022, 0.4462, 0.5511],\n",
              "         [0.2091, 0.8553, 0.5372, 0.8700],\n",
              "         [0.6720, 0.7111, 0.2818, 0.3005]],\n",
              "\n",
              "        [[0.4857, 0.0022, 0.4462, 0.5511],\n",
              "         [0.2091, 0.8553, 0.5372, 0.8700],\n",
              "         [0.6720, 0.7111, 0.2818, 0.3005]]])"
            ]
          },
          "metadata": {},
          "execution_count": 25
        }
      ]
    },
    {
      "cell_type": "code",
      "source": [
        "print(random_tensor.dtype)\n",
        "print(ones.dtype)\n",
        "print(zeroes.dtype)"
      ],
      "metadata": {
        "id": "z35WJTAZ52Va",
        "outputId": "fcfb65bf-ef70-4a2d-d6bd-b5b428076b86",
        "colab": {
          "base_uri": "https://localhost:8080/"
        }
      },
      "execution_count": null,
      "outputs": [
        {
          "output_type": "stream",
          "name": "stdout",
          "text": [
            "torch.float32\n",
            "torch.float32\n",
            "torch.float32\n"
          ]
        }
      ]
    },
    {
      "cell_type": "markdown",
      "source": [
        "# Creating a range of tensors and tensors-like"
      ],
      "metadata": {
        "id": "1IQEBF-36Qdx"
      }
    },
    {
      "cell_type": "code",
      "source": [
        "# Use torch.range()\n",
        "print(torch.range(1, 10))\n",
        "print(torch.arange(11, 20))\n",
        "print(torch.arange(start=0, end=1000, step=77))\n",
        "print(torch.arange(start=0, end=11, step=1))\n",
        "print(\"\\n\")"
      ],
      "metadata": {
        "id": "kk7unGo36jry",
        "outputId": "1a65e331-2785-4859-8090-f40cb641a09c",
        "colab": {
          "base_uri": "https://localhost:8080/"
        }
      },
      "execution_count": null,
      "outputs": [
        {
          "output_type": "stream",
          "name": "stdout",
          "text": [
            "tensor([ 1.,  2.,  3.,  4.,  5.,  6.,  7.,  8.,  9., 10.])\n",
            "tensor([11, 12, 13, 14, 15, 16, 17, 18, 19])\n",
            "tensor([  0,  77, 154, 231, 308, 385, 462, 539, 616, 693, 770, 847, 924])\n",
            "tensor([ 0,  1,  2,  3,  4,  5,  6,  7,  8,  9, 10])\n",
            "\n",
            "\n"
          ]
        },
        {
          "output_type": "stream",
          "name": "stderr",
          "text": [
            "<ipython-input-27-c2417c2d234e>:2: UserWarning: torch.range is deprecated and will be removed in a future release because its behavior is inconsistent with Python's range builtin. Instead, use torch.arange, which produces values in [start, end).\n",
            "  print(torch.range(1, 10))\n"
          ]
        }
      ]
    },
    {
      "cell_type": "code",
      "source": [
        "# Creating tensors like\n",
        "ten_zeros = torch.zeros_like(input=random_tensor)  # Create a tensor of all zeros with the same shape as random_tensor\n",
        "ten_zeros"
      ],
      "metadata": {
        "id": "es8EYPKq72ua",
        "outputId": "9a276b2d-a076-40dd-c67e-3667d260b523",
        "colab": {
          "base_uri": "https://localhost:8080/"
        }
      },
      "execution_count": null,
      "outputs": [
        {
          "output_type": "execute_result",
          "data": {
            "text/plain": [
              "tensor([[0., 0., 0., 0.],\n",
              "        [0., 0., 0., 0.],\n",
              "        [0., 0., 0., 0.]])"
            ]
          },
          "metadata": {},
          "execution_count": 28
        }
      ]
    },
    {
      "cell_type": "markdown",
      "source": [
        "# Tensor datatypes\n",
        "**Common Issues or Error that occurs**   \n",
        "      1.Tensors not right datatype - to troubleshoot tensor.dtype     \n",
        "      2.Tensors not right shape - to troubleshoot tensor.shape  \n",
        "      3.Tensors not on the right device - to troubleshoot tensor.device"
      ],
      "metadata": {
        "id": "o6dRBZb-9Xq7"
      }
    },
    {
      "cell_type": "code",
      "source": [
        "# Float 32 tensor by default\n",
        "float_32_tensor = torch.tensor([3.0, 6.0, 9.0],\n",
        "                               dtype=None,  # what datatype is the tensor (e.g. float32 or float16)\n",
        "                               device=None, # what device is your tensor on\n",
        "                               requires_grad=False) # whether or not to track gradients with this tensors operations\n",
        "float_32_tensor"
      ],
      "metadata": {
        "id": "0hp8nXfJ9b8y",
        "outputId": "ccd43699-29d9-486f-cd0b-722bd7625da1",
        "colab": {
          "base_uri": "https://localhost:8080/"
        }
      },
      "execution_count": null,
      "outputs": [
        {
          "output_type": "execute_result",
          "data": {
            "text/plain": [
              "tensor([3., 6., 9.])"
            ]
          },
          "metadata": {},
          "execution_count": 29
        }
      ]
    },
    {
      "cell_type": "code",
      "source": [
        "float_16_tensor = torch.tensor([3.0, 6.0, 9.0],\n",
        "                               dtype=torch.float16) # what datatype is the tensor (e.g. float32 or float16)\n",
        "float_16_tensor"
      ],
      "metadata": {
        "id": "8OYOoOZm9tEq",
        "outputId": "51ff92fc-5900-4528-da7e-dd767c4ee0e4",
        "colab": {
          "base_uri": "https://localhost:8080/"
        }
      },
      "execution_count": null,
      "outputs": [
        {
          "output_type": "execute_result",
          "data": {
            "text/plain": [
              "tensor([3., 6., 9.], dtype=torch.float16)"
            ]
          },
          "metadata": {},
          "execution_count": 30
        }
      ]
    },
    {
      "cell_type": "code",
      "source": [
        "float_16_tensor = float_32_tensor.type(torch.float16)\n",
        "float_16_tensor"
      ],
      "metadata": {
        "id": "WOoF6FP4_-ZJ",
        "outputId": "167e6fb8-85de-423d-f929-984755bcce28",
        "colab": {
          "base_uri": "https://localhost:8080/"
        }
      },
      "execution_count": null,
      "outputs": [
        {
          "output_type": "execute_result",
          "data": {
            "text/plain": [
              "tensor([3., 6., 9.], dtype=torch.float16)"
            ]
          },
          "metadata": {},
          "execution_count": 31
        }
      ]
    },
    {
      "cell_type": "code",
      "source": [
        "float_16_tensor * float_32_tensor"
      ],
      "metadata": {
        "id": "L4QXttduAZKi",
        "outputId": "a0267331-d244-477a-af64-7b32da6cd547",
        "colab": {
          "base_uri": "https://localhost:8080/"
        }
      },
      "execution_count": null,
      "outputs": [
        {
          "output_type": "execute_result",
          "data": {
            "text/plain": [
              "tensor([ 9., 36., 81.])"
            ]
          },
          "metadata": {},
          "execution_count": 32
        }
      ]
    },
    {
      "cell_type": "code",
      "source": [
        "int_32_tensor = torch.tensor([3, 6, 9], dtype=torch.int32)\n",
        "int_32_tensor"
      ],
      "metadata": {
        "id": "WgCpIBzJAz-K",
        "outputId": "39add5a0-f3b0-4fb1-8c5e-dc21882c2372",
        "colab": {
          "base_uri": "https://localhost:8080/"
        }
      },
      "execution_count": null,
      "outputs": [
        {
          "output_type": "execute_result",
          "data": {
            "text/plain": [
              "tensor([3, 6, 9], dtype=torch.int32)"
            ]
          },
          "metadata": {},
          "execution_count": 33
        }
      ]
    },
    {
      "cell_type": "code",
      "source": [
        "float_32_tensor * int_32_tensor"
      ],
      "metadata": {
        "id": "NVBiCAL8A48i",
        "outputId": "75feb59b-b8ca-4657-b68d-fdfb72866088",
        "colab": {
          "base_uri": "https://localhost:8080/"
        }
      },
      "execution_count": null,
      "outputs": [
        {
          "output_type": "execute_result",
          "data": {
            "text/plain": [
              "tensor([ 9., 36., 81.])"
            ]
          },
          "metadata": {},
          "execution_count": 34
        }
      ]
    },
    {
      "cell_type": "markdown",
      "source": [
        "# Tensor Attribute"
      ],
      "metadata": {
        "id": "TwmTXbjZDWaT"
      }
    },
    {
      "cell_type": "code",
      "source": [
        "# Create some tensor and Tensor attributes\n",
        "some_tensor = torch.rand(3, 4)\n",
        "print(some_tensor)\n",
        "print(f\"Datatype of tensor: {some_tensor.dtype}\")\n",
        "print(f\"Shape of tensor: {some_tensor.shape}\")\n",
        "print(f\"Device tensor is on: {some_tensor.device}\")"
      ],
      "metadata": {
        "id": "_Sxr4PYHBw3y",
        "outputId": "03e6bf82-0367-4774-e57f-7c432dedf0d6",
        "colab": {
          "base_uri": "https://localhost:8080/"
        }
      },
      "execution_count": null,
      "outputs": [
        {
          "output_type": "stream",
          "name": "stdout",
          "text": [
            "tensor([[0.1961, 0.9006, 0.0608, 0.4313],\n",
            "        [0.1042, 0.0354, 0.2457, 0.5109],\n",
            "        [0.2346, 0.4642, 0.3954, 0.1357]])\n",
            "Datatype of tensor: torch.float32\n",
            "Shape of tensor: torch.Size([3, 4])\n",
            "Device tensor is on: cpu\n"
          ]
        }
      ]
    },
    {
      "cell_type": "markdown",
      "source": [
        "# Manipulating Tensors (tensor operations)"
      ],
      "metadata": {
        "id": "LDnje_qfS3Xh"
      }
    },
    {
      "cell_type": "code",
      "source": [
        "# Create a tensor and add 10 to it\n",
        "tensor = torch.tensor([1, 2, 3])\n",
        "tensor + 10"
      ],
      "metadata": {
        "id": "TCjHmy4QS7iJ",
        "outputId": "10c537a7-bcc7-4359-c93b-012578507cde",
        "colab": {
          "base_uri": "https://localhost:8080/"
        }
      },
      "execution_count": null,
      "outputs": [
        {
          "output_type": "execute_result",
          "data": {
            "text/plain": [
              "tensor([11, 12, 13])"
            ]
          },
          "metadata": {},
          "execution_count": 36
        }
      ]
    },
    {
      "cell_type": "code",
      "source": [
        "# Multiply tensor by 10\n",
        "print(tensor * 10)\n",
        "tensor = tensor * 20\n",
        "tensor"
      ],
      "metadata": {
        "id": "LZW1XODCTq_4",
        "outputId": "7df39616-9e6d-457c-9f8b-74f4d6d9e3e1",
        "colab": {
          "base_uri": "https://localhost:8080/"
        }
      },
      "execution_count": null,
      "outputs": [
        {
          "output_type": "stream",
          "name": "stdout",
          "text": [
            "tensor([10, 20, 30])\n"
          ]
        },
        {
          "output_type": "execute_result",
          "data": {
            "text/plain": [
              "tensor([20, 40, 60])"
            ]
          },
          "metadata": {},
          "execution_count": 37
        }
      ]
    },
    {
      "cell_type": "code",
      "source": [
        "# Try out PyTorch inbuilt functions\n",
        "torch.mul(tensor, 10)"
      ],
      "metadata": {
        "id": "l4GtSs44UOJh",
        "outputId": "bc979e03-dfb9-4f88-e141-802c1e41c77a",
        "colab": {
          "base_uri": "https://localhost:8080/"
        }
      },
      "execution_count": null,
      "outputs": [
        {
          "output_type": "execute_result",
          "data": {
            "text/plain": [
              "tensor([200, 400, 600])"
            ]
          },
          "metadata": {},
          "execution_count": 38
        }
      ]
    },
    {
      "cell_type": "markdown",
      "source": [
        "# Matrix Multiplication\n",
        "Two main ways of performing multiplication in neural networks and deep learning:  \n",
        "1.Element wise multplication  \n",
        "2.Matrix multiplication(dot product)\n",
        "\n",
        "There are two main rules that performinng matrix multi needs to satisfy:\n",
        "1. The **inner dimentions** must match:     \n",
        "  (3, 2) @ (3, 2) - won't work      \n",
        "  (2, 3) @ (3, 2) - will work     \n",
        "  (3, 2) @ (2, 3) - will work\n",
        "\n",
        "2.  The result matrix has the shape of the **outer dimentions**   \n",
        "  (2, 3) @ (3, 2) -> (2, 2)   \n",
        "  (3, 2) @ (2, 3) -> (3, 3)"
      ],
      "metadata": {
        "id": "Rvb1tgccU5dp"
      }
    },
    {
      "cell_type": "code",
      "source": [
        "# Element wise multiplication\n",
        "print(tensor, \"*\", tensor)\n",
        "print(f\"Equals: {tensor * tensor}\")"
      ],
      "metadata": {
        "id": "82Qr7czeUx3Z",
        "outputId": "74d826ce-7951-4c82-cdc2-ce2a2f8a50bd",
        "colab": {
          "base_uri": "https://localhost:8080/"
        }
      },
      "execution_count": null,
      "outputs": [
        {
          "output_type": "stream",
          "name": "stdout",
          "text": [
            "tensor([20, 40, 60]) * tensor([20, 40, 60])\n",
            "Equals: tensor([ 400, 1600, 3600])\n"
          ]
        }
      ]
    },
    {
      "cell_type": "code",
      "source": [
        "# Matrix Multiplication\n",
        "torch.matmul(tensor, tensor)"
      ],
      "metadata": {
        "id": "VH4h3ULeV57g",
        "outputId": "162ff10b-bf73-4bc4-975b-2e685403d69a",
        "colab": {
          "base_uri": "https://localhost:8080/"
        }
      },
      "execution_count": null,
      "outputs": [
        {
          "output_type": "execute_result",
          "data": {
            "text/plain": [
              "tensor(5600)"
            ]
          },
          "metadata": {},
          "execution_count": 40
        }
      ]
    },
    {
      "cell_type": "code",
      "source": [
        "tensor @ tensor"
      ],
      "metadata": {
        "id": "IRgrAPqEXpFA",
        "outputId": "f8461249-4b7f-446f-c97e-bcee49607e15",
        "colab": {
          "base_uri": "https://localhost:8080/"
        }
      },
      "execution_count": null,
      "outputs": [
        {
          "output_type": "execute_result",
          "data": {
            "text/plain": [
              "tensor(5600)"
            ]
          },
          "metadata": {},
          "execution_count": 41
        }
      ]
    },
    {
      "cell_type": "code",
      "source": [
        "torch.matmul(torch.rand(3, 2), torch.rand(3, 2))"
      ],
      "metadata": {
        "id": "zG5xAY69YRKZ",
        "outputId": "c0e04f4b-1565-4721-c07c-1930a141ce65",
        "colab": {
          "base_uri": "https://localhost:8080/",
          "height": 141
        }
      },
      "execution_count": null,
      "outputs": [
        {
          "output_type": "error",
          "ename": "RuntimeError",
          "evalue": "mat1 and mat2 shapes cannot be multiplied (3x2 and 3x2)",
          "traceback": [
            "\u001b[0;31m---------------------------------------------------------------------------\u001b[0m",
            "\u001b[0;31mRuntimeError\u001b[0m                              Traceback (most recent call last)",
            "\u001b[0;32m<ipython-input-42-9adeb7046560>\u001b[0m in \u001b[0;36m<cell line: 1>\u001b[0;34m()\u001b[0m\n\u001b[0;32m----> 1\u001b[0;31m \u001b[0mtorch\u001b[0m\u001b[0;34m.\u001b[0m\u001b[0mmatmul\u001b[0m\u001b[0;34m(\u001b[0m\u001b[0mtorch\u001b[0m\u001b[0;34m.\u001b[0m\u001b[0mrand\u001b[0m\u001b[0;34m(\u001b[0m\u001b[0;36m3\u001b[0m\u001b[0;34m,\u001b[0m \u001b[0;36m2\u001b[0m\u001b[0;34m)\u001b[0m\u001b[0;34m,\u001b[0m \u001b[0mtorch\u001b[0m\u001b[0;34m.\u001b[0m\u001b[0mrand\u001b[0m\u001b[0;34m(\u001b[0m\u001b[0;36m3\u001b[0m\u001b[0;34m,\u001b[0m \u001b[0;36m2\u001b[0m\u001b[0;34m)\u001b[0m\u001b[0;34m)\u001b[0m\u001b[0;34m\u001b[0m\u001b[0;34m\u001b[0m\u001b[0m\n\u001b[0m",
            "\u001b[0;31mRuntimeError\u001b[0m: mat1 and mat2 shapes cannot be multiplied (3x2 and 3x2)"
          ]
        }
      ]
    },
    {
      "cell_type": "code",
      "source": [
        "print(torch.matmul(torch.rand(3, 2), torch.rand(2, 3)))\n",
        "torch.matmul(torch.rand(3, 2), torch.rand(2, 3)).shape\n"
      ],
      "metadata": {
        "id": "mY_DuFWQYfFR",
        "outputId": "e4d8c416-b04b-4c39-9715-65145e9f05be",
        "colab": {
          "base_uri": "https://localhost:8080/"
        }
      },
      "execution_count": null,
      "outputs": [
        {
          "output_type": "stream",
          "name": "stdout",
          "text": [
            "tensor([[0.2211, 0.3644, 0.9024],\n",
            "        [0.1268, 0.1128, 0.1398],\n",
            "        [0.4812, 0.4499, 0.6162]])\n"
          ]
        },
        {
          "output_type": "execute_result",
          "data": {
            "text/plain": [
              "torch.Size([3, 3])"
            ]
          },
          "metadata": {},
          "execution_count": 43
        }
      ]
    },
    {
      "cell_type": "markdown",
      "source": [
        "# One of the most common errors in deep learning: shape errors"
      ],
      "metadata": {
        "id": "R5uO37AFaaIY"
      }
    },
    {
      "cell_type": "code",
      "source": [
        "# Shapes for matrix multiplication\n",
        "tensor_A = torch.tensor([[1, 2],\n",
        "                         [3, 4],\n",
        "                         [5, 6]])\n",
        "tensor_B = torch.tensor([[7, 10],\n",
        "                         [8, 11],\n",
        "                         [9, 12]])\n",
        "torch.mm(tensor_A, tensor_B) # torch.mm is the same as torch.matmul (it's an alias for writing less code)"
      ],
      "metadata": {
        "id": "B1uNgLSkag0R",
        "outputId": "facc82e7-fa19-4537-9a49-0cc3a48bc31c",
        "colab": {
          "base_uri": "https://localhost:8080/",
          "height": 176
        }
      },
      "execution_count": null,
      "outputs": [
        {
          "output_type": "error",
          "ename": "RuntimeError",
          "evalue": "mat1 and mat2 shapes cannot be multiplied (3x2 and 3x2)",
          "traceback": [
            "\u001b[0;31m---------------------------------------------------------------------------\u001b[0m",
            "\u001b[0;31mRuntimeError\u001b[0m                              Traceback (most recent call last)",
            "\u001b[0;32m<ipython-input-47-2825187717a5>\u001b[0m in \u001b[0;36m<cell line: 8>\u001b[0;34m()\u001b[0m\n\u001b[1;32m      6\u001b[0m                          \u001b[0;34m[\u001b[0m\u001b[0;36m8\u001b[0m\u001b[0;34m,\u001b[0m \u001b[0;36m11\u001b[0m\u001b[0;34m]\u001b[0m\u001b[0;34m,\u001b[0m\u001b[0;34m\u001b[0m\u001b[0;34m\u001b[0m\u001b[0m\n\u001b[1;32m      7\u001b[0m                          [9, 12]])\n\u001b[0;32m----> 8\u001b[0;31m \u001b[0mtorch\u001b[0m\u001b[0;34m.\u001b[0m\u001b[0mmm\u001b[0m\u001b[0;34m(\u001b[0m\u001b[0mtensor_A\u001b[0m\u001b[0;34m,\u001b[0m \u001b[0mtensor_B\u001b[0m\u001b[0;34m)\u001b[0m \u001b[0;31m# torch.mm is the same as torch.matmul (it's an alias for writing less code)\u001b[0m\u001b[0;34m\u001b[0m\u001b[0;34m\u001b[0m\u001b[0m\n\u001b[0m",
            "\u001b[0;31mRuntimeError\u001b[0m: mat1 and mat2 shapes cannot be multiplied (3x2 and 3x2)"
          ]
        }
      ]
    },
    {
      "cell_type": "code",
      "source": [
        "tensor_A.shape, tensor_B.shape"
      ],
      "metadata": {
        "id": "oLDIDyW_cAhI",
        "outputId": "33307e46-d9c2-4425-d7cf-545ecdc8a758",
        "colab": {
          "base_uri": "https://localhost:8080/"
        }
      },
      "execution_count": null,
      "outputs": [
        {
          "output_type": "execute_result",
          "data": {
            "text/plain": [
              "(torch.Size([3, 2]), torch.Size([3, 2]))"
            ]
          },
          "metadata": {},
          "execution_count": 48
        }
      ]
    },
    {
      "cell_type": "markdown",
      "source": [
        "To Fix our tensor shape issues, we can manipulate the shape of one of ours tensors using **transpose**\n",
        "A **transpose** switches the axes or dimentions of a given tensor"
      ],
      "metadata": {
        "id": "x-dHvxm3b_np"
      }
    },
    {
      "cell_type": "code",
      "source": [
        "print(f\"Oringinal:\\n\\t{tensor_B}\")\n",
        "print(f\"Transpose:\\n\\t{tensor_B.T}\")\n",
        "print(f\"Shape:\\t{tensor_B.T.shape}\")"
      ],
      "metadata": {
        "id": "tl_UQh2-cpNI",
        "outputId": "6e5d1b7e-ddce-4438-c26c-73a0a749779c",
        "colab": {
          "base_uri": "https://localhost:8080/"
        }
      },
      "execution_count": null,
      "outputs": [
        {
          "output_type": "stream",
          "name": "stdout",
          "text": [
            "Oringinal:\n",
            "\ttensor([[ 7, 10],\n",
            "        [ 8, 11],\n",
            "        [ 9, 12]])\n",
            "Transpose:\n",
            "\ttensor([[ 7,  8,  9],\n",
            "        [10, 11, 12]])\n",
            "Shape:\ttorch.Size([2, 3])\n"
          ]
        }
      ]
    },
    {
      "cell_type": "code",
      "source": [
        "# The matrix multi operation works when tensor_B is transposed\n",
        "torch.mm(tensor_A, tensor_B.T) #3X2 2X3 ->3X3"
      ],
      "metadata": {
        "id": "ZSmf63kRdluR",
        "outputId": "3a0dbc12-af13-42db-b3a4-10bb69f5d569",
        "colab": {
          "base_uri": "https://localhost:8080/"
        }
      },
      "execution_count": null,
      "outputs": [
        {
          "output_type": "execute_result",
          "data": {
            "text/plain": [
              "tensor([[ 27,  30,  33],\n",
              "        [ 61,  68,  75],\n",
              "        [ 95, 106, 117]])"
            ]
          },
          "metadata": {},
          "execution_count": 50
        }
      ]
    },
    {
      "cell_type": "markdown",
      "source": [
        "# Find the min, max, mean, sum, etc (tensor aggregation)"
      ],
      "metadata": {
        "id": "eshDe2Gcky06"
      }
    },
    {
      "cell_type": "code",
      "source": [
        "# Create a tensor\n",
        "x = torch.arange(1, 100, 10)\n",
        "x"
      ],
      "metadata": {
        "id": "nolGaZ6Xk7RA",
        "outputId": "9c59fb55-4684-48c4-827c-f4890539876b",
        "colab": {
          "base_uri": "https://localhost:8080/"
        }
      },
      "execution_count": null,
      "outputs": [
        {
          "output_type": "execute_result",
          "data": {
            "text/plain": [
              "tensor([ 1, 11, 21, 31, 41, 51, 61, 71, 81, 91])"
            ]
          },
          "metadata": {},
          "execution_count": 51
        }
      ]
    },
    {
      "cell_type": "code",
      "source": [
        "# Find the min\n",
        "torch.min(x), x.min()"
      ],
      "metadata": {
        "id": "x7JEWehulASw",
        "outputId": "cc5b901d-e26e-4156-ed65-0767d9feea4a",
        "colab": {
          "base_uri": "https://localhost:8080/"
        }
      },
      "execution_count": null,
      "outputs": [
        {
          "output_type": "execute_result",
          "data": {
            "text/plain": [
              "(tensor(1), tensor(1))"
            ]
          },
          "metadata": {},
          "execution_count": 52
        }
      ]
    },
    {
      "cell_type": "code",
      "source": [
        "# Find the max\n",
        "torch.max(x), x.max()"
      ],
      "metadata": {
        "id": "PotpUA6elGyB",
        "outputId": "5f1c203d-8dad-4f15-de59-fad41d9fa1ea",
        "colab": {
          "base_uri": "https://localhost:8080/"
        }
      },
      "execution_count": null,
      "outputs": [
        {
          "output_type": "execute_result",
          "data": {
            "text/plain": [
              "(tensor(91), tensor(91))"
            ]
          },
          "metadata": {},
          "execution_count": 53
        }
      ]
    },
    {
      "cell_type": "code",
      "source": [
        "# Find the mean\n",
        "torch.mean(x)"
      ],
      "metadata": {
        "id": "c_RuaD28lNv5",
        "outputId": "9e7d9eb0-ec8c-4bf3-dd0a-5bcc4e96a287",
        "colab": {
          "base_uri": "https://localhost:8080/",
          "height": 158
        }
      },
      "execution_count": null,
      "outputs": [
        {
          "output_type": "error",
          "ename": "RuntimeError",
          "evalue": "mean(): could not infer output dtype. Input dtype must be either a floating point or complex dtype. Got: Long",
          "traceback": [
            "\u001b[0;31m---------------------------------------------------------------------------\u001b[0m",
            "\u001b[0;31mRuntimeError\u001b[0m                              Traceback (most recent call last)",
            "\u001b[0;32m<ipython-input-55-7519b7c6f2fb>\u001b[0m in \u001b[0;36m<cell line: 2>\u001b[0;34m()\u001b[0m\n\u001b[1;32m      1\u001b[0m \u001b[0;31m# Find the mean\u001b[0m\u001b[0;34m\u001b[0m\u001b[0;34m\u001b[0m\u001b[0m\n\u001b[0;32m----> 2\u001b[0;31m \u001b[0mtorch\u001b[0m\u001b[0;34m.\u001b[0m\u001b[0mmean\u001b[0m\u001b[0;34m(\u001b[0m\u001b[0mx\u001b[0m\u001b[0;34m)\u001b[0m\u001b[0;34m\u001b[0m\u001b[0;34m\u001b[0m\u001b[0m\n\u001b[0m",
            "\u001b[0;31mRuntimeError\u001b[0m: mean(): could not infer output dtype. Input dtype must be either a floating point or complex dtype. Got: Long"
          ]
        }
      ]
    },
    {
      "cell_type": "code",
      "source": [
        "torch.mean(x.type(torch.float32)), x.type(torch.float32).mean()"
      ],
      "metadata": {
        "id": "8aSaLA0JlUzY",
        "outputId": "c91171ab-1076-4bc6-8347-54185778815f",
        "colab": {
          "base_uri": "https://localhost:8080/"
        }
      },
      "execution_count": null,
      "outputs": [
        {
          "output_type": "execute_result",
          "data": {
            "text/plain": [
              "(tensor(46.), tensor(46.))"
            ]
          },
          "metadata": {},
          "execution_count": 57
        }
      ]
    },
    {
      "cell_type": "code",
      "source": [
        "# Find the sum\n",
        "torch.sum(x), x.sum()"
      ],
      "metadata": {
        "id": "5VfTfdiSl01w",
        "outputId": "4a489160-ad95-4b64-eae3-b2256bc0b038",
        "colab": {
          "base_uri": "https://localhost:8080/"
        }
      },
      "execution_count": null,
      "outputs": [
        {
          "output_type": "execute_result",
          "data": {
            "text/plain": [
              "(tensor(460), tensor(460))"
            ]
          },
          "metadata": {},
          "execution_count": 58
        }
      ]
    },
    {
      "cell_type": "markdown",
      "source": [
        "# Positional Min and Max\n",
        "**argmin(), argmax()**"
      ],
      "metadata": {
        "id": "BqUY6jRQmSuK"
      }
    },
    {
      "cell_type": "code",
      "source": [
        "x"
      ],
      "metadata": {
        "id": "uJSi1LXSmjzQ",
        "outputId": "9fa940a9-053b-4707-f553-b06d0bd4c994",
        "colab": {
          "base_uri": "https://localhost:8080/"
        }
      },
      "execution_count": null,
      "outputs": [
        {
          "output_type": "execute_result",
          "data": {
            "text/plain": [
              "tensor([ 1, 11, 21, 31, 41, 51, 61, 71, 81, 91])"
            ]
          },
          "metadata": {},
          "execution_count": 59
        }
      ]
    },
    {
      "cell_type": "code",
      "source": [
        "# Find the position in tensor that has the minimum value with argmin() -> returns index position of target tensor wheere the minimum value occur\n",
        "x.argmin()"
      ],
      "metadata": {
        "id": "f8rHu_hkmlTZ",
        "outputId": "4f4627e8-b764-4527-8b05-123c106896e1",
        "colab": {
          "base_uri": "https://localhost:8080/"
        }
      },
      "execution_count": null,
      "outputs": [
        {
          "output_type": "execute_result",
          "data": {
            "text/plain": [
              "tensor(0)"
            ]
          },
          "metadata": {},
          "execution_count": 60
        }
      ]
    },
    {
      "cell_type": "code",
      "source": [
        "x[0]"
      ],
      "metadata": {
        "id": "MIoTwqzKm9wi",
        "outputId": "416c7326-c37d-4573-f2f8-9eaa5f5ea843",
        "colab": {
          "base_uri": "https://localhost:8080/"
        }
      },
      "execution_count": null,
      "outputs": [
        {
          "output_type": "execute_result",
          "data": {
            "text/plain": [
              "tensor(1)"
            ]
          },
          "metadata": {},
          "execution_count": 61
        }
      ]
    },
    {
      "cell_type": "code",
      "source": [
        "# Find the position in tensor that has the maximum value with argmin() -> returns index position of target tensor wheere the minimum value occur\n",
        "x.argmax()"
      ],
      "metadata": {
        "id": "Rccx3xo-nBSw",
        "outputId": "cb09c9c9-7884-4333-e6b0-2814a3e80dca",
        "colab": {
          "base_uri": "https://localhost:8080/"
        }
      },
      "execution_count": null,
      "outputs": [
        {
          "output_type": "execute_result",
          "data": {
            "text/plain": [
              "tensor(9)"
            ]
          },
          "metadata": {},
          "execution_count": 62
        }
      ]
    },
    {
      "cell_type": "code",
      "source": [
        "x[9]"
      ],
      "metadata": {
        "id": "YtwF5fYZnFGg",
        "outputId": "d5689a4d-36df-4b0e-9ec1-90e689348fdf",
        "colab": {
          "base_uri": "https://localhost:8080/"
        }
      },
      "execution_count": null,
      "outputs": [
        {
          "output_type": "execute_result",
          "data": {
            "text/plain": [
              "tensor(91)"
            ]
          },
          "metadata": {},
          "execution_count": 63
        }
      ]
    },
    {
      "cell_type": "markdown",
      "source": [
        "# Reshaping, stacking, squeezing and unsqueezing tensors\n",
        "\n",
        "* Reshaping - reshapes an input tensor to a defined shape\n",
        "* View - Retuen a view of an input tensor of certain shape but keep the same memory as the original tensor\n",
        "* Stacking - combine multiple tensors on top of each other (vstack) or side by side (hstack)\n",
        "* Squeeze - removes all `1` dimentions from a tensor\n",
        "* Unsqueeze - add a `1` dimention to a target tensor\n",
        "*Permute- Return a view of the input with dimentions permuted (swapped) in a certain way"
      ],
      "metadata": {
        "id": "tFLdIo9Anwox"
      }
    },
    {
      "cell_type": "code",
      "source": [
        "# Create a tensor\n",
        "import torch\n",
        "x = torch.arange(1., 11.)\n",
        "x, x.shape"
      ],
      "metadata": {
        "id": "fxt8b9ZDpCE5",
        "outputId": "a7f2354b-efef-4754-f326-1560fc36ca89",
        "colab": {
          "base_uri": "https://localhost:8080/"
        }
      },
      "execution_count": null,
      "outputs": [
        {
          "output_type": "execute_result",
          "data": {
            "text/plain": [
              "(tensor([ 1.,  2.,  3.,  4.,  5.,  6.,  7.,  8.,  9., 10.]), torch.Size([10]))"
            ]
          },
          "metadata": {},
          "execution_count": 64
        }
      ]
    },
    {
      "cell_type": "code",
      "source": [
        "# Add an extra dimention\n",
        "x_reshaped = x.reshape(1, 7)\n",
        "x_reshaped, x_reshaped.shape"
      ],
      "metadata": {
        "id": "gt0qStiKpRgw",
        "outputId": "4d131a8c-5e4e-4f3a-8b8d-29a5c543447a",
        "colab": {
          "base_uri": "https://localhost:8080/",
          "height": 176
        }
      },
      "execution_count": null,
      "outputs": [
        {
          "output_type": "error",
          "ename": "RuntimeError",
          "evalue": "shape '[1, 7]' is invalid for input of size 10",
          "traceback": [
            "\u001b[0;31m---------------------------------------------------------------------------\u001b[0m",
            "\u001b[0;31mRuntimeError\u001b[0m                              Traceback (most recent call last)",
            "\u001b[0;32m<ipython-input-66-0da5f555183c>\u001b[0m in \u001b[0;36m<cell line: 2>\u001b[0;34m()\u001b[0m\n\u001b[1;32m      1\u001b[0m \u001b[0;31m# Add an extra dimention\u001b[0m\u001b[0;34m\u001b[0m\u001b[0;34m\u001b[0m\u001b[0m\n\u001b[0;32m----> 2\u001b[0;31m \u001b[0mx_reshaped\u001b[0m \u001b[0;34m=\u001b[0m \u001b[0mx\u001b[0m\u001b[0;34m.\u001b[0m\u001b[0mreshape\u001b[0m\u001b[0;34m(\u001b[0m\u001b[0;36m1\u001b[0m\u001b[0;34m,\u001b[0m \u001b[0;36m7\u001b[0m\u001b[0;34m)\u001b[0m\u001b[0;34m\u001b[0m\u001b[0;34m\u001b[0m\u001b[0m\n\u001b[0m\u001b[1;32m      3\u001b[0m \u001b[0mx_reshaped\u001b[0m\u001b[0;34m,\u001b[0m \u001b[0mx_reshaped\u001b[0m\u001b[0;34m.\u001b[0m\u001b[0mshape\u001b[0m\u001b[0;34m\u001b[0m\u001b[0;34m\u001b[0m\u001b[0m\n",
            "\u001b[0;31mRuntimeError\u001b[0m: shape '[1, 7]' is invalid for input of size 10"
          ]
        }
      ]
    },
    {
      "cell_type": "code",
      "source": [
        "x_reshaped = x.reshape(5, 2)\n",
        "x_reshaped, x_reshaped.shape"
      ],
      "metadata": {
        "id": "aeQo4R0zpmAJ",
        "outputId": "bd61b8c4-58e6-4bb4-ba6a-ca9a6c972b6a",
        "colab": {
          "base_uri": "https://localhost:8080/"
        }
      },
      "execution_count": null,
      "outputs": [
        {
          "output_type": "execute_result",
          "data": {
            "text/plain": [
              "(tensor([[ 1.,  2.],\n",
              "         [ 3.,  4.],\n",
              "         [ 5.,  6.],\n",
              "         [ 7.,  8.],\n",
              "         [ 9., 10.]]),\n",
              " torch.Size([5, 2]))"
            ]
          },
          "metadata": {},
          "execution_count": 67
        }
      ]
    },
    {
      "cell_type": "code",
      "source": [
        "# Change the view\n",
        "z = x.view(1, 7)\n",
        "z, z.shape"
      ],
      "metadata": {
        "id": "y4GQAO3RpwtI",
        "outputId": "21e2b114-f3ac-437f-98a5-2e8b48dd511c",
        "colab": {
          "base_uri": "https://localhost:8080/",
          "height": 176
        }
      },
      "execution_count": null,
      "outputs": [
        {
          "output_type": "error",
          "ename": "RuntimeError",
          "evalue": "shape '[1, 7]' is invalid for input of size 10",
          "traceback": [
            "\u001b[0;31m---------------------------------------------------------------------------\u001b[0m",
            "\u001b[0;31mRuntimeError\u001b[0m                              Traceback (most recent call last)",
            "\u001b[0;32m<ipython-input-68-d0c57080945d>\u001b[0m in \u001b[0;36m<cell line: 2>\u001b[0;34m()\u001b[0m\n\u001b[1;32m      1\u001b[0m \u001b[0;31m# Change the view\u001b[0m\u001b[0;34m\u001b[0m\u001b[0;34m\u001b[0m\u001b[0m\n\u001b[0;32m----> 2\u001b[0;31m \u001b[0mz\u001b[0m \u001b[0;34m=\u001b[0m \u001b[0mx\u001b[0m\u001b[0;34m.\u001b[0m\u001b[0mview\u001b[0m\u001b[0;34m(\u001b[0m\u001b[0;36m1\u001b[0m\u001b[0;34m,\u001b[0m \u001b[0;36m7\u001b[0m\u001b[0;34m)\u001b[0m\u001b[0;34m\u001b[0m\u001b[0;34m\u001b[0m\u001b[0m\n\u001b[0m\u001b[1;32m      3\u001b[0m \u001b[0mz\u001b[0m\u001b[0;34m,\u001b[0m \u001b[0mz\u001b[0m\u001b[0;34m.\u001b[0m\u001b[0mshape\u001b[0m\u001b[0;34m\u001b[0m\u001b[0;34m\u001b[0m\u001b[0m\n",
            "\u001b[0;31mRuntimeError\u001b[0m: shape '[1, 7]' is invalid for input of size 10"
          ]
        }
      ]
    },
    {
      "cell_type": "code",
      "source": [
        "# Change the view\n",
        "z = x.view(1, 10)\n",
        "z, z.shape\n",
        "# Changing z changes x (because a view of a tensor shares the same memort as the original tensor)"
      ],
      "metadata": {
        "id": "BBNuDnCcqOhJ",
        "outputId": "590edff1-b0e8-49ab-d055-e1c86d199269",
        "colab": {
          "base_uri": "https://localhost:8080/"
        }
      },
      "execution_count": null,
      "outputs": [
        {
          "output_type": "execute_result",
          "data": {
            "text/plain": [
              "(tensor([[ 1.,  2.,  3.,  4.,  5.,  6.,  7.,  8.,  9., 10.]]),\n",
              " torch.Size([1, 10]))"
            ]
          },
          "metadata": {},
          "execution_count": 69
        }
      ]
    },
    {
      "cell_type": "code",
      "source": [
        "z[:, 0] = 5\n",
        "z, x"
      ],
      "metadata": {
        "id": "wgb5u17rqlv4",
        "outputId": "4804f8a0-3462-41fb-df55-30b698de0c43",
        "colab": {
          "base_uri": "https://localhost:8080/"
        }
      },
      "execution_count": null,
      "outputs": [
        {
          "output_type": "execute_result",
          "data": {
            "text/plain": [
              "(tensor([[ 5.,  2.,  3.,  4.,  5.,  6.,  7.,  8.,  9., 10.]]),\n",
              " tensor([ 5.,  2.,  3.,  4.,  5.,  6.,  7.,  8.,  9., 10.]))"
            ]
          },
          "metadata": {},
          "execution_count": 70
        }
      ]
    },
    {
      "cell_type": "code",
      "source": [
        "z[0] = 4\n",
        "z, x"
      ],
      "metadata": {
        "id": "l51aW7OOqtwg",
        "outputId": "53e76851-86b1-47ec-fd86-38fa5d146e83",
        "colab": {
          "base_uri": "https://localhost:8080/"
        }
      },
      "execution_count": null,
      "outputs": [
        {
          "output_type": "execute_result",
          "data": {
            "text/plain": [
              "(tensor([[4., 4., 4., 4., 4., 4., 4., 4., 4., 4.]]),\n",
              " tensor([4., 4., 4., 4., 4., 4., 4., 4., 4., 4.]))"
            ]
          },
          "metadata": {},
          "execution_count": 71
        }
      ]
    },
    {
      "cell_type": "code",
      "source": [
        "# Stack tensors on top of each other\n",
        "x_stacked = torch.stack([x, x, x, x], dim=0)\n",
        "x_stacked"
      ],
      "metadata": {
        "id": "nao_AB5psQrI",
        "outputId": "e4769b3e-dfef-4f4b-d3c7-76626f44867f",
        "colab": {
          "base_uri": "https://localhost:8080/"
        }
      },
      "execution_count": null,
      "outputs": [
        {
          "output_type": "execute_result",
          "data": {
            "text/plain": [
              "tensor([[4., 4., 4., 4., 4., 4., 4., 4., 4., 4.],\n",
              "        [4., 4., 4., 4., 4., 4., 4., 4., 4., 4.],\n",
              "        [4., 4., 4., 4., 4., 4., 4., 4., 4., 4.],\n",
              "        [4., 4., 4., 4., 4., 4., 4., 4., 4., 4.]])"
            ]
          },
          "metadata": {},
          "execution_count": 72
        }
      ]
    },
    {
      "cell_type": "code",
      "source": [
        "x_stacked = torch.stack([x, x, x, x], dim=1)\n",
        "x_stacked"
      ],
      "metadata": {
        "id": "Ys8bh1bhsk04",
        "outputId": "91699d0c-ab1c-410f-d7d3-ec849aef4d92",
        "colab": {
          "base_uri": "https://localhost:8080/"
        }
      },
      "execution_count": null,
      "outputs": [
        {
          "output_type": "execute_result",
          "data": {
            "text/plain": [
              "tensor([[4., 4., 4., 4.],\n",
              "        [4., 4., 4., 4.],\n",
              "        [4., 4., 4., 4.],\n",
              "        [4., 4., 4., 4.],\n",
              "        [4., 4., 4., 4.],\n",
              "        [4., 4., 4., 4.],\n",
              "        [4., 4., 4., 4.],\n",
              "        [4., 4., 4., 4.],\n",
              "        [4., 4., 4., 4.],\n",
              "        [4., 4., 4., 4.]])"
            ]
          },
          "metadata": {},
          "execution_count": 73
        }
      ]
    },
    {
      "cell_type": "code",
      "source": [
        "x_stacked = torch.stack([x, x, x, x, x, x, x], dim=0)  # 7 tensor stack\n",
        "x_stacked"
      ],
      "metadata": {
        "id": "BNjjDY6rssyI",
        "outputId": "4716f630-2217-43f8-daf0-e0566e187411",
        "colab": {
          "base_uri": "https://localhost:8080/"
        }
      },
      "execution_count": null,
      "outputs": [
        {
          "output_type": "execute_result",
          "data": {
            "text/plain": [
              "tensor([[4., 4., 4., 4., 4., 4., 4., 4., 4., 4.],\n",
              "        [4., 4., 4., 4., 4., 4., 4., 4., 4., 4.],\n",
              "        [4., 4., 4., 4., 4., 4., 4., 4., 4., 4.],\n",
              "        [4., 4., 4., 4., 4., 4., 4., 4., 4., 4.],\n",
              "        [4., 4., 4., 4., 4., 4., 4., 4., 4., 4.],\n",
              "        [4., 4., 4., 4., 4., 4., 4., 4., 4., 4.],\n",
              "        [4., 4., 4., 4., 4., 4., 4., 4., 4., 4.]])"
            ]
          },
          "metadata": {},
          "execution_count": 74
        }
      ]
    },
    {
      "cell_type": "code",
      "source": [
        "x_stacked = torch.stack([x, x, x, x, x, x, x], dim=1)  # 7 tensor stack\n",
        "x_stacked"
      ],
      "metadata": {
        "id": "08hgbKars7So",
        "outputId": "a3eed844-03a1-4b2c-d7cc-e67a7870bf37",
        "colab": {
          "base_uri": "https://localhost:8080/"
        }
      },
      "execution_count": null,
      "outputs": [
        {
          "output_type": "execute_result",
          "data": {
            "text/plain": [
              "tensor([[4., 4., 4., 4., 4., 4., 4.],\n",
              "        [4., 4., 4., 4., 4., 4., 4.],\n",
              "        [4., 4., 4., 4., 4., 4., 4.],\n",
              "        [4., 4., 4., 4., 4., 4., 4.],\n",
              "        [4., 4., 4., 4., 4., 4., 4.],\n",
              "        [4., 4., 4., 4., 4., 4., 4.],\n",
              "        [4., 4., 4., 4., 4., 4., 4.],\n",
              "        [4., 4., 4., 4., 4., 4., 4.],\n",
              "        [4., 4., 4., 4., 4., 4., 4.],\n",
              "        [4., 4., 4., 4., 4., 4., 4.]])"
            ]
          },
          "metadata": {},
          "execution_count": 75
        }
      ]
    },
    {
      "cell_type": "code",
      "source": [
        "x_stacked = torch.stack([x, x, x, x], dim=2)\n",
        "x_stacked"
      ],
      "metadata": {
        "id": "tOukP1--spo7",
        "outputId": "de54ccae-c25b-48bf-c586-7c291edd7e89",
        "colab": {
          "base_uri": "https://localhost:8080/",
          "height": 158
        }
      },
      "execution_count": null,
      "outputs": [
        {
          "output_type": "error",
          "ename": "IndexError",
          "evalue": "Dimension out of range (expected to be in range of [-2, 1], but got 2)",
          "traceback": [
            "\u001b[0;31m---------------------------------------------------------------------------\u001b[0m",
            "\u001b[0;31mIndexError\u001b[0m                                Traceback (most recent call last)",
            "\u001b[0;32m<ipython-input-76-c3fffde45383>\u001b[0m in \u001b[0;36m<cell line: 1>\u001b[0;34m()\u001b[0m\n\u001b[0;32m----> 1\u001b[0;31m \u001b[0mx_stacked\u001b[0m \u001b[0;34m=\u001b[0m \u001b[0mtorch\u001b[0m\u001b[0;34m.\u001b[0m\u001b[0mstack\u001b[0m\u001b[0;34m(\u001b[0m\u001b[0;34m[\u001b[0m\u001b[0mx\u001b[0m\u001b[0;34m,\u001b[0m \u001b[0mx\u001b[0m\u001b[0;34m,\u001b[0m \u001b[0mx\u001b[0m\u001b[0;34m,\u001b[0m \u001b[0mx\u001b[0m\u001b[0;34m]\u001b[0m\u001b[0;34m,\u001b[0m \u001b[0mdim\u001b[0m\u001b[0;34m=\u001b[0m\u001b[0;36m2\u001b[0m\u001b[0;34m)\u001b[0m\u001b[0;34m\u001b[0m\u001b[0;34m\u001b[0m\u001b[0m\n\u001b[0m\u001b[1;32m      2\u001b[0m \u001b[0mx_stacked\u001b[0m\u001b[0;34m\u001b[0m\u001b[0;34m\u001b[0m\u001b[0m\n",
            "\u001b[0;31mIndexError\u001b[0m: Dimension out of range (expected to be in range of [-2, 1], but got 2)"
          ]
        }
      ]
    },
    {
      "cell_type": "code",
      "source": [
        "x_stacked = torch.hstack([x, x, x, x, x, x, x])  # 7 tensor stack\n",
        "x_stacked  # -> NOT SAME AS x_stacked = torch.stack([x, x, x, x, x, x, x], dim=1) dimention 1"
      ],
      "metadata": {
        "id": "STJ2bl0etKjZ",
        "outputId": "ebd0ab8e-0ad7-4b4c-8e67-2e91b2f528f1",
        "colab": {
          "base_uri": "https://localhost:8080/"
        }
      },
      "execution_count": null,
      "outputs": [
        {
          "output_type": "execute_result",
          "data": {
            "text/plain": [
              "tensor([4., 4., 4., 4., 4., 4., 4., 4., 4., 4., 4., 4., 4., 4., 4., 4., 4., 4.,\n",
              "        4., 4., 4., 4., 4., 4., 4., 4., 4., 4., 4., 4., 4., 4., 4., 4., 4., 4.,\n",
              "        4., 4., 4., 4., 4., 4., 4., 4., 4., 4., 4., 4., 4., 4., 4., 4., 4., 4.,\n",
              "        4., 4., 4., 4., 4., 4., 4., 4., 4., 4., 4., 4., 4., 4., 4., 4.])"
            ]
          },
          "metadata": {},
          "execution_count": 77
        }
      ]
    },
    {
      "cell_type": "code",
      "source": [
        "x_stacked = torch.vstack([x, x, x, x, x, x, x])  # 7 tensor stack , dim = 0 = vstack\n",
        "x_stacked  # -> same as  x_stacked = torch.stack([x, x, x, x, x, x, x], dim=0)"
      ],
      "metadata": {
        "id": "S7Tkz9djtF3Y",
        "outputId": "42238168-a63e-484c-8178-8f46491c3c49",
        "colab": {
          "base_uri": "https://localhost:8080/"
        }
      },
      "execution_count": null,
      "outputs": [
        {
          "output_type": "execute_result",
          "data": {
            "text/plain": [
              "tensor([[4., 4., 4., 4., 4., 4., 4., 4., 4., 4.],\n",
              "        [4., 4., 4., 4., 4., 4., 4., 4., 4., 4.],\n",
              "        [4., 4., 4., 4., 4., 4., 4., 4., 4., 4.],\n",
              "        [4., 4., 4., 4., 4., 4., 4., 4., 4., 4.],\n",
              "        [4., 4., 4., 4., 4., 4., 4., 4., 4., 4.],\n",
              "        [4., 4., 4., 4., 4., 4., 4., 4., 4., 4.],\n",
              "        [4., 4., 4., 4., 4., 4., 4., 4., 4., 4.]])"
            ]
          },
          "metadata": {},
          "execution_count": 78
        }
      ]
    },
    {
      "cell_type": "code",
      "source": [
        "# Squeeze - removes all 1 dimentionx\n",
        "x_reshaped = x.reshape(1, 10)\n",
        "x_reshaped"
      ],
      "metadata": {
        "id": "jtavJRUwuF9Z",
        "outputId": "ab219240-6b1d-4434-b2bb-63755b4658bb",
        "colab": {
          "base_uri": "https://localhost:8080/"
        }
      },
      "execution_count": null,
      "outputs": [
        {
          "output_type": "execute_result",
          "data": {
            "text/plain": [
              "tensor([[4., 4., 4., 4., 4., 4., 4., 4., 4., 4.]])"
            ]
          },
          "metadata": {},
          "execution_count": 79
        }
      ]
    },
    {
      "cell_type": "code",
      "source": [
        "x_reshaped.shape"
      ],
      "metadata": {
        "id": "zu6Zo_0SunOp",
        "outputId": "4f63f9ef-2520-4124-eede-c163d978e349",
        "colab": {
          "base_uri": "https://localhost:8080/"
        }
      },
      "execution_count": null,
      "outputs": [
        {
          "output_type": "execute_result",
          "data": {
            "text/plain": [
              "torch.Size([1, 10])"
            ]
          },
          "metadata": {},
          "execution_count": 80
        }
      ]
    },
    {
      "cell_type": "code",
      "source": [
        "print(x_reshaped.squeeze())\n",
        "x_reshaped.squeeze().shape  # remove 1 dimention"
      ],
      "metadata": {
        "id": "F3zbTOU5usJA",
        "outputId": "b84a8ab7-3a6d-4a65-8a7d-c32cfb50b02d",
        "colab": {
          "base_uri": "https://localhost:8080/"
        }
      },
      "execution_count": null,
      "outputs": [
        {
          "output_type": "stream",
          "name": "stdout",
          "text": [
            "tensor([4., 4., 4., 4., 4., 4., 4., 4., 4., 4.])\n"
          ]
        },
        {
          "output_type": "execute_result",
          "data": {
            "text/plain": [
              "torch.Size([10])"
            ]
          },
          "metadata": {},
          "execution_count": 81
        }
      ]
    },
    {
      "cell_type": "code",
      "source": [
        "# Squeeze\n",
        "print(f\"Previous tensor: {x_reshaped}\")\n",
        "print(f\"Previous shape: {x_reshaped.shape}\")\n",
        "\n",
        "# Remove extra dimentions from x_reshaped -remove one square bracket\n",
        "x_squeezed = x_reshaped.squeeze()\n",
        "print(f\"\\nNew tensor: {x_squeezed}\")\n",
        "print(f\"New shape: {x_squeezed.shape}\")"
      ],
      "metadata": {
        "id": "W4h3qIqyvCox",
        "outputId": "95b558ea-cccf-445f-e791-bbc47d40d771",
        "colab": {
          "base_uri": "https://localhost:8080/"
        }
      },
      "execution_count": null,
      "outputs": [
        {
          "output_type": "stream",
          "name": "stdout",
          "text": [
            "Previous tensor: tensor([[4., 4., 4., 4., 4., 4., 4., 4., 4., 4.]])\n",
            "Previous shape: torch.Size([1, 10])\n",
            "\n",
            "New tensor: tensor([4., 4., 4., 4., 4., 4., 4., 4., 4., 4.])\n",
            "New shape: torch.Size([10])\n"
          ]
        }
      ]
    },
    {
      "cell_type": "code",
      "source": [
        "# Unsqeeze() - adda a single dimention to a target tensor at a specific dim\n",
        "print(f\"Previous tensor: {x_squeezed}\")\n",
        "print(f\"Previous shape: {x_squeezed.shape}\")\n",
        "\n",
        "# Add an extra dimention with unsqueeze\n",
        "x_unsqueezed = x_squeezed.unsqueeze(dim=0)\n",
        "print(f\"\\nNew tensor: {x_unsqueezed}\")\n",
        "print(f\"New shape: {x_unsqueezed.shape}\")\n",
        "\n",
        "# Add an extra dimention with unsqueeze\n",
        "x_unsqueezed = x_squeezed.unsqueeze(dim=1)\n",
        "print(f\"\\nNew tensor: {x_unsqueezed}\")\n",
        "print(f\"New shape: {x_unsqueezed.shape}\")"
      ],
      "metadata": {
        "id": "F_xxcctXvaMB",
        "outputId": "554787a8-32d1-46cb-bd09-be8b2faebe73",
        "colab": {
          "base_uri": "https://localhost:8080/"
        }
      },
      "execution_count": null,
      "outputs": [
        {
          "output_type": "stream",
          "name": "stdout",
          "text": [
            "Previous tensor: tensor([4., 4., 4., 4., 4., 4., 4., 4., 4., 4.])\n",
            "Previous shape: torch.Size([10])\n",
            "\n",
            "New tensor: tensor([[4., 4., 4., 4., 4., 4., 4., 4., 4., 4.]])\n",
            "New shape: torch.Size([1, 10])\n",
            "\n",
            "New tensor: tensor([[4.],\n",
            "        [4.],\n",
            "        [4.],\n",
            "        [4.],\n",
            "        [4.],\n",
            "        [4.],\n",
            "        [4.],\n",
            "        [4.],\n",
            "        [4.],\n",
            "        [4.]])\n",
            "New shape: torch.Size([10, 1])\n"
          ]
        }
      ]
    },
    {
      "cell_type": "code",
      "source": [
        "# Peermute - rearranges the dimentions of a target tensor in a specified order , Returns a view\n",
        "x = torch.randn(2, 3, 5)\n",
        "x.size()"
      ],
      "metadata": {
        "id": "onFybZySwEfp",
        "outputId": "c92e85d5-a1d0-4dfd-8180-54b0b3ddde6b",
        "colab": {
          "base_uri": "https://localhost:8080/"
        }
      },
      "execution_count": null,
      "outputs": [
        {
          "output_type": "execute_result",
          "data": {
            "text/plain": [
              "torch.Size([2, 3, 5])"
            ]
          },
          "metadata": {},
          "execution_count": 84
        }
      ]
    },
    {
      "cell_type": "code",
      "source": [
        "print(x.size())\n",
        "print(x.permute(2, 0, 1).size())\n",
        "torch.permute(x, (2, 0, 1)).shape"
      ],
      "metadata": {
        "id": "xwVqrTGxwgOb",
        "outputId": "f437e260-0aca-4275-d117-240222f12c53",
        "colab": {
          "base_uri": "https://localhost:8080/"
        }
      },
      "execution_count": null,
      "outputs": [
        {
          "output_type": "stream",
          "name": "stdout",
          "text": [
            "torch.Size([2, 3, 5])\n",
            "torch.Size([5, 2, 3])\n"
          ]
        },
        {
          "output_type": "execute_result",
          "data": {
            "text/plain": [
              "torch.Size([5, 2, 3])"
            ]
          },
          "metadata": {},
          "execution_count": 85
        }
      ]
    },
    {
      "cell_type": "code",
      "source": [
        "x_original = torch.rand((224, 224, 3))  # [height, width, color_channels]\n",
        "\n",
        "# Permute the original tensor to rearrange the axis (or dim)  order\n",
        "x_permuted = x_original.permute(2, 0, 1) # shifts axis 0->1, 1->2, 2->0\n",
        "\n",
        "print(f\"Previous shape: {x_original.shape}\")\n",
        "print(f\"New shape: {x_permuted.shape}\")  # [color_channels, height, width] , x_original and x_permuted same memory or same view"
      ],
      "metadata": {
        "id": "kWmrFtayxAQZ",
        "outputId": "bdf2d744-a186-4b18-a159-4760187b5032",
        "colab": {
          "base_uri": "https://localhost:8080/"
        }
      },
      "execution_count": null,
      "outputs": [
        {
          "output_type": "stream",
          "name": "stdout",
          "text": [
            "Previous shape: torch.Size([224, 224, 3])\n",
            "New shape: torch.Size([3, 224, 224])\n"
          ]
        }
      ]
    },
    {
      "cell_type": "code",
      "source": [
        "x_original[0, 0, 0] = 728218  # x_original and x_permuted same memory or same view\n",
        "x_original[0, 0, 0], x_permuted[0, 0, 0]"
      ],
      "metadata": {
        "id": "n9rygDYLyALh",
        "outputId": "1a2e09cd-4f44-4ae2-fc72-79ad97bbf7d9",
        "colab": {
          "base_uri": "https://localhost:8080/"
        }
      },
      "execution_count": null,
      "outputs": [
        {
          "output_type": "execute_result",
          "data": {
            "text/plain": [
              "(tensor(728218.), tensor(728218.))"
            ]
          },
          "metadata": {},
          "execution_count": 87
        }
      ]
    },
    {
      "cell_type": "markdown",
      "source": [
        "# Slicing in detail\n",
        "\n",
        "### Scenario 1: Slicing Multiple Rows and Columns\n",
        "\n",
        "Suppose we have a 2D tensor, and we want to access and modify a specific subset of rows and columns.\n",
        "\n",
        "```python\n",
        "import torch\n",
        "\n",
        "# Create a 2D tensor (3 rows, 4 columns)\n",
        "x = torch.tensor([[1, 2, 3, 4],\n",
        "                  [5, 6, 7, 8],\n",
        "                  [9, 10, 11, 12]])\n",
        "\n",
        "print(\"Original x tensor:\\n\", x)\n",
        "\n",
        "# Slice to get a submatrix (2 rows, 2 columns)\n",
        "submatrix = x[:2, 1:3]  # First 2 rows, columns 1 and 2\n",
        "print(\"\\nSubmatrix (first 2 rows, columns 1 and 2):\\n\", submatrix)\n",
        "\n",
        "# Modify the submatrix\n",
        "submatrix[:, :] = 0  # Set all elements of the submatrix to 0\n",
        "print(\"\\nModified submatrix:\\n\", submatrix)\n",
        "print(\"\\nModified x tensor:\\n\", x)\n",
        "```\n",
        "\n",
        "**Output**:\n",
        "```\n",
        "Original x tensor:\n",
        " tensor([[ 1,  2,  3,  4],\n",
        "        [ 5,  6,  7,  8],\n",
        "        [ 9, 10, 11, 12]])\n",
        "\n",
        "Submatrix (first 2 rows, columns 1 and 2):\n",
        " tensor([[2, 3],\n",
        "        [6, 7]])\n",
        "\n",
        "Modified submatrix:\n",
        " tensor([[0, 0],\n",
        "        [0, 0]])\n",
        "\n",
        "Modified x tensor:\n",
        " tensor([[ 1,  0,  0,  4],\n",
        "        [ 5,  0,  0,  8],\n",
        "        [ 9, 10, 11, 12]])\n",
        "```\n",
        "\n",
        "### Explanation:\n",
        "\n",
        "- **`x[:2, 1:3]`**: This slices the first two rows (`:2`) and the second and third columns (`1:3`), giving us a 2x2 submatrix.\n",
        "- **Modification**: Setting `submatrix[:, :] = 0` changes all elements in the submatrix to `0`. Since `submatrix` is a view, this change is reflected in the original tensor `x`.\n",
        "\n",
        "### Scenario 2: Selecting Specific Rows or Columns\n",
        "\n",
        "Let's say we want to select and modify specific rows or columns in a tensor.\n",
        "\n",
        "```python\n",
        "import torch\n",
        "\n",
        "# Create a 2D tensor (4 rows, 4 columns)\n",
        "x = torch.tensor([[1, 2, 3, 4],\n",
        "                  [5, 6, 7, 8],\n",
        "                  [9, 10, 11, 12],\n",
        "                  [13, 14, 15, 16]])\n",
        "\n",
        "print(\"Original x tensor:\\n\", x)\n",
        "\n",
        "# Select the second row\n",
        "second_row = x[1, :]\n",
        "print(\"\\nSecond row:\\n\", second_row)\n",
        "\n",
        "# Select the third column\n",
        "third_column = x[:, 2]\n",
        "print(\"\\nThird column:\\n\", third_column)\n",
        "\n",
        "# Modify the second row\n",
        "x[1, :] = torch.tensor([0, 0, 0, 0])\n",
        "print(\"\\nModified x tensor after changing the second row:\\n\", x)\n",
        "\n",
        "# Modify the third column\n",
        "x[:, 2] = torch.tensor([-1, -2, -3, -4])\n",
        "print(\"\\nModified x tensor after changing the third column:\\n\", x)\n",
        "```\n",
        "\n",
        "**Output**:\n",
        "```\n",
        "Original x tensor:\n",
        " tensor([[ 1,  2,  3,  4],\n",
        "        [ 5,  6,  7,  8],\n",
        "        [ 9, 10, 11, 12],\n",
        "        [13, 14, 15, 16]])\n",
        "\n",
        "Second row:\n",
        " tensor([5, 6, 7, 8])\n",
        "\n",
        "Third column:\n",
        " tensor([ 3,  7, 11, 15])\n",
        "\n",
        "Modified x tensor after changing the second row:\n",
        " tensor([[ 1,  2,  3,  4],\n",
        "        [ 0,  0,  0,  0],\n",
        "        [ 9, 10, 11, 12],\n",
        "        [13, 14, 15, 16]])\n",
        "\n",
        "Modified x tensor after changing the third column:\n",
        " tensor([[ 1,  2, -1,  4],\n",
        "        [ 0,  0, -2,  0],\n",
        "        [ 9, 10, -3, 12],\n",
        "        [13, 14, -4, 16]])\n",
        "```\n",
        "\n",
        "### Explanation:\n",
        "\n",
        "- **`x[1, :]`**: Selects the entire second row.\n",
        "- **`x[:, 2]`**: Selects the entire third column.\n",
        "- **Modification**: Changing the selected row or column directly modifies the original tensor.\n",
        "\n",
        "### Scenario 3: Slicing with Negative Indices\n",
        "\n",
        "Negative indices can be used to slice from the end of a tensor.\n",
        "\n",
        "```python\n",
        "import torch\n",
        "\n",
        "# Create a 1D tensor\n",
        "x = torch.tensor([1, 2, 3, 4, 5, 6])\n",
        "\n",
        "print(\"Original x tensor:\", x)\n",
        "\n",
        "# Select the last three elements\n",
        "last_three = x[-3:]\n",
        "print(\"\\nLast three elements:\", last_three)\n",
        "\n",
        "# Modify the last three elements\n",
        "x[-3:] = torch.tensor([7, 8, 9])\n",
        "print(\"\\nModified x tensor:\", x)\n",
        "```\n",
        "\n",
        "**Output**:\n",
        "```\n",
        "Original x tensor: tensor([1, 2, 3, 4, 5, 6])\n",
        "\n",
        "Last three elements: tensor([4, 5, 6])\n",
        "\n",
        "Modified x tensor: tensor([1, 2, 3, 7, 8, 9])\n",
        "```\n",
        "\n",
        "### Explanation:\n",
        "\n",
        "- **`x[-3:]`**: Slices the last three elements of the tensor.\n",
        "- **Modification**: Changing `x[-3:]` directly updates the last three elements of the original tensor.\n",
        "\n",
        "### Scenario 4: Multi-Dimensional Tensor Slicing\n",
        "\n",
        "For more complex scenarios, let's consider a 3D tensor.\n",
        "\n",
        "```python\n",
        "import torch\n",
        "\n",
        "# Create a 3D tensor (2 blocks, 3 rows, 4 columns)\n",
        "x = torch.tensor([[[1, 2, 3, 4],\n",
        "                   [5, 6, 7, 8],\n",
        "                   [9, 10, 11, 12]],\n",
        "\n",
        "                  [[13, 14, 15, 16],\n",
        "                   [17, 18, 19, 20],\n",
        "                   [21, 22, 23, 24]]])\n",
        "\n",
        "print(\"Original x tensor:\\n\", x)\n",
        "\n",
        "# Select the first block\n",
        "first_block = x[0, :, :]\n",
        "print(\"\\nFirst block:\\n\", first_block)\n",
        "\n",
        "# Select the second row of the second block\n",
        "second_row_second_block = x[1, 1, :]\n",
        "print(\"\\nSecond row of the second block:\\n\", second_row_second_block)\n",
        "\n",
        "# Modify the first row of the first block\n",
        "x[0, 0, :] = torch.tensor([10, 20, 30, 40])\n",
        "print(\"\\nModified x tensor after changing the first row of the first block:\\n\", x)\n",
        "```\n",
        "\n",
        "**Output**:\n",
        "```\n",
        "Original x tensor:\n",
        " tensor([[[ 1,  2,  3,  4],\n",
        "         [ 5,  6,  7,  8],\n",
        "         [ 9, 10, 11, 12]],\n",
        "\n",
        "        [[13, 14, 15, 16],\n",
        "         [17, 18, 19, 20],\n",
        "         [21, 22, 23, 24]]])\n",
        "\n",
        "First block:\n",
        " tensor([[ 1,  2,  3,  4],\n",
        "        [ 5,  6,  7,  8],\n",
        "        [ 9, 10, 11, 12]])\n",
        "\n",
        "Second row of the second block:\n",
        " tensor([17, 18, 19, 20])\n",
        "\n",
        "Modified x tensor after changing the first row of the first block:\n",
        " tensor([[[10, 20, 30, 40],\n",
        "         [ 5,  6,  7,  8],\n",
        "         [ 9, 10, 11, 12]],\n",
        "\n",
        "        [[13, 14, 15, 16],\n",
        "         [17, 18, 19, 20],\n",
        "         [21, 22, 23, 24]]])\n",
        "```\n",
        "\n",
        "### Explanation:\n",
        "\n",
        "- **`x[0, :, :]`**: Selects the entire first block (all rows and columns).\n",
        "- **`x[1, 1, :]`**: Selects the second row of the second block.\n",
        "- **Modification**: Changing the first row of the first block directly updates the tensor.\n",
        "\n",
        "### Summary of Slicing:\n",
        "\n",
        "1. **`:`**: Selects all elements along a dimension.\n",
        "2. **Specific index (`n`)**: Selects a particular element at index `n`.\n",
        "3. **Negative indices (`-n`)**: Selects elements counting from the end.\n",
        "4. **Slices (`start:stop`)**: Selects a range of elements.\n",
        "\n",
        "Understanding and mastering slicing is crucial for effectively manipulating tensors in PyTorch, especially when working with multi-dimensional data like images or sequences."
      ],
      "metadata": {
        "id": "Sbse1IPdr5jP"
      }
    },
    {
      "cell_type": "markdown",
      "source": [
        "# Indexing (selecting data from tensors)\n",
        "Indexing with PyTorch is similat to indexing with NumPy"
      ],
      "metadata": {
        "id": "c6Qefyuf6w4x"
      }
    },
    {
      "cell_type": "code",
      "source": [
        "#Create a tensor\n",
        "import torch\n",
        "x = torch.arange(1, 10).reshape(1, 3, 3)\n",
        "x, x.shape"
      ],
      "metadata": {
        "id": "DG_czoiesNWf",
        "outputId": "bf31197a-f5ba-49b3-a8ea-b9cee1f9ec58",
        "colab": {
          "base_uri": "https://localhost:8080/"
        }
      },
      "execution_count": null,
      "outputs": [
        {
          "output_type": "execute_result",
          "data": {
            "text/plain": [
              "(tensor([[[1, 2, 3],\n",
              "          [4, 5, 6],\n",
              "          [7, 8, 9]]]),\n",
              " torch.Size([1, 3, 3]))"
            ]
          },
          "metadata": {},
          "execution_count": 88
        }
      ]
    },
    {
      "cell_type": "code",
      "source": [
        "# Let's index on our new tensor\n",
        "x[0]"
      ],
      "metadata": {
        "id": "fxn5P2tO7R9Q",
        "outputId": "f1d79003-2210-4b73-e419-79fbc593aebd",
        "colab": {
          "base_uri": "https://localhost:8080/"
        }
      },
      "execution_count": null,
      "outputs": [
        {
          "output_type": "execute_result",
          "data": {
            "text/plain": [
              "tensor([[1, 2, 3],\n",
              "        [4, 5, 6],\n",
              "        [7, 8, 9]])"
            ]
          },
          "metadata": {},
          "execution_count": 89
        }
      ]
    },
    {
      "cell_type": "code",
      "source": [
        "# Let's index on the middle bracket (dim=1)\n",
        "x[0][0]"
      ],
      "metadata": {
        "id": "ca6bY0F37X4I",
        "outputId": "b8dbade4-548a-4c28-edcc-04c5fd37e539",
        "colab": {
          "base_uri": "https://localhost:8080/"
        }
      },
      "execution_count": null,
      "outputs": [
        {
          "output_type": "execute_result",
          "data": {
            "text/plain": [
              "tensor([1, 2, 3])"
            ]
          },
          "metadata": {},
          "execution_count": 90
        }
      ]
    },
    {
      "cell_type": "code",
      "source": [
        "# Let's index on the most inner bracket (last dimention)\n",
        "print(x[0][0][0])\n",
        "print(x[0, 0, 1])"
      ],
      "metadata": {
        "id": "eF_ZZNjg7ntA",
        "outputId": "db0597bd-7d73-4fb9-a595-9b46e38270ea",
        "colab": {
          "base_uri": "https://localhost:8080/"
        }
      },
      "execution_count": null,
      "outputs": [
        {
          "output_type": "stream",
          "name": "stdout",
          "text": [
            "tensor(1)\n",
            "tensor(2)\n"
          ]
        }
      ]
    },
    {
      "cell_type": "code",
      "source": [
        "# Get Number 9\n",
        "x[0][2][2]"
      ],
      "metadata": {
        "id": "VUAYxQ-o79pZ",
        "outputId": "522f94f5-52fe-41d9-e060-a990cd61a24e",
        "colab": {
          "base_uri": "https://localhost:8080/"
        }
      },
      "execution_count": null,
      "outputs": [
        {
          "output_type": "execute_result",
          "data": {
            "text/plain": [
              "tensor(9)"
            ]
          },
          "metadata": {},
          "execution_count": 94
        }
      ]
    },
    {
      "cell_type": "code",
      "source": [
        "# You can also use \":\" to select \"all\" of a target dimention\n",
        "x[:, 0]"
      ],
      "metadata": {
        "id": "gi1I3R4K8H5B",
        "outputId": "f995dd0b-ef15-4f1b-f88b-4b3d380243ae",
        "colab": {
          "base_uri": "https://localhost:8080/"
        }
      },
      "execution_count": null,
      "outputs": [
        {
          "output_type": "execute_result",
          "data": {
            "text/plain": [
              "tensor([[1, 2, 3]])"
            ]
          },
          "metadata": {},
          "execution_count": 95
        }
      ]
    },
    {
      "cell_type": "code",
      "source": [
        "# Get all values of 0th and 1st dimenions but only index 1 of 2nd dimention\n",
        "x[:, :, 1]"
      ],
      "metadata": {
        "id": "AuuWFk-u8arB",
        "outputId": "87b0bfda-3e7f-4638-e2ac-0e013849598d",
        "colab": {
          "base_uri": "https://localhost:8080/"
        }
      },
      "execution_count": null,
      "outputs": [
        {
          "output_type": "execute_result",
          "data": {
            "text/plain": [
              "tensor([[2, 5, 8]])"
            ]
          },
          "metadata": {},
          "execution_count": 96
        }
      ]
    },
    {
      "cell_type": "code",
      "source": [
        "# Get all values of 0th dimention but only the 1 index value of 1st and 2nd dimention\n",
        "x[:, 1, 1]"
      ],
      "metadata": {
        "id": "gr6qfG3Q811x",
        "outputId": "c99b0be5-d420-4df3-ee9a-184823d8dab9",
        "colab": {
          "base_uri": "https://localhost:8080/"
        }
      },
      "execution_count": null,
      "outputs": [
        {
          "output_type": "execute_result",
          "data": {
            "text/plain": [
              "tensor([5])"
            ]
          },
          "metadata": {},
          "execution_count": 97
        }
      ]
    },
    {
      "cell_type": "code",
      "source": [
        "# Get index 0 of 0th and 1st dimension and all values of 2nd dimension\n",
        "x[0, 0, :]"
      ],
      "metadata": {
        "id": "pB2FKxro-W-o",
        "outputId": "3b1c023a-48ba-46b8-972c-0788b32494f9",
        "colab": {
          "base_uri": "https://localhost:8080/"
        }
      },
      "execution_count": null,
      "outputs": [
        {
          "output_type": "execute_result",
          "data": {
            "text/plain": [
              "tensor([1, 2, 3])"
            ]
          },
          "metadata": {},
          "execution_count": 98
        }
      ]
    },
    {
      "cell_type": "code",
      "source": [
        "# Index on x to return 9\n",
        "x[0,2,2]"
      ],
      "metadata": {
        "id": "0uY1at1b-rtI",
        "outputId": "a7f47663-bb7d-44cf-b5d2-9d6f993c4f0a",
        "colab": {
          "base_uri": "https://localhost:8080/"
        }
      },
      "execution_count": null,
      "outputs": [
        {
          "output_type": "execute_result",
          "data": {
            "text/plain": [
              "tensor(9)"
            ]
          },
          "metadata": {},
          "execution_count": 99
        }
      ]
    },
    {
      "cell_type": "code",
      "source": [
        "# Index on x to return 3, 6, 9\n",
        "x[:, :, 2]"
      ],
      "metadata": {
        "id": "CX4cJGCc-3ng",
        "outputId": "899ba1ef-6870-4e6b-d040-a15506a818cb",
        "colab": {
          "base_uri": "https://localhost:8080/"
        }
      },
      "execution_count": null,
      "outputs": [
        {
          "output_type": "execute_result",
          "data": {
            "text/plain": [
              "tensor([[3, 6, 9]])"
            ]
          },
          "metadata": {},
          "execution_count": 100
        }
      ]
    },
    {
      "cell_type": "markdown",
      "source": [
        "# PyTorch tensors & NumPy\n",
        "\n",
        "NumPy is a popular scientific Python numerical computing library.\n",
        "\n",
        "And because of this, PyTorch has functionality to interact with it.\n",
        "\n",
        "* Data in NumPy, want in PyTorch tensor-> `torch.from_numpy(ndarray)`\n",
        "* PyTorch tensor -> NumPy -> `torch.Tensor.numpy()`\n",
        "\n"
      ],
      "metadata": {
        "id": "6QpStigjLR7f"
      }
    },
    {
      "cell_type": "code",
      "source": [
        "# NumPy array to tensor\n",
        "import torch\n",
        "import numpy as np\n",
        "\n",
        "array = np.arange(1.0, 8.0)\n",
        "tensor = torch.from_numpy(array)  # warning: when converting from numpy -> pytorch, pytorch reflects numpy's default datatype of float64 unless specified otherwise\n",
        "array, tensor  #  numpy default datatype is Float64 so tensor dtype becomes Float64"
      ],
      "metadata": {
        "id": "w6TjBOWVMHfZ",
        "outputId": "9b3f3d38-52c6-4670-b432-d98b5bf6f4a7",
        "colab": {
          "base_uri": "https://localhost:8080/"
        }
      },
      "execution_count": null,
      "outputs": [
        {
          "output_type": "execute_result",
          "data": {
            "text/plain": [
              "(array([1., 2., 3., 4., 5., 6., 7.]),\n",
              " tensor([1., 2., 3., 4., 5., 6., 7.], dtype=torch.float64))"
            ]
          },
          "metadata": {},
          "execution_count": 1
        }
      ]
    },
    {
      "cell_type": "code",
      "source": [
        "array.dtype, tensor.dtype"
      ],
      "metadata": {
        "id": "l2ou0wsOMoJH",
        "outputId": "2ff4c3da-1784-4a8b-ad54-b0aa67b2e046",
        "colab": {
          "base_uri": "https://localhost:8080/"
        }
      },
      "execution_count": null,
      "outputs": [
        {
          "output_type": "execute_result",
          "data": {
            "text/plain": [
              "(dtype('float64'), torch.float64)"
            ]
          },
          "metadata": {},
          "execution_count": 3
        }
      ]
    },
    {
      "cell_type": "code",
      "source": [
        "#Default PyTorch datatype\n",
        "torch.arange(1.0, 8.0).dtype"
      ],
      "metadata": {
        "id": "VcsBef8EMxXB",
        "outputId": "0cdff166-3a76-4730-cb86-e35abdec077d",
        "colab": {
          "base_uri": "https://localhost:8080/"
        }
      },
      "execution_count": null,
      "outputs": [
        {
          "output_type": "execute_result",
          "data": {
            "text/plain": [
              "torch.float32"
            ]
          },
          "metadata": {},
          "execution_count": 4
        }
      ]
    },
    {
      "cell_type": "code",
      "source": [
        "array = np.arange(1.0, 8.0)\n",
        "tensor = torch.from_numpy(array).type(torch.float32)  # torch.from_numpy(array).type(torch.float32\n",
        "array, tensor"
      ],
      "metadata": {
        "id": "IQQ1sswvM9do",
        "outputId": "bc26e101-1a2f-4bff-c8e4-3e654954b714",
        "colab": {
          "base_uri": "https://localhost:8080/"
        }
      },
      "execution_count": null,
      "outputs": [
        {
          "output_type": "execute_result",
          "data": {
            "text/plain": [
              "(array([1., 2., 3., 4., 5., 6., 7.]), tensor([1., 2., 3., 4., 5., 6., 7.]))"
            ]
          },
          "metadata": {},
          "execution_count": 5
        }
      ]
    },
    {
      "cell_type": "code",
      "source": [
        "array.dtype, tensor.dtype"
      ],
      "metadata": {
        "id": "0ghXQfiHNGsX",
        "outputId": "2f0a1617-24cd-4ae6-a71c-92744d58aaa2",
        "colab": {
          "base_uri": "https://localhost:8080/"
        }
      },
      "execution_count": null,
      "outputs": [
        {
          "output_type": "execute_result",
          "data": {
            "text/plain": [
              "(dtype('float64'), torch.float32)"
            ]
          },
          "metadata": {},
          "execution_count": 6
        }
      ]
    },
    {
      "cell_type": "code",
      "source": [
        "# Change the value of array, what will this do to `tensor` ?\n",
        "array = array + 1\n",
        "array, tensor"
      ],
      "metadata": {
        "id": "0S_pewJwNYvP",
        "outputId": "5e3c63f1-b25f-4545-9554-f699af1406ab",
        "colab": {
          "base_uri": "https://localhost:8080/"
        }
      },
      "execution_count": null,
      "outputs": [
        {
          "output_type": "execute_result",
          "data": {
            "text/plain": [
              "(array([2., 3., 4., 5., 6., 7., 8.]), tensor([1., 2., 3., 4., 5., 6., 7.]))"
            ]
          },
          "metadata": {},
          "execution_count": 7
        }
      ]
    },
    {
      "cell_type": "code",
      "source": [
        "# Tensor to NumPy array\n",
        "tensor = torch.ones(7)\n",
        "numpy_tensor = tensor.numpy()\n",
        "tensor, numpy_tensor"
      ],
      "metadata": {
        "id": "kPF9drYkNmf3",
        "outputId": "2d5ee3cf-ac38-434e-c822-37583f3b6777",
        "colab": {
          "base_uri": "https://localhost:8080/"
        }
      },
      "execution_count": null,
      "outputs": [
        {
          "output_type": "execute_result",
          "data": {
            "text/plain": [
              "(tensor([1., 1., 1., 1., 1., 1., 1.]),\n",
              " array([1., 1., 1., 1., 1., 1., 1.], dtype=float32))"
            ]
          },
          "metadata": {},
          "execution_count": 8
        }
      ]
    },
    {
      "cell_type": "code",
      "source": [
        "numpy_tensor.dtype, tensor.dtype"
      ],
      "metadata": {
        "id": "Z5z63VqxNymG",
        "outputId": "a5f35291-c887-4397-f4db-c32e0a207f45",
        "colab": {
          "base_uri": "https://localhost:8080/"
        }
      },
      "execution_count": null,
      "outputs": [
        {
          "output_type": "execute_result",
          "data": {
            "text/plain": [
              "(dtype('float32'), torch.float32)"
            ]
          },
          "metadata": {},
          "execution_count": 9
        }
      ]
    },
    {
      "cell_type": "code",
      "source": [
        "# Change the tensor,what happens to `numpy_tensor` ?\n",
        "tensor = tensor + 1\n",
        "tensor, numpy_tensor"
      ],
      "metadata": {
        "id": "F1DNiEOSN9ov",
        "outputId": "354e5ad1-333a-49b0-c888-95a77673e52b",
        "colab": {
          "base_uri": "https://localhost:8080/"
        }
      },
      "execution_count": null,
      "outputs": [
        {
          "output_type": "execute_result",
          "data": {
            "text/plain": [
              "(tensor([2., 2., 2., 2., 2., 2., 2.]),\n",
              " array([1., 1., 1., 1., 1., 1., 1.], dtype=float32))"
            ]
          },
          "metadata": {},
          "execution_count": 10
        }
      ]
    },
    {
      "cell_type": "markdown",
      "source": [
        "# Reproducbility (trying to take random out of random) -> random seed\n",
        "\n",
        "In short how a neural network learns:\n",
        "\n",
        "`start with random numbers -> tensor operations -> update random numbers to try and make them better representations of the data -> again -> again ->...`\n",
        "\n",
        "\n",
        "To reduce the randomness in neural networks and PyTorch comes the concept of a **random seed**.\n",
        "\n",
        "Essentially wht the random seed does is \"flavour\" the randomness"
      ],
      "metadata": {
        "id": "Ff4-n5IvCkwf"
      }
    },
    {
      "cell_type": "code",
      "source": [
        "import torch\n",
        "\n",
        "random_tensor_A = torch.rand(3, 4)\n",
        "random_tensor_B = torch.rand(3, 4)\n",
        "\n",
        "print(random_tensor_A)\n",
        "print(random_tensor_B)\n",
        "print(random_tensor_A == random_tensor_B)"
      ],
      "metadata": {
        "id": "PkMQuETPDjeA",
        "outputId": "ac111b6f-d2eb-42b1-c26f-09996f8e54de",
        "colab": {
          "base_uri": "https://localhost:8080/"
        }
      },
      "execution_count": 3,
      "outputs": [
        {
          "output_type": "stream",
          "name": "stdout",
          "text": [
            "tensor([[0.7363, 0.9062, 0.1269, 0.2921],\n",
            "        [0.9594, 0.7189, 0.9424, 0.5543],\n",
            "        [0.5775, 0.8953, 0.3456, 0.5577]])\n",
            "tensor([[0.3458, 0.7439, 0.6988, 0.9997],\n",
            "        [0.7588, 0.7355, 0.8766, 0.2864],\n",
            "        [0.1712, 0.5458, 0.3978, 0.2323]])\n",
            "tensor([[False, False, False, False],\n",
            "        [False, False, False, False],\n",
            "        [False, False, False, False]])\n"
          ]
        }
      ]
    },
    {
      "cell_type": "code",
      "source": [
        "# Let's make some random but reproducible tensors\n",
        "import torch\n",
        "\n",
        "# Set the random seed\n",
        "RANDOM_SEED = 42\n",
        "\n",
        "torch.manual_seed(RANDOM_SEED)\n",
        "random_tensor_c = torch.rand(3, 4)\n",
        "\n",
        "torch.manual_seed(RANDOM_SEED)\n",
        "random_tensor_d = torch.rand(3, 4)\n",
        "\n",
        "print(random_tensor_c)\n",
        "print(random_tensor_d)\n",
        "print(random_tensor_c == random_tensor_d)"
      ],
      "metadata": {
        "id": "_AcEZuVdFtLI",
        "outputId": "1a376196-eaf7-4562-dc6f-3bc9fde119b5",
        "colab": {
          "base_uri": "https://localhost:8080/"
        }
      },
      "execution_count": 6,
      "outputs": [
        {
          "output_type": "stream",
          "name": "stdout",
          "text": [
            "tensor([[0.8823, 0.9150, 0.3829, 0.9593],\n",
            "        [0.3904, 0.6009, 0.2566, 0.7936],\n",
            "        [0.9408, 0.1332, 0.9346, 0.5936]])\n",
            "tensor([[0.8823, 0.9150, 0.3829, 0.9593],\n",
            "        [0.3904, 0.6009, 0.2566, 0.7936],\n",
            "        [0.9408, 0.1332, 0.9346, 0.5936]])\n",
            "tensor([[True, True, True, True],\n",
            "        [True, True, True, True],\n",
            "        [True, True, True, True]])\n"
          ]
        }
      ]
    },
    {
      "cell_type": "code",
      "source": [
        "# Let's make some random but reproducible tensors\n",
        "import torch\n",
        "\n",
        "# Set the random seed\n",
        "RANDOM_SEED = 42\n",
        "torch.manual_seed(RANDOM_SEED)\n",
        "\n",
        "random_tensor_c = torch.rand(3, 4)\n",
        "random_tensor_d = torch.rand(3, 4)\n",
        "\n",
        "print(random_tensor_c)\n",
        "print(random_tensor_d)\n",
        "print(random_tensor_c == random_tensor_d)"
      ],
      "metadata": {
        "id": "Ku8TPot1E3Sg",
        "outputId": "c2cf155e-c97c-4e56-ee5c-8f3a6e0f192c",
        "colab": {
          "base_uri": "https://localhost:8080/"
        }
      },
      "execution_count": 8,
      "outputs": [
        {
          "output_type": "stream",
          "name": "stdout",
          "text": [
            "tensor([[0.8823, 0.9150, 0.3829, 0.9593],\n",
            "        [0.3904, 0.6009, 0.2566, 0.7936],\n",
            "        [0.9408, 0.1332, 0.9346, 0.5936]])\n",
            "tensor([[0.8694, 0.5677, 0.7411, 0.4294],\n",
            "        [0.8854, 0.5739, 0.2666, 0.6274],\n",
            "        [0.2696, 0.4414, 0.2969, 0.8317]])\n",
            "tensor([[False, False, False, False],\n",
            "        [False, False, False, False],\n",
            "        [False, False, False, False]])\n"
          ]
        }
      ]
    },
    {
      "cell_type": "markdown",
      "source": [
        "[Reproducibility](https://pytorch.org/docs/stable/notes/randomness.html)\n",
        "\n",
        "[Random Seed](https://en.wikipedia.org/wiki/Random_seed)"
      ],
      "metadata": {
        "id": "NzWd5p65HKa_"
      }
    },
    {
      "cell_type": "markdown",
      "source": [
        "# Running tensors and PyTorch objects on the GPUs (and making faster computations)\n",
        "\n",
        "\n",
        "GPUs = FASTER COMPUTATION ON NUMBERS\n",
        "\n",
        "# 1. Getting a GPU\n",
        "\n",
        "  * Google Colab\n",
        "  * Yourown GPU\n",
        "  * Cloud Computing\n",
        "\n",
        "  For , Yourown GPU, Cloud Computing -> refer to PyTorch setup documents"
      ],
      "metadata": {
        "id": "YRV4hmVMH1en"
      }
    },
    {
      "cell_type": "code",
      "source": [
        "!nvidia-smi"
      ],
      "metadata": {
        "id": "6qantWUAHqaO",
        "outputId": "55c0da31-693c-4a02-d586-0202f572f843",
        "colab": {
          "base_uri": "https://localhost:8080/"
        }
      },
      "execution_count": 9,
      "outputs": [
        {
          "output_type": "stream",
          "name": "stdout",
          "text": [
            "/bin/bash: line 1: nvidia-smi: command not found\n"
          ]
        }
      ]
    },
    {
      "cell_type": "markdown",
      "source": [
        "# 2. Check for GPU access with PyTorch"
      ],
      "metadata": {
        "id": "Chn6b-KGKJ8A"
      }
    },
    {
      "cell_type": "code",
      "source": [
        "# Check for GPU ACCESS WITH PyTorch\n",
        "import torch\n",
        "torch.cuda.is_available()"
      ],
      "metadata": {
        "id": "4DCNP1i4KQYv",
        "outputId": "ea697cc1-75c0-4146-8f0f-dad231073fa0",
        "colab": {
          "base_uri": "https://localhost:8080/"
        }
      },
      "execution_count": 10,
      "outputs": [
        {
          "output_type": "execute_result",
          "data": {
            "text/plain": [
              "False"
            ]
          },
          "metadata": {},
          "execution_count": 10
        }
      ]
    },
    {
      "cell_type": "code",
      "source": [
        "# Setup device agnostic code\n",
        "device = \"cuda\" if torch.cuda.is_available() else \"cpu\"\n",
        "device"
      ],
      "metadata": {
        "id": "4VVHjrgFKgSw",
        "outputId": "3b8c3807-356e-40e1-d140-a94882c1dab7",
        "colab": {
          "base_uri": "https://localhost:8080/",
          "height": 36
        }
      },
      "execution_count": 11,
      "outputs": [
        {
          "output_type": "execute_result",
          "data": {
            "text/plain": [
              "'cpu'"
            ],
            "application/vnd.google.colaboratory.intrinsic+json": {
              "type": "string"
            }
          },
          "metadata": {},
          "execution_count": 11
        }
      ]
    },
    {
      "cell_type": "code",
      "source": [
        "# Count number of devices\n",
        "torch.cuda.device_count()"
      ],
      "metadata": {
        "id": "FKQxI23eKwG_",
        "outputId": "8b256a70-d445-4011-b644-c59a8b10e526",
        "colab": {
          "base_uri": "https://localhost:8080/"
        }
      },
      "execution_count": 12,
      "outputs": [
        {
          "output_type": "execute_result",
          "data": {
            "text/plain": [
              "0"
            ]
          },
          "metadata": {},
          "execution_count": 12
        }
      ]
    },
    {
      "cell_type": "markdown",
      "source": [
        "For PyTorch since it's capable of running compute on the GPU or CPU, it's **best practise** to setup device agnostic code\n",
        "**NOTE:[Best Pratice](https://pytorch.org/docs/stable/notes/cuda.html#best-practices)**"
      ],
      "metadata": {
        "id": "kn1ZfiRwLVq4"
      }
    },
    {
      "cell_type": "markdown",
      "source": [
        "# 3.Putting tensors (and models) on the GPU\n",
        "\n",
        "The reason we want our tensors/models on the GPU is because using a GPU results in faster computations"
      ],
      "metadata": {
        "id": "HE8EYCb5Menm"
      }
    },
    {
      "cell_type": "code",
      "source": [
        "# Create a tensor (default on the CPU)\n",
        "tensor = torch.tensor([1, 2, 3])\n",
        "\n",
        "# Tensor not on GPU\n",
        "print(tensor, tensor.device)"
      ],
      "metadata": {
        "id": "WsZ6a7hgLVCv",
        "outputId": "7ee9eda7-c618-4339-bf89-2105888e9d38",
        "colab": {
          "base_uri": "https://localhost:8080/"
        }
      },
      "execution_count": 13,
      "outputs": [
        {
          "output_type": "stream",
          "name": "stdout",
          "text": [
            "tensor([1, 2, 3]) cpu\n"
          ]
        }
      ]
    },
    {
      "cell_type": "code",
      "source": [
        "# Movetensor to GPU (if available)\n",
        "tensor_on_gpu = tensor.to(device)\n",
        "tensor_on_gpu, tensor_on_gpu.device  #IF output is: device='cuda:0' means no of device is 1"
      ],
      "metadata": {
        "id": "s_YjJ9-MNUrI",
        "outputId": "3f0fcb70-3a93-4aae-9b02-b90e448a3fa8",
        "colab": {
          "base_uri": "https://localhost:8080/"
        }
      },
      "execution_count": 16,
      "outputs": [
        {
          "output_type": "execute_result",
          "data": {
            "text/plain": [
              "(tensor([1, 2, 3]), device(type='cpu'))"
            ]
          },
          "metadata": {},
          "execution_count": 16
        }
      ]
    },
    {
      "cell_type": "markdown",
      "source": [
        "# 4.Moving tensors back to the CPU\n",
        "\n",
        "  NumPy works only in  --> CPU"
      ],
      "metadata": {
        "id": "0udFfMFTN-nv"
      }
    },
    {
      "cell_type": "code",
      "source": [
        "# If tensor is on GPU, can't transform it to NumPy\n",
        "tensor_on_gpu.numpy() #Its shows error but when i ran it was tensor was in CPU so no error"
      ],
      "metadata": {
        "id": "Io6CjYenOjo3",
        "outputId": "7bab49ba-4297-42e3-d9d8-9dff123bf0cd",
        "colab": {
          "base_uri": "https://localhost:8080/"
        }
      },
      "execution_count": 18,
      "outputs": [
        {
          "output_type": "execute_result",
          "data": {
            "text/plain": [
              "array([1, 2, 3])"
            ]
          },
          "metadata": {},
          "execution_count": 18
        }
      ]
    },
    {
      "cell_type": "code",
      "source": [
        "# To Fix the GPU tensor with NumPy issue, we can first set it to the CPU\n",
        "tensor_on_cpu = tensor_on_gpu.cpu()\n",
        "tensor_on_cpu_numpy = tensor_on_cpu.numpy()\n",
        "tensor_on_cpu, tensor_on_cpu.device, tensor_on_cpu_numpy"
      ],
      "metadata": {
        "id": "3UdWxsBrOKhK",
        "outputId": "83df2476-e0f0-4877-ee50-cd04b34ae9f2",
        "colab": {
          "base_uri": "https://localhost:8080/"
        }
      },
      "execution_count": 17,
      "outputs": [
        {
          "output_type": "execute_result",
          "data": {
            "text/plain": [
              "(tensor([1, 2, 3]), device(type='cpu'), array([1, 2, 3]))"
            ]
          },
          "metadata": {},
          "execution_count": 17
        }
      ]
    },
    {
      "cell_type": "markdown",
      "source": [
        "# Exercise in 00_PyTorch_Fundamentals_Exercise.ipynb"
      ],
      "metadata": {
        "id": "fZV7WuA5SidH"
      }
    }
  ]
}
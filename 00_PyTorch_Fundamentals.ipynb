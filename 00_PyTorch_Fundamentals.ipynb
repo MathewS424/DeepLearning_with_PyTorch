{
  "nbformat": 4,
  "nbformat_minor": 0,
  "metadata": {
    "colab": {
      "provenance": [],
      "toc_visible": true,
      "gpuType": "T4",
      "authorship_tag": "ABX9TyOB3BiWRdgbj3AoR2rnqNH3",
      "include_colab_link": true
    },
    "kernelspec": {
      "name": "python3",
      "display_name": "Python 3"
    },
    "language_info": {
      "name": "python"
    },
    "accelerator": "GPU"
  },
  "cells": [
    {
      "cell_type": "markdown",
      "metadata": {
        "id": "view-in-github",
        "colab_type": "text"
      },
      "source": [
        "<a href=\"https://colab.research.google.com/github/MathewS424/DeepLearning_with_PyTorch/blob/main/00_PyTorch_Fundamentals.ipynb\" target=\"_parent\"><img src=\"https://colab.research.google.com/assets/colab-badge.svg\" alt=\"Open In Colab\"/></a>"
      ]
    },
    {
      "cell_type": "markdown",
      "source": [
        "# 00. PyTorch Fundamentals\n",
        "\n",
        "[Resourse NoteBook](https://www.learnpytorch.io/00_pytorch_fundamentals/)"
      ],
      "metadata": {
        "id": "hDy85L0-tiAb"
      }
    },
    {
      "cell_type": "code",
      "execution_count": 2,
      "metadata": {
        "id": "JcaZHNmP7RkK",
        "outputId": "ccb4ee8a-8f9f-42dc-dc66-03c2de443d8a",
        "colab": {
          "base_uri": "https://localhost:8080/"
        }
      },
      "outputs": [
        {
          "output_type": "stream",
          "name": "stdout",
          "text": [
            "2.4.0+cu121\n"
          ]
        }
      ],
      "source": [
        "import torch\n",
        "import pandas as pd\n",
        "import numpy as np\n",
        "import matplotlib.pyplot as plt\n",
        "print(torch.__version__)"
      ]
    },
    {
      "cell_type": "markdown",
      "source": [
        "# Introduction to Tensor\n",
        "\n",
        "Creating tensors"
      ],
      "metadata": {
        "id": "3KMP_S-mvBv6"
      }
    },
    {
      "cell_type": "code",
      "source": [
        "# scalar\n",
        "scalar = torch.tensor(7)\n",
        "scalar"
      ],
      "metadata": {
        "id": "O7_xUWMxu6Ij",
        "outputId": "fcc31e2a-2a69-4291-ae01-dc99ea4d11ff",
        "colab": {
          "base_uri": "https://localhost:8080/"
        }
      },
      "execution_count": 4,
      "outputs": [
        {
          "output_type": "execute_result",
          "data": {
            "text/plain": [
              "tensor(7)"
            ]
          },
          "metadata": {},
          "execution_count": 4
        }
      ]
    },
    {
      "cell_type": "code",
      "source": [
        "scalar.ndim"
      ],
      "metadata": {
        "id": "hnpCl5zSv4kj",
        "outputId": "0d9bf5bf-79c5-41d3-f461-ae6efc3a7e0d",
        "colab": {
          "base_uri": "https://localhost:8080/"
        }
      },
      "execution_count": 5,
      "outputs": [
        {
          "output_type": "execute_result",
          "data": {
            "text/plain": [
              "0"
            ]
          },
          "metadata": {},
          "execution_count": 5
        }
      ]
    },
    {
      "cell_type": "code",
      "source": [
        "# Get tensor back as Python as int\n",
        "item = scalar.item()\n",
        "item"
      ],
      "metadata": {
        "id": "AsEUcZcHwAHC",
        "outputId": "be525ebb-ca09-4e9e-be18-ef6195c5f621",
        "colab": {
          "base_uri": "https://localhost:8080/"
        }
      },
      "execution_count": 6,
      "outputs": [
        {
          "output_type": "execute_result",
          "data": {
            "text/plain": [
              "7"
            ]
          },
          "metadata": {},
          "execution_count": 6
        }
      ]
    },
    {
      "cell_type": "code",
      "source": [
        "# Vector\n",
        "vector = torch.tensor([7,7])\n",
        "vector"
      ],
      "metadata": {
        "id": "F3J2zOsUwS6i",
        "outputId": "bb477ec5-403d-4e3e-d11e-9d329a950d64",
        "colab": {
          "base_uri": "https://localhost:8080/"
        }
      },
      "execution_count": 7,
      "outputs": [
        {
          "output_type": "execute_result",
          "data": {
            "text/plain": [
              "tensor([7, 7])"
            ]
          },
          "metadata": {},
          "execution_count": 7
        }
      ]
    },
    {
      "cell_type": "code",
      "source": [
        "vector.ndim"
      ],
      "metadata": {
        "id": "H_89z3Vlwhqa",
        "outputId": "2b755d48-ac21-49e5-fbdf-52b18625f253",
        "colab": {
          "base_uri": "https://localhost:8080/"
        }
      },
      "execution_count": 8,
      "outputs": [
        {
          "output_type": "execute_result",
          "data": {
            "text/plain": [
              "1"
            ]
          },
          "metadata": {},
          "execution_count": 8
        }
      ]
    },
    {
      "cell_type": "code",
      "source": [
        "vector.shape"
      ],
      "metadata": {
        "id": "aq2jInqEwlSS",
        "outputId": "073e5430-1cf2-46ee-bec6-cfe9523a087c",
        "colab": {
          "base_uri": "https://localhost:8080/"
        }
      },
      "execution_count": 9,
      "outputs": [
        {
          "output_type": "execute_result",
          "data": {
            "text/plain": [
              "torch.Size([2])"
            ]
          },
          "metadata": {},
          "execution_count": 9
        }
      ]
    },
    {
      "cell_type": "code",
      "source": [
        "# MATRIX\n",
        "matrix = torch.tensor([[7,8],\n",
        "                      [9,10]])\n",
        "matrix"
      ],
      "metadata": {
        "id": "UxlglJ18w8Z6",
        "outputId": "68e0f707-a2d1-49e5-84f4-bb858f3edbb3",
        "colab": {
          "base_uri": "https://localhost:8080/"
        }
      },
      "execution_count": 10,
      "outputs": [
        {
          "output_type": "execute_result",
          "data": {
            "text/plain": [
              "tensor([[ 7,  8],\n",
              "        [ 9, 10]])"
            ]
          },
          "metadata": {},
          "execution_count": 10
        }
      ]
    },
    {
      "cell_type": "code",
      "source": [
        "matrix.ndim"
      ],
      "metadata": {
        "id": "1-2BCai5xBCK",
        "outputId": "b9c8dbc7-fb63-48bf-c4c4-05035b6e8413",
        "colab": {
          "base_uri": "https://localhost:8080/"
        }
      },
      "execution_count": 11,
      "outputs": [
        {
          "output_type": "execute_result",
          "data": {
            "text/plain": [
              "2"
            ]
          },
          "metadata": {},
          "execution_count": 11
        }
      ]
    },
    {
      "cell_type": "code",
      "source": [
        "matrix.shape   # Row x Col ,2X2"
      ],
      "metadata": {
        "id": "DLL9R8eFxDcy",
        "outputId": "43f99ab1-dc2c-4164-94cf-70d406aff124",
        "colab": {
          "base_uri": "https://localhost:8080/"
        }
      },
      "execution_count": 12,
      "outputs": [
        {
          "output_type": "execute_result",
          "data": {
            "text/plain": [
              "torch.Size([2, 2])"
            ]
          },
          "metadata": {},
          "execution_count": 12
        }
      ]
    },
    {
      "cell_type": "code",
      "source": [
        "# Tensor\n",
        "tensor = torch.tensor([[[1,2,3],\n",
        "                       [3,6,9],\n",
        "                       [2,4,5]]])\n",
        "tensor"
      ],
      "metadata": {
        "id": "xoEk_GznxJ4C",
        "outputId": "afb438f8-9f51-4d6e-f230-06d96f49679c",
        "colab": {
          "base_uri": "https://localhost:8080/"
        }
      },
      "execution_count": 13,
      "outputs": [
        {
          "output_type": "execute_result",
          "data": {
            "text/plain": [
              "tensor([[[1, 2, 3],\n",
              "         [3, 6, 9],\n",
              "         [2, 4, 5]]])"
            ]
          },
          "metadata": {},
          "execution_count": 13
        }
      ]
    },
    {
      "cell_type": "code",
      "source": [
        "tensor.ndim"
      ],
      "metadata": {
        "id": "FeN0JzgBxl0p",
        "outputId": "5c3c97f1-082d-4819-d210-b7ff7842c696",
        "colab": {
          "base_uri": "https://localhost:8080/"
        }
      },
      "execution_count": 14,
      "outputs": [
        {
          "output_type": "execute_result",
          "data": {
            "text/plain": [
              "3"
            ]
          },
          "metadata": {},
          "execution_count": 14
        }
      ]
    },
    {
      "cell_type": "code",
      "source": [
        "tensor.shape"
      ],
      "metadata": {
        "id": "Q4yeGKs6xoGS",
        "outputId": "1abadce8-6128-4fea-f44d-a8529baef73b",
        "colab": {
          "base_uri": "https://localhost:8080/"
        }
      },
      "execution_count": 15,
      "outputs": [
        {
          "output_type": "execute_result",
          "data": {
            "text/plain": [
              "torch.Size([1, 3, 3])"
            ]
          },
          "metadata": {},
          "execution_count": 15
        }
      ]
    },
    {
      "cell_type": "code",
      "source": [
        "tensor[0]"
      ],
      "metadata": {
        "id": "RZOk8y3tyNDq",
        "outputId": "52e89648-b018-4db9-8737-26f3506802c5",
        "colab": {
          "base_uri": "https://localhost:8080/"
        }
      },
      "execution_count": 16,
      "outputs": [
        {
          "output_type": "execute_result",
          "data": {
            "text/plain": [
              "tensor([[1, 2, 3],\n",
              "        [3, 6, 9],\n",
              "        [2, 4, 5]])"
            ]
          },
          "metadata": {},
          "execution_count": 16
        }
      ]
    },
    {
      "cell_type": "code",
      "source": [
        "tensor1 = torch.tensor([[[1,2,3],\n",
        "                       [3,6,9],\n",
        "                       [2,4,5]],\n",
        "\n",
        "                       [[11,22,33],\n",
        "                        [33,64,93],\n",
        "                       [23,42,51]]])\n",
        "tensor1"
      ],
      "metadata": {
        "id": "qy5tNfZAySwJ",
        "outputId": "337b9b71-eb5e-45b3-fbfe-1bb19a131a61",
        "colab": {
          "base_uri": "https://localhost:8080/"
        }
      },
      "execution_count": 26,
      "outputs": [
        {
          "output_type": "execute_result",
          "data": {
            "text/plain": [
              "tensor([[[ 1,  2,  3],\n",
              "         [ 3,  6,  9],\n",
              "         [ 2,  4,  5]],\n",
              "\n",
              "        [[11, 22, 33],\n",
              "         [33, 64, 93],\n",
              "         [23, 42, 51]]])"
            ]
          },
          "metadata": {},
          "execution_count": 26
        }
      ]
    },
    {
      "cell_type": "code",
      "source": [
        "tensor1.ndim\n"
      ],
      "metadata": {
        "id": "fKhx4ShYy4Ma",
        "outputId": "a433f2d6-8426-4331-ed50-432307f061ad",
        "colab": {
          "base_uri": "https://localhost:8080/"
        }
      },
      "execution_count": 27,
      "outputs": [
        {
          "output_type": "execute_result",
          "data": {
            "text/plain": [
              "3"
            ]
          },
          "metadata": {},
          "execution_count": 27
        }
      ]
    },
    {
      "cell_type": "code",
      "source": [
        "tensor1.shape"
      ],
      "metadata": {
        "id": "5hq7Ckwmy7WK",
        "outputId": "545ccad4-4324-44d4-c0eb-343b5ef7e993",
        "colab": {
          "base_uri": "https://localhost:8080/"
        }
      },
      "execution_count": 28,
      "outputs": [
        {
          "output_type": "execute_result",
          "data": {
            "text/plain": [
              "torch.Size([2, 3, 3])"
            ]
          },
          "metadata": {},
          "execution_count": 28
        }
      ]
    },
    {
      "cell_type": "code",
      "source": [
        "print(tensor1[1])\n",
        "print(tensor1[0])\n",
        "print(tensor1[1][2])\n",
        "print(tensor1[1][2][2])"
      ],
      "metadata": {
        "id": "EDCurLC8zMny",
        "outputId": "067ee535-3c89-4ee7-cd6f-64b10c99ef1a",
        "colab": {
          "base_uri": "https://localhost:8080/"
        }
      },
      "execution_count": 34,
      "outputs": [
        {
          "output_type": "stream",
          "name": "stdout",
          "text": [
            "tensor([[11, 22, 33],\n",
            "        [33, 64, 93],\n",
            "        [23, 42, 51]])\n",
            "tensor([[1, 2, 3],\n",
            "        [3, 6, 9],\n",
            "        [2, 4, 5]])\n",
            "tensor([23, 42, 51])\n",
            "tensor(51)\n"
          ]
        }
      ]
    },
    {
      "cell_type": "markdown",
      "source": [
        "# Explanation\n",
        "Shape: The shape [4, 5, 3] means:\n",
        "\n",
        "4 blocks (first dimension)  \n",
        "5 rows in each block (second dimension)   \n",
        "3 columns in each row (third dimension)   \n",
        "Last Two Elements Are Not the Same: The rows within each block are not identical, which satisfies the condition that \"the last two elements are not the same.\""
      ],
      "metadata": {
        "id": "KIY1QlSN1ZwK"
      }
    },
    {
      "cell_type": "code",
      "source": [
        "import torch\n",
        "\n",
        "tensor2 = torch.tensor([\n",
        "    [[1, 2, 3],   # Block 1\n",
        "     [3, 6, 9],\n",
        "     [2, 4, 5],\n",
        "     [5, 10, 15],\n",
        "     [7, 14, 21]],\n",
        "\n",
        "    [[11, 22, 33],  # Block 2\n",
        "     [33, 64, 93],\n",
        "     [23, 42, 51],\n",
        "     [44, 88, 132],\n",
        "     [9, 18, 27]],\n",
        "\n",
        "    [[11, 22, 33],  # Block 3\n",
        "     [33, 1, 93],\n",
        "     [23, 42, 51],\n",
        "     [15, 30, 45],\n",
        "     [6, 12, 18]],\n",
        "\n",
        "    [[11, 22, 33],  # Block 4\n",
        "     [33, 64, 93],\n",
        "     [23, 42, 51],\n",
        "     [14, 28, 42],\n",
        "     [3, 6, 9]]\n",
        "])\n",
        "print(tensor2.ndim)   # Output the number of dimensions\n",
        "print(tensor2.shape)  # Output the shape of the tensor\n",
        "print(tensor2)        # Output the tensor itself\n",
        "\n",
        "print(\"_________________________________________________________________________\")\n",
        "\n",
        "tensor2 = torch.tensor([[[1,2,3],\n",
        "                       [3,6,9],\n",
        "                       [2,4,5]],\n",
        "\n",
        "                       [[11,22,33],\n",
        "                        [33,64,93],\n",
        "                       [23,42,51]],\n",
        "\n",
        "                        [[11,22,33],\n",
        "                        [33,1,93],\n",
        "                       [23,42,51]],\n",
        "\n",
        "                        [[11,22,33],\n",
        "                        [33,64,93],\n",
        "                       [23,42,51]]])\n",
        "\n",
        "print(tensor2.ndim)\n",
        "print(tensor2.shape)\n",
        "print(tensor2)"
      ],
      "metadata": {
        "id": "p7bbEXG-z77S",
        "outputId": "4ce475fc-dfac-4412-82fd-b2563610b99d",
        "colab": {
          "base_uri": "https://localhost:8080/"
        }
      },
      "execution_count": 42,
      "outputs": [
        {
          "output_type": "stream",
          "name": "stdout",
          "text": [
            "3\n",
            "torch.Size([4, 5, 3])\n",
            "tensor([[[  1,   2,   3],\n",
            "         [  3,   6,   9],\n",
            "         [  2,   4,   5],\n",
            "         [  5,  10,  15],\n",
            "         [  7,  14,  21]],\n",
            "\n",
            "        [[ 11,  22,  33],\n",
            "         [ 33,  64,  93],\n",
            "         [ 23,  42,  51],\n",
            "         [ 44,  88, 132],\n",
            "         [  9,  18,  27]],\n",
            "\n",
            "        [[ 11,  22,  33],\n",
            "         [ 33,   1,  93],\n",
            "         [ 23,  42,  51],\n",
            "         [ 15,  30,  45],\n",
            "         [  6,  12,  18]],\n",
            "\n",
            "        [[ 11,  22,  33],\n",
            "         [ 33,  64,  93],\n",
            "         [ 23,  42,  51],\n",
            "         [ 14,  28,  42],\n",
            "         [  3,   6,   9]]])\n",
            "_________________________________________________________________________\n",
            "3\n",
            "torch.Size([4, 3, 3])\n",
            "tensor([[[ 1,  2,  3],\n",
            "         [ 3,  6,  9],\n",
            "         [ 2,  4,  5]],\n",
            "\n",
            "        [[11, 22, 33],\n",
            "         [33, 64, 93],\n",
            "         [23, 42, 51]],\n",
            "\n",
            "        [[11, 22, 33],\n",
            "         [33,  1, 93],\n",
            "         [23, 42, 51]],\n",
            "\n",
            "        [[11, 22, 33],\n",
            "         [33, 64, 93],\n",
            "         [23, 42, 51]]])\n"
          ]
        }
      ]
    },
    {
      "cell_type": "markdown",
      "source": [
        "# Random Tensors\n",
        "\n",
        "Why random tensors?\n",
        "\n",
        "Random tensors are important because the way many neural networks learn is that they start with tensors full of random numbers and then adjust those random numbers to better represent the data\n",
        "\n",
        "**Start with random numbers-> look at data-> update random numbers-> look at data-> update random numbers**"
      ],
      "metadata": {
        "id": "iSYDMHpm2k_6"
      }
    },
    {
      "cell_type": "code",
      "source": [
        "# Create a random tensor of size(3, 4), size(1, 5, 4), size(5) ..etc\n",
        "random_tensor = torch.rand(3, 4)\n",
        "random_tensor"
      ],
      "metadata": {
        "id": "BbzlJdNA0GOq",
        "outputId": "34f05dd1-d12a-4db0-d4a3-8af530779152",
        "colab": {
          "base_uri": "https://localhost:8080/"
        }
      },
      "execution_count": 48,
      "outputs": [
        {
          "output_type": "execute_result",
          "data": {
            "text/plain": [
              "tensor([[0.2539, 0.2252, 0.9329, 0.7110],\n",
              "        [0.3998, 0.4173, 0.0929, 0.9306],\n",
              "        [0.5337, 0.5801, 0.4030, 0.4430]])"
            ]
          },
          "metadata": {},
          "execution_count": 48
        }
      ]
    },
    {
      "cell_type": "code",
      "source": [
        "random_tensor.ndim"
      ],
      "metadata": {
        "id": "QwWok-mI3t87",
        "outputId": "4e333a44-648d-4712-9dc0-3fde8c5b08c2",
        "colab": {
          "base_uri": "https://localhost:8080/"
        }
      },
      "execution_count": 49,
      "outputs": [
        {
          "output_type": "execute_result",
          "data": {
            "text/plain": [
              "2"
            ]
          },
          "metadata": {},
          "execution_count": 49
        }
      ]
    },
    {
      "cell_type": "code",
      "source": [
        "# Create a random tensor with similar shape to an image tensor\n",
        "random_image_size_tensor = torch.rand(size=(3, 224, 224)) # color channel(R, G, B), height, width\n",
        "random_image_size_tensor.shape, random_image_size_tensor.ndim"
      ],
      "metadata": {
        "id": "65CTqtyX3tfK",
        "outputId": "142efd0c-e3dd-439a-ef0b-a6968092bc58",
        "colab": {
          "base_uri": "https://localhost:8080/"
        }
      },
      "execution_count": 51,
      "outputs": [
        {
          "output_type": "execute_result",
          "data": {
            "text/plain": [
              "(torch.Size([3, 224, 224]), 3)"
            ]
          },
          "metadata": {},
          "execution_count": 51
        }
      ]
    },
    {
      "cell_type": "markdown",
      "source": [
        "# ZEROES AND ONES"
      ],
      "metadata": {
        "id": "0SQpgw4i5J6S"
      }
    },
    {
      "cell_type": "code",
      "source": [
        "zeroes = torch.zeros(size=(3,4))\n",
        "zeroes"
      ],
      "metadata": {
        "id": "O6xk5c8a5JDy",
        "outputId": "be21d584-2d79-4dbf-dc80-e57ccd55cf2a",
        "colab": {
          "base_uri": "https://localhost:8080/"
        }
      },
      "execution_count": 52,
      "outputs": [
        {
          "output_type": "execute_result",
          "data": {
            "text/plain": [
              "tensor([[0., 0., 0., 0.],\n",
              "        [0., 0., 0., 0.],\n",
              "        [0., 0., 0., 0.]])"
            ]
          },
          "metadata": {},
          "execution_count": 52
        }
      ]
    },
    {
      "cell_type": "code",
      "source": [
        "ones = torch.ones(size=(2,3,4))\n",
        "ones"
      ],
      "metadata": {
        "id": "5UZpiPVF5pR6",
        "outputId": "408e4f1b-38bc-4a43-acc7-16297921938f",
        "colab": {
          "base_uri": "https://localhost:8080/"
        }
      },
      "execution_count": 54,
      "outputs": [
        {
          "output_type": "execute_result",
          "data": {
            "text/plain": [
              "tensor([[[1., 1., 1., 1.],\n",
              "         [1., 1., 1., 1.],\n",
              "         [1., 1., 1., 1.]],\n",
              "\n",
              "        [[1., 1., 1., 1.],\n",
              "         [1., 1., 1., 1.],\n",
              "         [1., 1., 1., 1.]]])"
            ]
          },
          "metadata": {},
          "execution_count": 54
        }
      ]
    },
    {
      "cell_type": "code",
      "source": [
        "ones*random_tensor"
      ],
      "metadata": {
        "id": "FJd_KXEV5u-6",
        "outputId": "6143ff9d-9c13-43fc-d0d3-218e5beeaa1a",
        "colab": {
          "base_uri": "https://localhost:8080/"
        }
      },
      "execution_count": 55,
      "outputs": [
        {
          "output_type": "execute_result",
          "data": {
            "text/plain": [
              "tensor([[[0.2539, 0.2252, 0.9329, 0.7110],\n",
              "         [0.3998, 0.4173, 0.0929, 0.9306],\n",
              "         [0.5337, 0.5801, 0.4030, 0.4430]],\n",
              "\n",
              "        [[0.2539, 0.2252, 0.9329, 0.7110],\n",
              "         [0.3998, 0.4173, 0.0929, 0.9306],\n",
              "         [0.5337, 0.5801, 0.4030, 0.4430]]])"
            ]
          },
          "metadata": {},
          "execution_count": 55
        }
      ]
    },
    {
      "cell_type": "code",
      "source": [
        "print(random_tensor.dtype)\n",
        "print(ones.dtype)\n",
        "print(zeroes.dtype)"
      ],
      "metadata": {
        "id": "z35WJTAZ52Va",
        "outputId": "2a19c26a-6e5a-423f-affc-403725751c5c",
        "colab": {
          "base_uri": "https://localhost:8080/"
        }
      },
      "execution_count": 56,
      "outputs": [
        {
          "output_type": "stream",
          "name": "stdout",
          "text": [
            "torch.float32\n",
            "torch.float32\n",
            "torch.float32\n"
          ]
        }
      ]
    },
    {
      "cell_type": "markdown",
      "source": [
        "# Creating a range of tensors and tensors-like"
      ],
      "metadata": {
        "id": "1IQEBF-36Qdx"
      }
    },
    {
      "cell_type": "code",
      "source": [
        "# Use torch.range()\n",
        "print(torch.range(1, 10))\n",
        "print(torch.arange(11, 20))\n",
        "print(torch.arange(start=0, end=1000, step=77))\n",
        "print(torch.arange(start=0, end=11, step=1))\n",
        "print(\"\\n\")"
      ],
      "metadata": {
        "id": "kk7unGo36jry",
        "outputId": "f01ec459-1b7f-41ec-d837-845105841376",
        "colab": {
          "base_uri": "https://localhost:8080/"
        }
      },
      "execution_count": 63,
      "outputs": [
        {
          "output_type": "stream",
          "name": "stdout",
          "text": [
            "tensor([ 1.,  2.,  3.,  4.,  5.,  6.,  7.,  8.,  9., 10.])\n",
            "tensor([11, 12, 13, 14, 15, 16, 17, 18, 19])\n",
            "tensor([  0,  77, 154, 231, 308, 385, 462, 539, 616, 693, 770, 847, 924])\n",
            "tensor([ 0,  1,  2,  3,  4,  5,  6,  7,  8,  9, 10])\n",
            "\n",
            "\n"
          ]
        },
        {
          "output_type": "stream",
          "name": "stderr",
          "text": [
            "<ipython-input-63-c2417c2d234e>:2: UserWarning: torch.range is deprecated and will be removed in a future release because its behavior is inconsistent with Python's range builtin. Instead, use torch.arange, which produces values in [start, end).\n",
            "  print(torch.range(1, 10))\n"
          ]
        }
      ]
    },
    {
      "cell_type": "code",
      "source": [
        "# Creating tensors like\n",
        "ten_zeros = torch.zeros_like(input=random_tensor)  # Create a tensor of all zeros with the same shape as random_tensor\n",
        "ten_zeros"
      ],
      "metadata": {
        "id": "es8EYPKq72ua",
        "outputId": "eae8e853-41fa-4070-ac40-8ec9b6813405",
        "colab": {
          "base_uri": "https://localhost:8080/"
        }
      },
      "execution_count": 64,
      "outputs": [
        {
          "output_type": "execute_result",
          "data": {
            "text/plain": [
              "tensor([[0., 0., 0., 0.],\n",
              "        [0., 0., 0., 0.],\n",
              "        [0., 0., 0., 0.]])"
            ]
          },
          "metadata": {},
          "execution_count": 64
        }
      ]
    },
    {
      "cell_type": "markdown",
      "source": [
        "# Tensor datatypes\n",
        "**Common Issues or Error that occurs**   \n",
        "      1.Tensors not right datatype - to troubleshoot tensor.dtype     \n",
        "      2.Tensors not right shape - to troubleshoot tensor.shape  \n",
        "      3.Tensors not on the right device - to troubleshoot tensor.device"
      ],
      "metadata": {
        "id": "o6dRBZb-9Xq7"
      }
    },
    {
      "cell_type": "code",
      "source": [
        "# Float 32 tensor by default\n",
        "float_32_tensor = torch.tensor([3.0, 6.0, 9.0],\n",
        "                               dtype=None,  # what datatype is the tensor (e.g. float32 or float16)\n",
        "                               device=None, # what device is your tensor on\n",
        "                               requires_grad=False) # whether or not to track gradients with this tensors operations\n",
        "float_32_tensor"
      ],
      "metadata": {
        "id": "0hp8nXfJ9b8y",
        "outputId": "4c66ca73-3182-4115-b4b8-57089f2e2ea6",
        "colab": {
          "base_uri": "https://localhost:8080/"
        }
      },
      "execution_count": 70,
      "outputs": [
        {
          "output_type": "execute_result",
          "data": {
            "text/plain": [
              "tensor([3., 6., 9.])"
            ]
          },
          "metadata": {},
          "execution_count": 70
        }
      ]
    },
    {
      "cell_type": "code",
      "source": [
        "float_16_tensor = torch.tensor([3.0, 6.0, 9.0],\n",
        "                               dtype=torch.float16) # what datatype is the tensor (e.g. float32 or float16)\n",
        "float_16_tensor"
      ],
      "metadata": {
        "id": "8OYOoOZm9tEq",
        "outputId": "a1db0c49-a78e-4503-a304-3d06169bbe58",
        "colab": {
          "base_uri": "https://localhost:8080/"
        }
      },
      "execution_count": 71,
      "outputs": [
        {
          "output_type": "execute_result",
          "data": {
            "text/plain": [
              "tensor([3., 6., 9.], dtype=torch.float16)"
            ]
          },
          "metadata": {},
          "execution_count": 71
        }
      ]
    },
    {
      "cell_type": "code",
      "source": [
        "float_16_tensor = float_32_tensor.type(torch.float16)\n",
        "float_16_tensor"
      ],
      "metadata": {
        "id": "WOoF6FP4_-ZJ",
        "outputId": "e4a773b1-a83e-43e1-d56d-cff9aa47aaa2",
        "colab": {
          "base_uri": "https://localhost:8080/"
        }
      },
      "execution_count": 68,
      "outputs": [
        {
          "output_type": "execute_result",
          "data": {
            "text/plain": [
              "tensor([3., 6., 9.], dtype=torch.float16)"
            ]
          },
          "metadata": {},
          "execution_count": 68
        }
      ]
    },
    {
      "cell_type": "code",
      "source": [
        "float_16_tensor * float_32_tensor"
      ],
      "metadata": {
        "id": "L4QXttduAZKi",
        "outputId": "332a1b52-6bee-4d8c-e47a-6ef7cff382e7",
        "colab": {
          "base_uri": "https://localhost:8080/"
        }
      },
      "execution_count": 72,
      "outputs": [
        {
          "output_type": "execute_result",
          "data": {
            "text/plain": [
              "tensor([ 9., 36., 81.])"
            ]
          },
          "metadata": {},
          "execution_count": 72
        }
      ]
    },
    {
      "cell_type": "code",
      "source": [
        "int_32_tensor = torch.tensor([3, 6, 9], dtype=torch.int32)\n",
        "int_32_tensor"
      ],
      "metadata": {
        "id": "WgCpIBzJAz-K",
        "outputId": "4f86559c-de95-4340-8db0-3344ba8cde48",
        "colab": {
          "base_uri": "https://localhost:8080/"
        }
      },
      "execution_count": 73,
      "outputs": [
        {
          "output_type": "execute_result",
          "data": {
            "text/plain": [
              "tensor([3, 6, 9], dtype=torch.int32)"
            ]
          },
          "metadata": {},
          "execution_count": 73
        }
      ]
    },
    {
      "cell_type": "code",
      "source": [
        "float_32_tensor * int_32_tensor"
      ],
      "metadata": {
        "id": "NVBiCAL8A48i",
        "outputId": "da51f199-1e88-465f-cbf1-6c1fb610512d",
        "colab": {
          "base_uri": "https://localhost:8080/"
        }
      },
      "execution_count": 74,
      "outputs": [
        {
          "output_type": "execute_result",
          "data": {
            "text/plain": [
              "tensor([ 9., 36., 81.])"
            ]
          },
          "metadata": {},
          "execution_count": 74
        }
      ]
    },
    {
      "cell_type": "markdown",
      "source": [
        "# Tensor Attribute"
      ],
      "metadata": {
        "id": "TwmTXbjZDWaT"
      }
    },
    {
      "cell_type": "code",
      "source": [
        "# Create some tensor and Tensor attributes\n",
        "some_tensor = torch.rand(3, 4)\n",
        "print(some_tensor)\n",
        "print(f\"Datatype of tensor: {some_tensor.dtype}\")\n",
        "print(f\"Shape of tensor: {some_tensor.shape}\")\n",
        "print(f\"Device tensor is on: {some_tensor.device}\")"
      ],
      "metadata": {
        "id": "_Sxr4PYHBw3y",
        "outputId": "c7ced88e-e7fb-4ea9-da8c-00f4dad29861",
        "colab": {
          "base_uri": "https://localhost:8080/"
        }
      },
      "execution_count": 75,
      "outputs": [
        {
          "output_type": "stream",
          "name": "stdout",
          "text": [
            "tensor([[0.3581, 0.4772, 0.2741, 0.8349],\n",
            "        [0.5795, 0.5094, 0.4516, 0.8881],\n",
            "        [0.7994, 0.7637, 0.2646, 0.5452]])\n",
            "Datatype of tensor: torch.float32\n",
            "Shape of tensor: torch.Size([3, 4])\n",
            "Device tensor is on: cpu\n"
          ]
        }
      ]
    },
    {
      "cell_type": "markdown",
      "source": [
        "# Manipulating Tensors (tensor operations)"
      ],
      "metadata": {
        "id": "LDnje_qfS3Xh"
      }
    },
    {
      "cell_type": "code",
      "source": [
        "# Create a tensor and add 10 to it\n",
        "tensor = torch.tensor([1, 2, 3])\n",
        "tensor + 10"
      ],
      "metadata": {
        "id": "TCjHmy4QS7iJ",
        "outputId": "1f720cc0-09f3-4289-8ddd-a199482b9e57",
        "colab": {
          "base_uri": "https://localhost:8080/"
        }
      },
      "execution_count": 81,
      "outputs": [
        {
          "output_type": "execute_result",
          "data": {
            "text/plain": [
              "tensor([11, 12, 13])"
            ]
          },
          "metadata": {},
          "execution_count": 81
        }
      ]
    },
    {
      "cell_type": "code",
      "source": [
        "# Multiply tensor by 10\n",
        "print(tensor * 10)\n",
        "tensor = tensor * 20\n",
        "tensor"
      ],
      "metadata": {
        "id": "LZW1XODCTq_4",
        "outputId": "a101d356-1247-4a4e-9405-364849ca32be",
        "colab": {
          "base_uri": "https://localhost:8080/"
        }
      },
      "execution_count": 82,
      "outputs": [
        {
          "output_type": "stream",
          "name": "stdout",
          "text": [
            "tensor([10, 20, 30])\n"
          ]
        },
        {
          "output_type": "execute_result",
          "data": {
            "text/plain": [
              "tensor([20, 40, 60])"
            ]
          },
          "metadata": {},
          "execution_count": 82
        }
      ]
    },
    {
      "cell_type": "code",
      "source": [
        "# Try out PyTorch inbuilt functions\n",
        "torch.mul(tensor, 10)"
      ],
      "metadata": {
        "id": "l4GtSs44UOJh",
        "outputId": "d0b19986-617c-4d09-9583-712128b6ca62",
        "colab": {
          "base_uri": "https://localhost:8080/"
        }
      },
      "execution_count": 83,
      "outputs": [
        {
          "output_type": "execute_result",
          "data": {
            "text/plain": [
              "tensor([200, 400, 600])"
            ]
          },
          "metadata": {},
          "execution_count": 83
        }
      ]
    },
    {
      "cell_type": "markdown",
      "source": [
        "# Matrix Multiplication\n",
        "Two main ways of performing multiplication in neural networks and deep learning:  \n",
        "1.Element wise multplication  \n",
        "2.Matrix multiplication(dot product)\n",
        "\n",
        "There are two main rules that performinng matrix multi needs to satisfy:\n",
        "1. The **inner dimentions** must match:     \n",
        "  (3, 2) @ (3, 2) - won't work      \n",
        "  (2, 3) @ (3, 2) - will work     \n",
        "  (3, 2) @ (2, 3) - will work\n",
        "\n",
        "2.  The result matrix has the shape of the **outer dimentions**   \n",
        "  (2, 3) @ (3, 2) -> (2, 2)   \n",
        "  (3, 2) @ (2, 3) -> (3, 3)"
      ],
      "metadata": {
        "id": "Rvb1tgccU5dp"
      }
    },
    {
      "cell_type": "code",
      "source": [
        "# Element wise multiplication\n",
        "print(tensor, \"*\", tensor)\n",
        "print(f\"Equals: {tensor * tensor}\")"
      ],
      "metadata": {
        "id": "82Qr7czeUx3Z",
        "outputId": "82ee08f0-5627-45c0-e7d7-7a91a23c2668",
        "colab": {
          "base_uri": "https://localhost:8080/"
        }
      },
      "execution_count": 84,
      "outputs": [
        {
          "output_type": "stream",
          "name": "stdout",
          "text": [
            "tensor([20, 40, 60]) * tensor([20, 40, 60])\n",
            "Equals: tensor([ 400, 1600, 3600])\n"
          ]
        }
      ]
    },
    {
      "cell_type": "code",
      "source": [
        "# Matrix Multiplication\n",
        "torch.matmul(tensor, tensor)"
      ],
      "metadata": {
        "id": "VH4h3ULeV57g",
        "outputId": "2b1ab741-7a86-4746-d2d1-d523be0ca777",
        "colab": {
          "base_uri": "https://localhost:8080/"
        }
      },
      "execution_count": 86,
      "outputs": [
        {
          "output_type": "execute_result",
          "data": {
            "text/plain": [
              "tensor(5600)"
            ]
          },
          "metadata": {},
          "execution_count": 86
        }
      ]
    },
    {
      "cell_type": "code",
      "source": [
        "tensor @ tensor"
      ],
      "metadata": {
        "id": "IRgrAPqEXpFA",
        "outputId": "ac3f2d24-3757-4aaa-b2f7-757c2dc69e33",
        "colab": {
          "base_uri": "https://localhost:8080/"
        }
      },
      "execution_count": 87,
      "outputs": [
        {
          "output_type": "execute_result",
          "data": {
            "text/plain": [
              "tensor(5600)"
            ]
          },
          "metadata": {},
          "execution_count": 87
        }
      ]
    },
    {
      "cell_type": "code",
      "source": [
        "torch.matmul(torch.rand(3, 2), torch.rand(3, 2))"
      ],
      "metadata": {
        "id": "zG5xAY69YRKZ",
        "outputId": "e2a41e66-7f67-46f7-b539-b0297f6502d4",
        "colab": {
          "base_uri": "https://localhost:8080/",
          "height": 141
        }
      },
      "execution_count": 88,
      "outputs": [
        {
          "output_type": "error",
          "ename": "RuntimeError",
          "evalue": "mat1 and mat2 shapes cannot be multiplied (3x2 and 3x2)",
          "traceback": [
            "\u001b[0;31m---------------------------------------------------------------------------\u001b[0m",
            "\u001b[0;31mRuntimeError\u001b[0m                              Traceback (most recent call last)",
            "\u001b[0;32m<ipython-input-88-9adeb7046560>\u001b[0m in \u001b[0;36m<cell line: 1>\u001b[0;34m()\u001b[0m\n\u001b[0;32m----> 1\u001b[0;31m \u001b[0mtorch\u001b[0m\u001b[0;34m.\u001b[0m\u001b[0mmatmul\u001b[0m\u001b[0;34m(\u001b[0m\u001b[0mtorch\u001b[0m\u001b[0;34m.\u001b[0m\u001b[0mrand\u001b[0m\u001b[0;34m(\u001b[0m\u001b[0;36m3\u001b[0m\u001b[0;34m,\u001b[0m \u001b[0;36m2\u001b[0m\u001b[0;34m)\u001b[0m\u001b[0;34m,\u001b[0m \u001b[0mtorch\u001b[0m\u001b[0;34m.\u001b[0m\u001b[0mrand\u001b[0m\u001b[0;34m(\u001b[0m\u001b[0;36m3\u001b[0m\u001b[0;34m,\u001b[0m \u001b[0;36m2\u001b[0m\u001b[0;34m)\u001b[0m\u001b[0;34m)\u001b[0m\u001b[0;34m\u001b[0m\u001b[0;34m\u001b[0m\u001b[0m\n\u001b[0m",
            "\u001b[0;31mRuntimeError\u001b[0m: mat1 and mat2 shapes cannot be multiplied (3x2 and 3x2)"
          ]
        }
      ]
    },
    {
      "cell_type": "code",
      "source": [
        "print(torch.matmul(torch.rand(3, 2), torch.rand(2, 3)))\n",
        "torch.matmul(torch.rand(3, 2), torch.rand(2, 3)).shape\n"
      ],
      "metadata": {
        "id": "mY_DuFWQYfFR",
        "outputId": "88050367-9802-4aff-acfd-ccd961c684f1",
        "colab": {
          "base_uri": "https://localhost:8080/"
        }
      },
      "execution_count": 90,
      "outputs": [
        {
          "output_type": "stream",
          "name": "stdout",
          "text": [
            "tensor([[0.3666, 0.2858, 0.5569],\n",
            "        [0.0120, 0.0265, 0.0998],\n",
            "        [0.3421, 0.2518, 0.4491]])\n"
          ]
        },
        {
          "output_type": "execute_result",
          "data": {
            "text/plain": [
              "torch.Size([3, 3])"
            ]
          },
          "metadata": {},
          "execution_count": 90
        }
      ]
    },
    {
      "cell_type": "markdown",
      "source": [
        "# One of the most common errors in deep learning: shape errors"
      ],
      "metadata": {
        "id": "R5uO37AFaaIY"
      }
    },
    {
      "cell_type": "code",
      "source": [
        "# Shapes for matrix multiplication\n",
        "tensor_A = torch.tensor([[1, 2],\n",
        "                         [3, 4],\n",
        "                         [5, 6]])\n",
        "tensor_B = torch.tensor([[7, 10],\n",
        "                         [8, 11],\n",
        "                         [9, 12]])\n",
        "torch.mm(tensor_A, tensor_B) # torch.mm is the same as torch.matmul (it's an alias for writing less code)"
      ],
      "metadata": {
        "id": "B1uNgLSkag0R",
        "outputId": "6b201932-a19a-4c97-e42d-4baa13f02a41",
        "colab": {
          "base_uri": "https://localhost:8080/",
          "height": 176
        }
      },
      "execution_count": 91,
      "outputs": [
        {
          "output_type": "error",
          "ename": "RuntimeError",
          "evalue": "mat1 and mat2 shapes cannot be multiplied (3x2 and 3x2)",
          "traceback": [
            "\u001b[0;31m---------------------------------------------------------------------------\u001b[0m",
            "\u001b[0;31mRuntimeError\u001b[0m                              Traceback (most recent call last)",
            "\u001b[0;32m<ipython-input-91-2825187717a5>\u001b[0m in \u001b[0;36m<cell line: 8>\u001b[0;34m()\u001b[0m\n\u001b[1;32m      6\u001b[0m                          \u001b[0;34m[\u001b[0m\u001b[0;36m8\u001b[0m\u001b[0;34m,\u001b[0m \u001b[0;36m11\u001b[0m\u001b[0;34m]\u001b[0m\u001b[0;34m,\u001b[0m\u001b[0;34m\u001b[0m\u001b[0;34m\u001b[0m\u001b[0m\n\u001b[1;32m      7\u001b[0m                          [9, 12]])\n\u001b[0;32m----> 8\u001b[0;31m \u001b[0mtorch\u001b[0m\u001b[0;34m.\u001b[0m\u001b[0mmm\u001b[0m\u001b[0;34m(\u001b[0m\u001b[0mtensor_A\u001b[0m\u001b[0;34m,\u001b[0m \u001b[0mtensor_B\u001b[0m\u001b[0;34m)\u001b[0m \u001b[0;31m# torch.mm is the same as torch.matmul (it's an alias for writing less code)\u001b[0m\u001b[0;34m\u001b[0m\u001b[0;34m\u001b[0m\u001b[0m\n\u001b[0m",
            "\u001b[0;31mRuntimeError\u001b[0m: mat1 and mat2 shapes cannot be multiplied (3x2 and 3x2)"
          ]
        }
      ]
    },
    {
      "cell_type": "code",
      "source": [
        "tensor_A.shape, tensor_B.shape"
      ],
      "metadata": {
        "id": "oLDIDyW_cAhI",
        "outputId": "553fa1ec-78f3-46dc-81d5-33dd34fa3e3b",
        "colab": {
          "base_uri": "https://localhost:8080/"
        }
      },
      "execution_count": 92,
      "outputs": [
        {
          "output_type": "execute_result",
          "data": {
            "text/plain": [
              "(torch.Size([3, 2]), torch.Size([3, 2]))"
            ]
          },
          "metadata": {},
          "execution_count": 92
        }
      ]
    },
    {
      "cell_type": "markdown",
      "source": [
        "To Fix our tensor shape issues, we can manipulate the shape of one of ours tensors using **transpose**\n",
        "A **transpose** switches the axes or dimentions of a given tensor"
      ],
      "metadata": {
        "id": "x-dHvxm3b_np"
      }
    },
    {
      "cell_type": "code",
      "source": [
        "print(f\"Oringinal:\\n\\t{tensor_B}\")\n",
        "print(f\"Transpose:\\n\\t{tensor_B.T}\")\n",
        "print(f\"Shape:\\t{tensor_B.T.shape}\")"
      ],
      "metadata": {
        "id": "tl_UQh2-cpNI",
        "outputId": "0427af6d-18e0-441f-c177-ffea1188918f",
        "colab": {
          "base_uri": "https://localhost:8080/"
        }
      },
      "execution_count": 98,
      "outputs": [
        {
          "output_type": "stream",
          "name": "stdout",
          "text": [
            "Oringinal:\n",
            "\ttensor([[ 7, 10],\n",
            "        [ 8, 11],\n",
            "        [ 9, 12]])\n",
            "Transpose:\n",
            "\ttensor([[ 7,  8,  9],\n",
            "        [10, 11, 12]])\n",
            "Shape:\ttorch.Size([2, 3])\n"
          ]
        }
      ]
    },
    {
      "cell_type": "code",
      "source": [
        "# The matrix multi operation works when tensor_B is transposed\n",
        "torch.mm(tensor_A, tensor_B.T) #3X2 2X3 ->3X3"
      ],
      "metadata": {
        "id": "ZSmf63kRdluR",
        "outputId": "5ea11e7d-8294-4db9-e490-660ea8e17317",
        "colab": {
          "base_uri": "https://localhost:8080/"
        }
      },
      "execution_count": 99,
      "outputs": [
        {
          "output_type": "execute_result",
          "data": {
            "text/plain": [
              "tensor([[ 27,  30,  33],\n",
              "        [ 61,  68,  75],\n",
              "        [ 95, 106, 117]])"
            ]
          },
          "metadata": {},
          "execution_count": 99
        }
      ]
    },
    {
      "cell_type": "markdown",
      "source": [
        "# Find the min, max, mean, sum, etc (tensor aggregation)"
      ],
      "metadata": {
        "id": "eshDe2Gcky06"
      }
    },
    {
      "cell_type": "code",
      "source": [
        "# Create a tensor\n",
        "x = torch.arange(1, 100, 10)\n",
        "x"
      ],
      "metadata": {
        "id": "nolGaZ6Xk7RA",
        "outputId": "fc52d449-e997-4bc5-ea17-5dacf8eb6fd0",
        "colab": {
          "base_uri": "https://localhost:8080/"
        }
      },
      "execution_count": 108,
      "outputs": [
        {
          "output_type": "execute_result",
          "data": {
            "text/plain": [
              "tensor([ 1, 11, 21, 31, 41, 51, 61, 71, 81, 91])"
            ]
          },
          "metadata": {},
          "execution_count": 108
        }
      ]
    },
    {
      "cell_type": "code",
      "source": [
        "# Find the min\n",
        "torch.min(x), x.min()"
      ],
      "metadata": {
        "id": "x7JEWehulASw",
        "outputId": "feedc8f5-af79-4ddd-d285-e70e1f7d9001",
        "colab": {
          "base_uri": "https://localhost:8080/"
        }
      },
      "execution_count": 101,
      "outputs": [
        {
          "output_type": "execute_result",
          "data": {
            "text/plain": [
              "(tensor(0), tensor(0))"
            ]
          },
          "metadata": {},
          "execution_count": 101
        }
      ]
    },
    {
      "cell_type": "code",
      "source": [
        "# Find the max\n",
        "torch.max(x), x.max()"
      ],
      "metadata": {
        "id": "PotpUA6elGyB",
        "outputId": "cba38d0b-6a15-4996-868a-ccbc63b1ada6",
        "colab": {
          "base_uri": "https://localhost:8080/"
        }
      },
      "execution_count": 102,
      "outputs": [
        {
          "output_type": "execute_result",
          "data": {
            "text/plain": [
              "(tensor(90), tensor(90))"
            ]
          },
          "metadata": {},
          "execution_count": 102
        }
      ]
    },
    {
      "cell_type": "code",
      "source": [
        "# Find the mean\n",
        "torch.mean(x)"
      ],
      "metadata": {
        "id": "c_RuaD28lNv5",
        "outputId": "bbe82595-50a2-4115-f4a5-54dc642cca30",
        "colab": {
          "base_uri": "https://localhost:8080/",
          "height": 158
        }
      },
      "execution_count": 103,
      "outputs": [
        {
          "output_type": "error",
          "ename": "RuntimeError",
          "evalue": "mean(): could not infer output dtype. Input dtype must be either a floating point or complex dtype. Got: Long",
          "traceback": [
            "\u001b[0;31m---------------------------------------------------------------------------\u001b[0m",
            "\u001b[0;31mRuntimeError\u001b[0m                              Traceback (most recent call last)",
            "\u001b[0;32m<ipython-input-103-7519b7c6f2fb>\u001b[0m in \u001b[0;36m<cell line: 2>\u001b[0;34m()\u001b[0m\n\u001b[1;32m      1\u001b[0m \u001b[0;31m# Find the mean\u001b[0m\u001b[0;34m\u001b[0m\u001b[0;34m\u001b[0m\u001b[0m\n\u001b[0;32m----> 2\u001b[0;31m \u001b[0mtorch\u001b[0m\u001b[0;34m.\u001b[0m\u001b[0mmean\u001b[0m\u001b[0;34m(\u001b[0m\u001b[0mx\u001b[0m\u001b[0;34m)\u001b[0m\u001b[0;34m\u001b[0m\u001b[0;34m\u001b[0m\u001b[0m\n\u001b[0m",
            "\u001b[0;31mRuntimeError\u001b[0m: mean(): could not infer output dtype. Input dtype must be either a floating point or complex dtype. Got: Long"
          ]
        }
      ]
    },
    {
      "cell_type": "code",
      "source": [
        "torch.mean(x.type(torch.float32)), x.type(torch.float32).mean()"
      ],
      "metadata": {
        "id": "8aSaLA0JlUzY",
        "outputId": "2e29c8cf-b1bb-48cb-cc47-fa0a137a0c0f",
        "colab": {
          "base_uri": "https://localhost:8080/"
        }
      },
      "execution_count": 104,
      "outputs": [
        {
          "output_type": "execute_result",
          "data": {
            "text/plain": [
              "(tensor(45.), tensor(45.))"
            ]
          },
          "metadata": {},
          "execution_count": 104
        }
      ]
    },
    {
      "cell_type": "code",
      "source": [
        "# Find the sum\n",
        "torch.sum(x), x.sum()"
      ],
      "metadata": {
        "id": "5VfTfdiSl01w",
        "outputId": "98a62d24-08c4-4706-ac09-02e624b780e6",
        "colab": {
          "base_uri": "https://localhost:8080/"
        }
      },
      "execution_count": 105,
      "outputs": [
        {
          "output_type": "execute_result",
          "data": {
            "text/plain": [
              "(tensor(450), tensor(450))"
            ]
          },
          "metadata": {},
          "execution_count": 105
        }
      ]
    },
    {
      "cell_type": "markdown",
      "source": [
        "# Positional Min and Max\n",
        "**argmin(), argmax()**"
      ],
      "metadata": {
        "id": "BqUY6jRQmSuK"
      }
    },
    {
      "cell_type": "code",
      "source": [
        "x"
      ],
      "metadata": {
        "id": "uJSi1LXSmjzQ",
        "outputId": "cf2208f6-e51a-462c-f424-0e2aa9fef31e",
        "colab": {
          "base_uri": "https://localhost:8080/"
        }
      },
      "execution_count": 106,
      "outputs": [
        {
          "output_type": "execute_result",
          "data": {
            "text/plain": [
              "tensor([ 0, 10, 20, 30, 40, 50, 60, 70, 80, 90])"
            ]
          },
          "metadata": {},
          "execution_count": 106
        }
      ]
    },
    {
      "cell_type": "code",
      "source": [
        "# Find the position in tensor that has the minimum value with argmin() -> returns index position of target tensor wheere the minimum value occur\n",
        "x.argmin()"
      ],
      "metadata": {
        "id": "f8rHu_hkmlTZ",
        "outputId": "efdbfbbd-0ee8-4af9-f213-f7898c29d520",
        "colab": {
          "base_uri": "https://localhost:8080/"
        }
      },
      "execution_count": 110,
      "outputs": [
        {
          "output_type": "execute_result",
          "data": {
            "text/plain": [
              "tensor(0)"
            ]
          },
          "metadata": {},
          "execution_count": 110
        }
      ]
    },
    {
      "cell_type": "code",
      "source": [
        "x[0]"
      ],
      "metadata": {
        "id": "MIoTwqzKm9wi",
        "outputId": "0a856746-46f6-4440-e21c-419935185ac6",
        "colab": {
          "base_uri": "https://localhost:8080/"
        }
      },
      "execution_count": 111,
      "outputs": [
        {
          "output_type": "execute_result",
          "data": {
            "text/plain": [
              "tensor(1)"
            ]
          },
          "metadata": {},
          "execution_count": 111
        }
      ]
    },
    {
      "cell_type": "code",
      "source": [
        "# Find the position in tensor that has the maximum value with argmin() -> returns index position of target tensor wheere the minimum value occur\n",
        "x.argmax()"
      ],
      "metadata": {
        "id": "Rccx3xo-nBSw",
        "outputId": "eef7d4c2-1a66-411f-d5c6-c7c7daa7f3f9",
        "colab": {
          "base_uri": "https://localhost:8080/"
        }
      },
      "execution_count": 112,
      "outputs": [
        {
          "output_type": "execute_result",
          "data": {
            "text/plain": [
              "tensor(9)"
            ]
          },
          "metadata": {},
          "execution_count": 112
        }
      ]
    },
    {
      "cell_type": "code",
      "source": [
        "x[9]"
      ],
      "metadata": {
        "id": "YtwF5fYZnFGg",
        "outputId": "5c25574a-0d73-4507-f5de-9a397f3d941e",
        "colab": {
          "base_uri": "https://localhost:8080/"
        }
      },
      "execution_count": 113,
      "outputs": [
        {
          "output_type": "execute_result",
          "data": {
            "text/plain": [
              "tensor(91)"
            ]
          },
          "metadata": {},
          "execution_count": 113
        }
      ]
    },
    {
      "cell_type": "markdown",
      "source": [
        "# Reshaping, stacking, squeezing and unsqueezing tensors\n",
        "\n",
        "* Reshaping - reshapes an input tensor to a defined shape\n",
        "* View - Retuen a view of an input tensor of certain shape but keep the same memory as the original tensor\n",
        "* Stacking - combine multiple tensors on top of each other (vstack) or side by side (hstack)\n",
        "* Squeeze - removes all `1` dimentions from a tensor\n",
        "* Unsqueeze - add a `1` dimention to a target tensor\n",
        "*Permute- Return a view of the input with dimentions permuted (swapped) in a certain way"
      ],
      "metadata": {
        "id": "tFLdIo9Anwox"
      }
    },
    {
      "cell_type": "code",
      "source": [
        "# Create a tensor\n",
        "import torch\n",
        "x = torch.arange(1., 11.)\n",
        "x, x.shape"
      ],
      "metadata": {
        "id": "fxt8b9ZDpCE5",
        "outputId": "de184f65-4fc6-4f95-b75f-f73576d9ee7c",
        "colab": {
          "base_uri": "https://localhost:8080/"
        }
      },
      "execution_count": 127,
      "outputs": [
        {
          "output_type": "execute_result",
          "data": {
            "text/plain": [
              "(tensor([ 1.,  2.,  3.,  4.,  5.,  6.,  7.,  8.,  9., 10.]), torch.Size([10]))"
            ]
          },
          "metadata": {},
          "execution_count": 127
        }
      ]
    },
    {
      "cell_type": "code",
      "source": [
        "# Add an extra dimention\n",
        "x_reshaped = x.reshape(1, 7)\n",
        "x_reshaped, x_reshaped.shape"
      ],
      "metadata": {
        "id": "gt0qStiKpRgw",
        "outputId": "e0b464e0-760c-409a-df0e-7f1b6fe0644d",
        "colab": {
          "base_uri": "https://localhost:8080/",
          "height": 176
        }
      },
      "execution_count": 120,
      "outputs": [
        {
          "output_type": "error",
          "ename": "RuntimeError",
          "evalue": "shape '[1, 7]' is invalid for input of size 10",
          "traceback": [
            "\u001b[0;31m---------------------------------------------------------------------------\u001b[0m",
            "\u001b[0;31mRuntimeError\u001b[0m                              Traceback (most recent call last)",
            "\u001b[0;32m<ipython-input-120-0da5f555183c>\u001b[0m in \u001b[0;36m<cell line: 2>\u001b[0;34m()\u001b[0m\n\u001b[1;32m      1\u001b[0m \u001b[0;31m# Add an extra dimention\u001b[0m\u001b[0;34m\u001b[0m\u001b[0;34m\u001b[0m\u001b[0m\n\u001b[0;32m----> 2\u001b[0;31m \u001b[0mx_reshaped\u001b[0m \u001b[0;34m=\u001b[0m \u001b[0mx\u001b[0m\u001b[0;34m.\u001b[0m\u001b[0mreshape\u001b[0m\u001b[0;34m(\u001b[0m\u001b[0;36m1\u001b[0m\u001b[0;34m,\u001b[0m \u001b[0;36m7\u001b[0m\u001b[0;34m)\u001b[0m\u001b[0;34m\u001b[0m\u001b[0;34m\u001b[0m\u001b[0m\n\u001b[0m\u001b[1;32m      3\u001b[0m \u001b[0mx_reshaped\u001b[0m\u001b[0;34m,\u001b[0m \u001b[0mx_reshaped\u001b[0m\u001b[0;34m.\u001b[0m\u001b[0mshape\u001b[0m\u001b[0;34m\u001b[0m\u001b[0;34m\u001b[0m\u001b[0m\n",
            "\u001b[0;31mRuntimeError\u001b[0m: shape '[1, 7]' is invalid for input of size 10"
          ]
        }
      ]
    },
    {
      "cell_type": "code",
      "source": [
        "x_reshaped = x.reshape(5, 2)\n",
        "x_reshaped, x_reshaped.shape"
      ],
      "metadata": {
        "id": "aeQo4R0zpmAJ",
        "outputId": "9ebd5df2-dcce-4aa9-d9bc-ec47844209a7",
        "colab": {
          "base_uri": "https://localhost:8080/"
        }
      },
      "execution_count": 122,
      "outputs": [
        {
          "output_type": "execute_result",
          "data": {
            "text/plain": [
              "(tensor([[ 1.,  2.],\n",
              "         [ 3.,  4.],\n",
              "         [ 5.,  6.],\n",
              "         [ 7.,  8.],\n",
              "         [ 9., 10.]]),\n",
              " torch.Size([5, 2]))"
            ]
          },
          "metadata": {},
          "execution_count": 122
        }
      ]
    },
    {
      "cell_type": "code",
      "source": [
        "# Change the view\n",
        "z = x.view(1, 7)\n",
        "z, z.shape"
      ],
      "metadata": {
        "id": "y4GQAO3RpwtI",
        "outputId": "38ea5a62-039b-43e1-f7c0-c108c7ebbc1d",
        "colab": {
          "base_uri": "https://localhost:8080/",
          "height": 176
        }
      },
      "execution_count": 123,
      "outputs": [
        {
          "output_type": "error",
          "ename": "RuntimeError",
          "evalue": "shape '[1, 7]' is invalid for input of size 10",
          "traceback": [
            "\u001b[0;31m---------------------------------------------------------------------------\u001b[0m",
            "\u001b[0;31mRuntimeError\u001b[0m                              Traceback (most recent call last)",
            "\u001b[0;32m<ipython-input-123-d0c57080945d>\u001b[0m in \u001b[0;36m<cell line: 2>\u001b[0;34m()\u001b[0m\n\u001b[1;32m      1\u001b[0m \u001b[0;31m# Change the view\u001b[0m\u001b[0;34m\u001b[0m\u001b[0;34m\u001b[0m\u001b[0m\n\u001b[0;32m----> 2\u001b[0;31m \u001b[0mz\u001b[0m \u001b[0;34m=\u001b[0m \u001b[0mx\u001b[0m\u001b[0;34m.\u001b[0m\u001b[0mview\u001b[0m\u001b[0;34m(\u001b[0m\u001b[0;36m1\u001b[0m\u001b[0;34m,\u001b[0m \u001b[0;36m7\u001b[0m\u001b[0;34m)\u001b[0m\u001b[0;34m\u001b[0m\u001b[0;34m\u001b[0m\u001b[0m\n\u001b[0m\u001b[1;32m      3\u001b[0m \u001b[0mz\u001b[0m\u001b[0;34m,\u001b[0m \u001b[0mz\u001b[0m\u001b[0;34m.\u001b[0m\u001b[0mshape\u001b[0m\u001b[0;34m\u001b[0m\u001b[0;34m\u001b[0m\u001b[0m\n",
            "\u001b[0;31mRuntimeError\u001b[0m: shape '[1, 7]' is invalid for input of size 10"
          ]
        }
      ]
    },
    {
      "cell_type": "code",
      "source": [
        "# Change the view\n",
        "z = x.view(1, 10)\n",
        "z, z.shape\n",
        "# Changing z changes x (because a view of a tensor shares the same memort as the original tensor)"
      ],
      "metadata": {
        "id": "BBNuDnCcqOhJ",
        "outputId": "3045eb4a-33ce-4cef-d946-9cddb0f40be5",
        "colab": {
          "base_uri": "https://localhost:8080/"
        }
      },
      "execution_count": 128,
      "outputs": [
        {
          "output_type": "execute_result",
          "data": {
            "text/plain": [
              "(tensor([[ 1.,  2.,  3.,  4.,  5.,  6.,  7.,  8.,  9., 10.]]),\n",
              " torch.Size([1, 10]))"
            ]
          },
          "metadata": {},
          "execution_count": 128
        }
      ]
    },
    {
      "cell_type": "code",
      "source": [
        "z[:, 0] = 5\n",
        "z, x"
      ],
      "metadata": {
        "id": "wgb5u17rqlv4",
        "outputId": "ca84ca5e-7560-49d4-e47c-0c22d131662a",
        "colab": {
          "base_uri": "https://localhost:8080/"
        }
      },
      "execution_count": 129,
      "outputs": [
        {
          "output_type": "execute_result",
          "data": {
            "text/plain": [
              "(tensor([[ 5.,  2.,  3.,  4.,  5.,  6.,  7.,  8.,  9., 10.]]),\n",
              " tensor([ 5.,  2.,  3.,  4.,  5.,  6.,  7.,  8.,  9., 10.]))"
            ]
          },
          "metadata": {},
          "execution_count": 129
        }
      ]
    },
    {
      "cell_type": "code",
      "source": [
        "z[0] = 4\n",
        "z, x"
      ],
      "metadata": {
        "id": "l51aW7OOqtwg",
        "outputId": "19573741-639a-4a3d-9b64-a5a0a116d0e8",
        "colab": {
          "base_uri": "https://localhost:8080/"
        }
      },
      "execution_count": 126,
      "outputs": [
        {
          "output_type": "execute_result",
          "data": {
            "text/plain": [
              "(tensor([[4., 4., 4., 4., 4., 4., 4., 4., 4., 4.]]),\n",
              " tensor([4., 4., 4., 4., 4., 4., 4., 4., 4., 4.]))"
            ]
          },
          "metadata": {},
          "execution_count": 126
        }
      ]
    },
    {
      "cell_type": "code",
      "source": [
        "# Stack tensors on top of each other\n",
        "x_stacked = torch.stack([x, x, x, x], dim=0)\n",
        "x_stacked"
      ],
      "metadata": {
        "id": "nao_AB5psQrI",
        "outputId": "78d78774-2934-4dc1-8c93-fe3d4b3c93de",
        "colab": {
          "base_uri": "https://localhost:8080/"
        }
      },
      "execution_count": 138,
      "outputs": [
        {
          "output_type": "execute_result",
          "data": {
            "text/plain": [
              "tensor([[ 5.,  2.,  3.,  4.,  5.,  6.,  7.,  8.,  9., 10.],\n",
              "        [ 5.,  2.,  3.,  4.,  5.,  6.,  7.,  8.,  9., 10.],\n",
              "        [ 5.,  2.,  3.,  4.,  5.,  6.,  7.,  8.,  9., 10.],\n",
              "        [ 5.,  2.,  3.,  4.,  5.,  6.,  7.,  8.,  9., 10.]])"
            ]
          },
          "metadata": {},
          "execution_count": 138
        }
      ]
    },
    {
      "cell_type": "code",
      "source": [
        "x_stacked = torch.stack([x, x, x, x], dim=1)\n",
        "x_stacked"
      ],
      "metadata": {
        "id": "Ys8bh1bhsk04",
        "outputId": "6b5bafeb-ed08-42c5-882d-1d4e4e73db44",
        "colab": {
          "base_uri": "https://localhost:8080/"
        }
      },
      "execution_count": 139,
      "outputs": [
        {
          "output_type": "execute_result",
          "data": {
            "text/plain": [
              "tensor([[ 5.,  5.,  5.,  5.],\n",
              "        [ 2.,  2.,  2.,  2.],\n",
              "        [ 3.,  3.,  3.,  3.],\n",
              "        [ 4.,  4.,  4.,  4.],\n",
              "        [ 5.,  5.,  5.,  5.],\n",
              "        [ 6.,  6.,  6.,  6.],\n",
              "        [ 7.,  7.,  7.,  7.],\n",
              "        [ 8.,  8.,  8.,  8.],\n",
              "        [ 9.,  9.,  9.,  9.],\n",
              "        [10., 10., 10., 10.]])"
            ]
          },
          "metadata": {},
          "execution_count": 139
        }
      ]
    },
    {
      "cell_type": "code",
      "source": [
        "x_stacked = torch.stack([x, x, x, x, x, x, x], dim=0)  # 7 tensor stack\n",
        "x_stacked"
      ],
      "metadata": {
        "id": "BNjjDY6rssyI",
        "outputId": "bb2cb5a3-238e-43bf-a97f-775455638983",
        "colab": {
          "base_uri": "https://localhost:8080/"
        }
      },
      "execution_count": 140,
      "outputs": [
        {
          "output_type": "execute_result",
          "data": {
            "text/plain": [
              "tensor([[ 5.,  2.,  3.,  4.,  5.,  6.,  7.,  8.,  9., 10.],\n",
              "        [ 5.,  2.,  3.,  4.,  5.,  6.,  7.,  8.,  9., 10.],\n",
              "        [ 5.,  2.,  3.,  4.,  5.,  6.,  7.,  8.,  9., 10.],\n",
              "        [ 5.,  2.,  3.,  4.,  5.,  6.,  7.,  8.,  9., 10.],\n",
              "        [ 5.,  2.,  3.,  4.,  5.,  6.,  7.,  8.,  9., 10.],\n",
              "        [ 5.,  2.,  3.,  4.,  5.,  6.,  7.,  8.,  9., 10.],\n",
              "        [ 5.,  2.,  3.,  4.,  5.,  6.,  7.,  8.,  9., 10.]])"
            ]
          },
          "metadata": {},
          "execution_count": 140
        }
      ]
    },
    {
      "cell_type": "code",
      "source": [
        "x_stacked = torch.stack([x, x, x, x, x, x, x], dim=1)  # 7 tensor stack\n",
        "x_stacked"
      ],
      "metadata": {
        "id": "08hgbKars7So",
        "outputId": "37120dbc-1d3e-4396-c281-b8ac793514cd",
        "colab": {
          "base_uri": "https://localhost:8080/"
        }
      },
      "execution_count": 141,
      "outputs": [
        {
          "output_type": "execute_result",
          "data": {
            "text/plain": [
              "tensor([[ 5.,  5.,  5.,  5.,  5.,  5.,  5.],\n",
              "        [ 2.,  2.,  2.,  2.,  2.,  2.,  2.],\n",
              "        [ 3.,  3.,  3.,  3.,  3.,  3.,  3.],\n",
              "        [ 4.,  4.,  4.,  4.,  4.,  4.,  4.],\n",
              "        [ 5.,  5.,  5.,  5.,  5.,  5.,  5.],\n",
              "        [ 6.,  6.,  6.,  6.,  6.,  6.,  6.],\n",
              "        [ 7.,  7.,  7.,  7.,  7.,  7.,  7.],\n",
              "        [ 8.,  8.,  8.,  8.,  8.,  8.,  8.],\n",
              "        [ 9.,  9.,  9.,  9.,  9.,  9.,  9.],\n",
              "        [10., 10., 10., 10., 10., 10., 10.]])"
            ]
          },
          "metadata": {},
          "execution_count": 141
        }
      ]
    },
    {
      "cell_type": "code",
      "source": [
        "x_stacked = torch.stack([x, x, x, x], dim=2)\n",
        "x_stacked"
      ],
      "metadata": {
        "id": "tOukP1--spo7",
        "outputId": "b4fae130-2e06-4b52-e70c-b68a607738f4",
        "colab": {
          "base_uri": "https://localhost:8080/",
          "height": 158
        }
      },
      "execution_count": 142,
      "outputs": [
        {
          "output_type": "error",
          "ename": "IndexError",
          "evalue": "Dimension out of range (expected to be in range of [-2, 1], but got 2)",
          "traceback": [
            "\u001b[0;31m---------------------------------------------------------------------------\u001b[0m",
            "\u001b[0;31mIndexError\u001b[0m                                Traceback (most recent call last)",
            "\u001b[0;32m<ipython-input-142-c3fffde45383>\u001b[0m in \u001b[0;36m<cell line: 1>\u001b[0;34m()\u001b[0m\n\u001b[0;32m----> 1\u001b[0;31m \u001b[0mx_stacked\u001b[0m \u001b[0;34m=\u001b[0m \u001b[0mtorch\u001b[0m\u001b[0;34m.\u001b[0m\u001b[0mstack\u001b[0m\u001b[0;34m(\u001b[0m\u001b[0;34m[\u001b[0m\u001b[0mx\u001b[0m\u001b[0;34m,\u001b[0m \u001b[0mx\u001b[0m\u001b[0;34m,\u001b[0m \u001b[0mx\u001b[0m\u001b[0;34m,\u001b[0m \u001b[0mx\u001b[0m\u001b[0;34m]\u001b[0m\u001b[0;34m,\u001b[0m \u001b[0mdim\u001b[0m\u001b[0;34m=\u001b[0m\u001b[0;36m2\u001b[0m\u001b[0;34m)\u001b[0m\u001b[0;34m\u001b[0m\u001b[0;34m\u001b[0m\u001b[0m\n\u001b[0m\u001b[1;32m      2\u001b[0m \u001b[0mx_stacked\u001b[0m\u001b[0;34m\u001b[0m\u001b[0;34m\u001b[0m\u001b[0m\n",
            "\u001b[0;31mIndexError\u001b[0m: Dimension out of range (expected to be in range of [-2, 1], but got 2)"
          ]
        }
      ]
    },
    {
      "cell_type": "code",
      "source": [
        "x_stacked = torch.hstack([x, x, x, x, x, x, x])  # 7 tensor stack\n",
        "x_stacked  # -> NOT SAME AS x_stacked = torch.stack([x, x, x, x, x, x, x], dim=1) dimention 1"
      ],
      "metadata": {
        "id": "STJ2bl0etKjZ",
        "outputId": "6347e4bc-21ab-4138-a58e-c8d4933e7057",
        "colab": {
          "base_uri": "https://localhost:8080/"
        }
      },
      "execution_count": 143,
      "outputs": [
        {
          "output_type": "execute_result",
          "data": {
            "text/plain": [
              "tensor([ 5.,  2.,  3.,  4.,  5.,  6.,  7.,  8.,  9., 10.,  5.,  2.,  3.,  4.,\n",
              "         5.,  6.,  7.,  8.,  9., 10.,  5.,  2.,  3.,  4.,  5.,  6.,  7.,  8.,\n",
              "         9., 10.,  5.,  2.,  3.,  4.,  5.,  6.,  7.,  8.,  9., 10.,  5.,  2.,\n",
              "         3.,  4.,  5.,  6.,  7.,  8.,  9., 10.,  5.,  2.,  3.,  4.,  5.,  6.,\n",
              "         7.,  8.,  9., 10.,  5.,  2.,  3.,  4.,  5.,  6.,  7.,  8.,  9., 10.])"
            ]
          },
          "metadata": {},
          "execution_count": 143
        }
      ]
    },
    {
      "cell_type": "code",
      "source": [
        "x_stacked = torch.vstack([x, x, x, x, x, x, x])  # 7 tensor stack , dim = 0 = vstack\n",
        "x_stacked  # -> same as  x_stacked = torch.stack([x, x, x, x, x, x, x], dim=0)"
      ],
      "metadata": {
        "id": "S7Tkz9djtF3Y",
        "outputId": "7a580f3c-1f39-41db-b7d3-2dee4046d39d",
        "colab": {
          "base_uri": "https://localhost:8080/"
        }
      },
      "execution_count": 144,
      "outputs": [
        {
          "output_type": "execute_result",
          "data": {
            "text/plain": [
              "tensor([[ 5.,  2.,  3.,  4.,  5.,  6.,  7.,  8.,  9., 10.],\n",
              "        [ 5.,  2.,  3.,  4.,  5.,  6.,  7.,  8.,  9., 10.],\n",
              "        [ 5.,  2.,  3.,  4.,  5.,  6.,  7.,  8.,  9., 10.],\n",
              "        [ 5.,  2.,  3.,  4.,  5.,  6.,  7.,  8.,  9., 10.],\n",
              "        [ 5.,  2.,  3.,  4.,  5.,  6.,  7.,  8.,  9., 10.],\n",
              "        [ 5.,  2.,  3.,  4.,  5.,  6.,  7.,  8.,  9., 10.],\n",
              "        [ 5.,  2.,  3.,  4.,  5.,  6.,  7.,  8.,  9., 10.]])"
            ]
          },
          "metadata": {},
          "execution_count": 144
        }
      ]
    },
    {
      "cell_type": "code",
      "source": [
        "# Squeeze - removes all 1 dimentionx\n",
        "x_reshaped = x.reshape(1, 10)\n",
        "x_reshaped"
      ],
      "metadata": {
        "id": "jtavJRUwuF9Z",
        "outputId": "eee03542-9088-4c70-f0b8-087733ca7825",
        "colab": {
          "base_uri": "https://localhost:8080/"
        }
      },
      "execution_count": 148,
      "outputs": [
        {
          "output_type": "execute_result",
          "data": {
            "text/plain": [
              "tensor([[ 5.,  2.,  3.,  4.,  5.,  6.,  7.,  8.,  9., 10.]])"
            ]
          },
          "metadata": {},
          "execution_count": 148
        }
      ]
    },
    {
      "cell_type": "code",
      "source": [
        "x_reshaped.shape"
      ],
      "metadata": {
        "id": "zu6Zo_0SunOp",
        "outputId": "19507265-7227-46d3-ea4c-896a981656ab",
        "colab": {
          "base_uri": "https://localhost:8080/"
        }
      },
      "execution_count": 149,
      "outputs": [
        {
          "output_type": "execute_result",
          "data": {
            "text/plain": [
              "torch.Size([1, 10])"
            ]
          },
          "metadata": {},
          "execution_count": 149
        }
      ]
    },
    {
      "cell_type": "code",
      "source": [
        "print(x_reshaped.squeeze())\n",
        "x_reshaped.squeeze().shape  # remove 1 dimention"
      ],
      "metadata": {
        "id": "F3zbTOU5usJA",
        "outputId": "094247a2-1e65-4a92-ffb2-f2b5ac9c58b9",
        "colab": {
          "base_uri": "https://localhost:8080/"
        }
      },
      "execution_count": 153,
      "outputs": [
        {
          "output_type": "stream",
          "name": "stdout",
          "text": [
            "tensor([ 5.,  2.,  3.,  4.,  5.,  6.,  7.,  8.,  9., 10.])\n"
          ]
        },
        {
          "output_type": "execute_result",
          "data": {
            "text/plain": [
              "torch.Size([10])"
            ]
          },
          "metadata": {},
          "execution_count": 153
        }
      ]
    },
    {
      "cell_type": "code",
      "source": [
        "# Squeeze\n",
        "print(f\"Previous tensor: {x_reshaped}\")\n",
        "print(f\"Previous shape: {x_reshaped.shape}\")\n",
        "\n",
        "# Remove extra dimentions from x_reshaped -remove one square bracket\n",
        "x_squeezed = x_reshaped.squeeze()\n",
        "print(f\"\\nNew tensor: {x_squeezed}\")\n",
        "print(f\"New shape: {x_squeezed.shape}\")"
      ],
      "metadata": {
        "id": "W4h3qIqyvCox",
        "outputId": "0bff95c6-f616-4cc6-a040-74fa030c936f",
        "colab": {
          "base_uri": "https://localhost:8080/"
        }
      },
      "execution_count": 155,
      "outputs": [
        {
          "output_type": "stream",
          "name": "stdout",
          "text": [
            "Previous tensor: tensor([[ 5.,  2.,  3.,  4.,  5.,  6.,  7.,  8.,  9., 10.]])\n",
            "Previous shape: torch.Size([1, 10])\n",
            "\n",
            "New tensor: tensor([ 5.,  2.,  3.,  4.,  5.,  6.,  7.,  8.,  9., 10.])\n",
            "New shape: torch.Size([10])\n"
          ]
        }
      ]
    },
    {
      "cell_type": "code",
      "source": [
        "# Unsqeeze() - adda a single dimention to a target tensor at a specific dim\n",
        "print(f\"Previous tensor: {x_squeezed}\")\n",
        "print(f\"Previous shape: {x_squeezed.shape}\")\n",
        "\n",
        "# Add an extra dimention with unsqueeze\n",
        "x_unsqueezed = x_squeezed.unsqueeze(dim=0)\n",
        "print(f\"\\nNew tensor: {x_unsqueezed}\")\n",
        "print(f\"New shape: {x_unsqueezed.shape}\")\n",
        "\n",
        "# Add an extra dimention with unsqueeze\n",
        "x_unsqueezed = x_squeezed.unsqueeze(dim=1)\n",
        "print(f\"\\nNew tensor: {x_unsqueezed}\")\n",
        "print(f\"New shape: {x_unsqueezed.shape}\")"
      ],
      "metadata": {
        "id": "F_xxcctXvaMB",
        "outputId": "e00cc7d2-2af4-4aa1-f1df-6d41b87b7d4a",
        "colab": {
          "base_uri": "https://localhost:8080/"
        }
      },
      "execution_count": 157,
      "outputs": [
        {
          "output_type": "stream",
          "name": "stdout",
          "text": [
            "Previous tensor: tensor([ 5.,  2.,  3.,  4.,  5.,  6.,  7.,  8.,  9., 10.])\n",
            "Previous shape: torch.Size([10])\n",
            "\n",
            "New tensor: tensor([[ 5.,  2.,  3.,  4.,  5.,  6.,  7.,  8.,  9., 10.]])\n",
            "New shape: torch.Size([1, 10])\n",
            "\n",
            "New tensor: tensor([[ 5.],\n",
            "        [ 2.],\n",
            "        [ 3.],\n",
            "        [ 4.],\n",
            "        [ 5.],\n",
            "        [ 6.],\n",
            "        [ 7.],\n",
            "        [ 8.],\n",
            "        [ 9.],\n",
            "        [10.]])\n",
            "New shape: torch.Size([10, 1])\n"
          ]
        }
      ]
    },
    {
      "cell_type": "code",
      "source": [
        "# Peermute - rearranges the dimentions of a target tensor in a specified order , Returns a view\n",
        "x = torch.randn(2, 3, 5)\n",
        "x.size()"
      ],
      "metadata": {
        "id": "onFybZySwEfp",
        "outputId": "d0248d89-083e-4f97-b03e-97879ba9d002",
        "colab": {
          "base_uri": "https://localhost:8080/"
        }
      },
      "execution_count": 158,
      "outputs": [
        {
          "output_type": "execute_result",
          "data": {
            "text/plain": [
              "torch.Size([2, 3, 5])"
            ]
          },
          "metadata": {},
          "execution_count": 158
        }
      ]
    },
    {
      "cell_type": "code",
      "source": [
        "print(x.size())\n",
        "print(x.permute(2, 0, 1).size())\n",
        "torch.permute(x, (2, 0, 1)).shape"
      ],
      "metadata": {
        "id": "xwVqrTGxwgOb",
        "outputId": "52ed683b-c6a8-4530-e8de-f96971a11e2d",
        "colab": {
          "base_uri": "https://localhost:8080/"
        }
      },
      "execution_count": 162,
      "outputs": [
        {
          "output_type": "stream",
          "name": "stdout",
          "text": [
            "torch.Size([2, 3, 5])\n",
            "torch.Size([5, 2, 3])\n"
          ]
        },
        {
          "output_type": "execute_result",
          "data": {
            "text/plain": [
              "torch.Size([5, 2, 3])"
            ]
          },
          "metadata": {},
          "execution_count": 162
        }
      ]
    },
    {
      "cell_type": "code",
      "source": [
        "x_original = torch.rand((224, 224, 3))  # [height, width, color_channels]\n",
        "\n",
        "# Permute the original tensor to rearrange the axis (or dim)  order\n",
        "x_permuted = x_original.permute(2, 0, 1) # shifts axis 0->1, 1->2, 2->0\n",
        "\n",
        "print(f\"Previous shape: {x_original.shape}\")\n",
        "print(f\"New shape: {x_permuted.shape}\")  # [color_channels, height, width] , x_original and x_permuted same memory or same view"
      ],
      "metadata": {
        "id": "kWmrFtayxAQZ",
        "outputId": "3ad8a0c8-0170-4bc0-f91f-d35bba9a6796",
        "colab": {
          "base_uri": "https://localhost:8080/"
        }
      },
      "execution_count": 166,
      "outputs": [
        {
          "output_type": "stream",
          "name": "stdout",
          "text": [
            "Previous shape: torch.Size([224, 224, 3])\n",
            "New shape: torch.Size([3, 224, 224])\n"
          ]
        }
      ]
    },
    {
      "cell_type": "code",
      "source": [
        "x_original[0, 0, 0] = 728218  # x_original and x_permuted same memory or same view\n",
        "x_original[0, 0, 0], x_permuted[0, 0, 0]"
      ],
      "metadata": {
        "id": "n9rygDYLyALh",
        "outputId": "695ab023-0142-4dd5-cc16-6c0fd65ec2a1",
        "colab": {
          "base_uri": "https://localhost:8080/"
        }
      },
      "execution_count": 167,
      "outputs": [
        {
          "output_type": "execute_result",
          "data": {
            "text/plain": [
              "(tensor(728218.), tensor(728218.))"
            ]
          },
          "metadata": {},
          "execution_count": 167
        }
      ]
    },
    {
      "cell_type": "markdown",
      "source": [
        "# Slicing in detail\n",
        "\n",
        "### Scenario 1: Slicing Multiple Rows and Columns\n",
        "\n",
        "Suppose we have a 2D tensor, and we want to access and modify a specific subset of rows and columns.\n",
        "\n",
        "```python\n",
        "import torch\n",
        "\n",
        "# Create a 2D tensor (3 rows, 4 columns)\n",
        "x = torch.tensor([[1, 2, 3, 4],\n",
        "                  [5, 6, 7, 8],\n",
        "                  [9, 10, 11, 12]])\n",
        "\n",
        "print(\"Original x tensor:\\n\", x)\n",
        "\n",
        "# Slice to get a submatrix (2 rows, 2 columns)\n",
        "submatrix = x[:2, 1:3]  # First 2 rows, columns 1 and 2\n",
        "print(\"\\nSubmatrix (first 2 rows, columns 1 and 2):\\n\", submatrix)\n",
        "\n",
        "# Modify the submatrix\n",
        "submatrix[:, :] = 0  # Set all elements of the submatrix to 0\n",
        "print(\"\\nModified submatrix:\\n\", submatrix)\n",
        "print(\"\\nModified x tensor:\\n\", x)\n",
        "```\n",
        "\n",
        "**Output**:\n",
        "```\n",
        "Original x tensor:\n",
        " tensor([[ 1,  2,  3,  4],\n",
        "        [ 5,  6,  7,  8],\n",
        "        [ 9, 10, 11, 12]])\n",
        "\n",
        "Submatrix (first 2 rows, columns 1 and 2):\n",
        " tensor([[2, 3],\n",
        "        [6, 7]])\n",
        "\n",
        "Modified submatrix:\n",
        " tensor([[0, 0],\n",
        "        [0, 0]])\n",
        "\n",
        "Modified x tensor:\n",
        " tensor([[ 1,  0,  0,  4],\n",
        "        [ 5,  0,  0,  8],\n",
        "        [ 9, 10, 11, 12]])\n",
        "```\n",
        "\n",
        "### Explanation:\n",
        "\n",
        "- **`x[:2, 1:3]`**: This slices the first two rows (`:2`) and the second and third columns (`1:3`), giving us a 2x2 submatrix.\n",
        "- **Modification**: Setting `submatrix[:, :] = 0` changes all elements in the submatrix to `0`. Since `submatrix` is a view, this change is reflected in the original tensor `x`.\n",
        "\n",
        "### Scenario 2: Selecting Specific Rows or Columns\n",
        "\n",
        "Let's say we want to select and modify specific rows or columns in a tensor.\n",
        "\n",
        "```python\n",
        "import torch\n",
        "\n",
        "# Create a 2D tensor (4 rows, 4 columns)\n",
        "x = torch.tensor([[1, 2, 3, 4],\n",
        "                  [5, 6, 7, 8],\n",
        "                  [9, 10, 11, 12],\n",
        "                  [13, 14, 15, 16]])\n",
        "\n",
        "print(\"Original x tensor:\\n\", x)\n",
        "\n",
        "# Select the second row\n",
        "second_row = x[1, :]\n",
        "print(\"\\nSecond row:\\n\", second_row)\n",
        "\n",
        "# Select the third column\n",
        "third_column = x[:, 2]\n",
        "print(\"\\nThird column:\\n\", third_column)\n",
        "\n",
        "# Modify the second row\n",
        "x[1, :] = torch.tensor([0, 0, 0, 0])\n",
        "print(\"\\nModified x tensor after changing the second row:\\n\", x)\n",
        "\n",
        "# Modify the third column\n",
        "x[:, 2] = torch.tensor([-1, -2, -3, -4])\n",
        "print(\"\\nModified x tensor after changing the third column:\\n\", x)\n",
        "```\n",
        "\n",
        "**Output**:\n",
        "```\n",
        "Original x tensor:\n",
        " tensor([[ 1,  2,  3,  4],\n",
        "        [ 5,  6,  7,  8],\n",
        "        [ 9, 10, 11, 12],\n",
        "        [13, 14, 15, 16]])\n",
        "\n",
        "Second row:\n",
        " tensor([5, 6, 7, 8])\n",
        "\n",
        "Third column:\n",
        " tensor([ 3,  7, 11, 15])\n",
        "\n",
        "Modified x tensor after changing the second row:\n",
        " tensor([[ 1,  2,  3,  4],\n",
        "        [ 0,  0,  0,  0],\n",
        "        [ 9, 10, 11, 12],\n",
        "        [13, 14, 15, 16]])\n",
        "\n",
        "Modified x tensor after changing the third column:\n",
        " tensor([[ 1,  2, -1,  4],\n",
        "        [ 0,  0, -2,  0],\n",
        "        [ 9, 10, -3, 12],\n",
        "        [13, 14, -4, 16]])\n",
        "```\n",
        "\n",
        "### Explanation:\n",
        "\n",
        "- **`x[1, :]`**: Selects the entire second row.\n",
        "- **`x[:, 2]`**: Selects the entire third column.\n",
        "- **Modification**: Changing the selected row or column directly modifies the original tensor.\n",
        "\n",
        "### Scenario 3: Slicing with Negative Indices\n",
        "\n",
        "Negative indices can be used to slice from the end of a tensor.\n",
        "\n",
        "```python\n",
        "import torch\n",
        "\n",
        "# Create a 1D tensor\n",
        "x = torch.tensor([1, 2, 3, 4, 5, 6])\n",
        "\n",
        "print(\"Original x tensor:\", x)\n",
        "\n",
        "# Select the last three elements\n",
        "last_three = x[-3:]\n",
        "print(\"\\nLast three elements:\", last_three)\n",
        "\n",
        "# Modify the last three elements\n",
        "x[-3:] = torch.tensor([7, 8, 9])\n",
        "print(\"\\nModified x tensor:\", x)\n",
        "```\n",
        "\n",
        "**Output**:\n",
        "```\n",
        "Original x tensor: tensor([1, 2, 3, 4, 5, 6])\n",
        "\n",
        "Last three elements: tensor([4, 5, 6])\n",
        "\n",
        "Modified x tensor: tensor([1, 2, 3, 7, 8, 9])\n",
        "```\n",
        "\n",
        "### Explanation:\n",
        "\n",
        "- **`x[-3:]`**: Slices the last three elements of the tensor.\n",
        "- **Modification**: Changing `x[-3:]` directly updates the last three elements of the original tensor.\n",
        "\n",
        "### Scenario 4: Multi-Dimensional Tensor Slicing\n",
        "\n",
        "For more complex scenarios, let's consider a 3D tensor.\n",
        "\n",
        "```python\n",
        "import torch\n",
        "\n",
        "# Create a 3D tensor (2 blocks, 3 rows, 4 columns)\n",
        "x = torch.tensor([[[1, 2, 3, 4],\n",
        "                   [5, 6, 7, 8],\n",
        "                   [9, 10, 11, 12]],\n",
        "\n",
        "                  [[13, 14, 15, 16],\n",
        "                   [17, 18, 19, 20],\n",
        "                   [21, 22, 23, 24]]])\n",
        "\n",
        "print(\"Original x tensor:\\n\", x)\n",
        "\n",
        "# Select the first block\n",
        "first_block = x[0, :, :]\n",
        "print(\"\\nFirst block:\\n\", first_block)\n",
        "\n",
        "# Select the second row of the second block\n",
        "second_row_second_block = x[1, 1, :]\n",
        "print(\"\\nSecond row of the second block:\\n\", second_row_second_block)\n",
        "\n",
        "# Modify the first row of the first block\n",
        "x[0, 0, :] = torch.tensor([10, 20, 30, 40])\n",
        "print(\"\\nModified x tensor after changing the first row of the first block:\\n\", x)\n",
        "```\n",
        "\n",
        "**Output**:\n",
        "```\n",
        "Original x tensor:\n",
        " tensor([[[ 1,  2,  3,  4],\n",
        "         [ 5,  6,  7,  8],\n",
        "         [ 9, 10, 11, 12]],\n",
        "\n",
        "        [[13, 14, 15, 16],\n",
        "         [17, 18, 19, 20],\n",
        "         [21, 22, 23, 24]]])\n",
        "\n",
        "First block:\n",
        " tensor([[ 1,  2,  3,  4],\n",
        "        [ 5,  6,  7,  8],\n",
        "        [ 9, 10, 11, 12]])\n",
        "\n",
        "Second row of the second block:\n",
        " tensor([17, 18, 19, 20])\n",
        "\n",
        "Modified x tensor after changing the first row of the first block:\n",
        " tensor([[[10, 20, 30, 40],\n",
        "         [ 5,  6,  7,  8],\n",
        "         [ 9, 10, 11, 12]],\n",
        "\n",
        "        [[13, 14, 15, 16],\n",
        "         [17, 18, 19, 20],\n",
        "         [21, 22, 23, 24]]])\n",
        "```\n",
        "\n",
        "### Explanation:\n",
        "\n",
        "- **`x[0, :, :]`**: Selects the entire first block (all rows and columns).\n",
        "- **`x[1, 1, :]`**: Selects the second row of the second block.\n",
        "- **Modification**: Changing the first row of the first block directly updates the tensor.\n",
        "\n",
        "### Summary of Slicing:\n",
        "\n",
        "1. **`:`**: Selects all elements along a dimension.\n",
        "2. **Specific index (`n`)**: Selects a particular element at index `n`.\n",
        "3. **Negative indices (`-n`)**: Selects elements counting from the end.\n",
        "4. **Slices (`start:stop`)**: Selects a range of elements.\n",
        "\n",
        "Understanding and mastering slicing is crucial for effectively manipulating tensors in PyTorch, especially when working with multi-dimensional data like images or sequences."
      ],
      "metadata": {
        "id": "Sbse1IPdr5jP"
      }
    },
    {
      "cell_type": "code",
      "source": [],
      "metadata": {
        "id": "DG_czoiesNWf"
      },
      "execution_count": null,
      "outputs": []
    }
  ]
}
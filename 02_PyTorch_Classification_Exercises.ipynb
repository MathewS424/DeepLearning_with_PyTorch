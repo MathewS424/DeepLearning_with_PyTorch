{
  "nbformat": 4,
  "nbformat_minor": 0,
  "metadata": {
    "colab": {
      "provenance": [],
      "include_colab_link": true
    },
    "kernelspec": {
      "name": "python3",
      "display_name": "Python 3"
    },
    "language_info": {
      "name": "python"
    },
    "accelerator": "GPU"
  },
  "cells": [
    {
      "cell_type": "markdown",
      "metadata": {
        "id": "view-in-github",
        "colab_type": "text"
      },
      "source": [
        "<a href=\"https://colab.research.google.com/github/MathewS424/DeepLearning_with_PyTorch/blob/main/02_PyTorch_Classification_Exercises.ipynb\" target=\"_parent\"><img src=\"https://colab.research.google.com/assets/colab-badge.svg\" alt=\"Open In Colab\"/></a>"
      ]
    },
    {
      "cell_type": "markdown",
      "source": [
        "# 02. PyTorch Classification Exercises\n",
        "\n",
        "The following is a template for 02. PyTorch Classification exercises.\n",
        "\n",
        "It's only starter code and it's your job to fill in the blanks.\n",
        "\n",
        "Because of the flexibility of PyTorch, there may be more than one way to answer the question.\n",
        "\n",
        "Don't worry about trying to be *right* just try writing code that suffices the question.\n",
        "\n",
        "## Resources\n",
        "* These exercises are based on [notebook 02 of the learn PyTorch course](https://www.learnpytorch.io/02_pytorch_classification/).\n",
        "* You can see one form of [solutions on GitHub](https://github.com/mrdbourke/pytorch-deep-learning/tree/main/extras/solutions) (but try the exercises below yourself first!)."
      ],
      "metadata": {
        "id": "ZKJFt7YxH8yl"
      }
    },
    {
      "cell_type": "code",
      "source": [
        "# Import torch\n",
        "import torch\n",
        "\n",
        "# Setup device agnostic code\n",
        "device = \"cuda\" if torch.cuda.is_available() else \"cpu\"\n",
        "print(device)\n",
        "\n",
        "# Setup random seed\n",
        "RANDOM_SEED = 42\n"
      ],
      "metadata": {
        "id": "CSrUPgapO0tf",
        "colab": {
          "base_uri": "https://localhost:8080/"
        },
        "outputId": "3acd6bb5-774b-40d2-db5a-797705a3c1ca"
      },
      "execution_count": 63,
      "outputs": [
        {
          "output_type": "stream",
          "name": "stdout",
          "text": [
            "cpu\n"
          ]
        }
      ]
    },
    {
      "cell_type": "markdown",
      "source": [
        "## 1. Make a binary classification dataset with Scikit-Learn's [`make_moons()`](https://scikit-learn.org/stable/modules/generated/sklearn.datasets.make_moons.html) function.\n",
        "  * For consistency, the dataset should have 1000 samples and a `random_state=42`.\n",
        "  * Turn the data into PyTorch tensors.\n",
        "  * Split the data into training and test sets using `train_test_split` with 80% training and 20% testing."
      ],
      "metadata": {
        "id": "pH7jIZ2SPFee"
      }
    },
    {
      "cell_type": "code",
      "source": [
        "# Create a dataset with Scikit-Learn's make_moons()\n",
        "from sklearn.datasets import make_moons\n",
        "\n",
        "#Make 1000 samples\n",
        "n_samples = 1000\n",
        "\n",
        "X, y = make_moons(n_samples=n_samples, noise=0.03, random_state=RANDOM_SEED)\n"
      ],
      "metadata": {
        "id": "5t4VhPV1PX1X"
      },
      "execution_count": 64,
      "outputs": []
    },
    {
      "cell_type": "code",
      "source": [
        "type(X), X.dtype, type(y), y.dtype"
      ],
      "metadata": {
        "colab": {
          "base_uri": "https://localhost:8080/"
        },
        "id": "I882aERJNj3i",
        "outputId": "b39c3442-fe0f-437c-decb-f39d261f0509"
      },
      "execution_count": 65,
      "outputs": [
        {
          "output_type": "execute_result",
          "data": {
            "text/plain": [
              "(numpy.ndarray, dtype('float64'), numpy.ndarray, dtype('int64'))"
            ]
          },
          "metadata": {},
          "execution_count": 65
        }
      ]
    },
    {
      "cell_type": "code",
      "source": [
        "# Turn data into a DataFrame\n",
        "import pandas as pd\n",
        "moons = pd.DataFrame({\"X0\": X[:, 0],\n",
        "                     \"X1\": X[:, 1],\n",
        "                     \"label\": y})\n",
        "moons.head(10)"
      ],
      "metadata": {
        "id": "SUeHZ3-3P9C7",
        "colab": {
          "base_uri": "https://localhost:8080/",
          "height": 363
        },
        "outputId": "e6a93bd6-e86d-40f1-b87c-0fb42f9c2a29"
      },
      "execution_count": 66,
      "outputs": [
        {
          "output_type": "execute_result",
          "data": {
            "text/plain": [
              "         X0        X1  label\n",
              "0 -0.009332  0.390981      1\n",
              "1  0.954574 -0.473756      1\n",
              "2  0.918526 -0.425196      1\n",
              "3  0.412768 -0.376385      1\n",
              "4 -0.845320  0.528799      0\n",
              "5  0.579542 -0.352979      1\n",
              "6  0.294884 -0.209238      1\n",
              "7 -0.014488  0.435896      1\n",
              "8  1.626510 -0.281207      1\n",
              "9  0.671598  0.786422      0"
            ],
            "text/html": [
              "\n",
              "  <div id=\"df-f308ea35-9b24-46ab-b451-1f82574bbad4\" class=\"colab-df-container\">\n",
              "    <div>\n",
              "<style scoped>\n",
              "    .dataframe tbody tr th:only-of-type {\n",
              "        vertical-align: middle;\n",
              "    }\n",
              "\n",
              "    .dataframe tbody tr th {\n",
              "        vertical-align: top;\n",
              "    }\n",
              "\n",
              "    .dataframe thead th {\n",
              "        text-align: right;\n",
              "    }\n",
              "</style>\n",
              "<table border=\"1\" class=\"dataframe\">\n",
              "  <thead>\n",
              "    <tr style=\"text-align: right;\">\n",
              "      <th></th>\n",
              "      <th>X0</th>\n",
              "      <th>X1</th>\n",
              "      <th>label</th>\n",
              "    </tr>\n",
              "  </thead>\n",
              "  <tbody>\n",
              "    <tr>\n",
              "      <th>0</th>\n",
              "      <td>-0.009332</td>\n",
              "      <td>0.390981</td>\n",
              "      <td>1</td>\n",
              "    </tr>\n",
              "    <tr>\n",
              "      <th>1</th>\n",
              "      <td>0.954574</td>\n",
              "      <td>-0.473756</td>\n",
              "      <td>1</td>\n",
              "    </tr>\n",
              "    <tr>\n",
              "      <th>2</th>\n",
              "      <td>0.918526</td>\n",
              "      <td>-0.425196</td>\n",
              "      <td>1</td>\n",
              "    </tr>\n",
              "    <tr>\n",
              "      <th>3</th>\n",
              "      <td>0.412768</td>\n",
              "      <td>-0.376385</td>\n",
              "      <td>1</td>\n",
              "    </tr>\n",
              "    <tr>\n",
              "      <th>4</th>\n",
              "      <td>-0.845320</td>\n",
              "      <td>0.528799</td>\n",
              "      <td>0</td>\n",
              "    </tr>\n",
              "    <tr>\n",
              "      <th>5</th>\n",
              "      <td>0.579542</td>\n",
              "      <td>-0.352979</td>\n",
              "      <td>1</td>\n",
              "    </tr>\n",
              "    <tr>\n",
              "      <th>6</th>\n",
              "      <td>0.294884</td>\n",
              "      <td>-0.209238</td>\n",
              "      <td>1</td>\n",
              "    </tr>\n",
              "    <tr>\n",
              "      <th>7</th>\n",
              "      <td>-0.014488</td>\n",
              "      <td>0.435896</td>\n",
              "      <td>1</td>\n",
              "    </tr>\n",
              "    <tr>\n",
              "      <th>8</th>\n",
              "      <td>1.626510</td>\n",
              "      <td>-0.281207</td>\n",
              "      <td>1</td>\n",
              "    </tr>\n",
              "    <tr>\n",
              "      <th>9</th>\n",
              "      <td>0.671598</td>\n",
              "      <td>0.786422</td>\n",
              "      <td>0</td>\n",
              "    </tr>\n",
              "  </tbody>\n",
              "</table>\n",
              "</div>\n",
              "    <div class=\"colab-df-buttons\">\n",
              "\n",
              "  <div class=\"colab-df-container\">\n",
              "    <button class=\"colab-df-convert\" onclick=\"convertToInteractive('df-f308ea35-9b24-46ab-b451-1f82574bbad4')\"\n",
              "            title=\"Convert this dataframe to an interactive table.\"\n",
              "            style=\"display:none;\">\n",
              "\n",
              "  <svg xmlns=\"http://www.w3.org/2000/svg\" height=\"24px\" viewBox=\"0 -960 960 960\">\n",
              "    <path d=\"M120-120v-720h720v720H120Zm60-500h600v-160H180v160Zm220 220h160v-160H400v160Zm0 220h160v-160H400v160ZM180-400h160v-160H180v160Zm440 0h160v-160H620v160ZM180-180h160v-160H180v160Zm440 0h160v-160H620v160Z\"/>\n",
              "  </svg>\n",
              "    </button>\n",
              "\n",
              "  <style>\n",
              "    .colab-df-container {\n",
              "      display:flex;\n",
              "      gap: 12px;\n",
              "    }\n",
              "\n",
              "    .colab-df-convert {\n",
              "      background-color: #E8F0FE;\n",
              "      border: none;\n",
              "      border-radius: 50%;\n",
              "      cursor: pointer;\n",
              "      display: none;\n",
              "      fill: #1967D2;\n",
              "      height: 32px;\n",
              "      padding: 0 0 0 0;\n",
              "      width: 32px;\n",
              "    }\n",
              "\n",
              "    .colab-df-convert:hover {\n",
              "      background-color: #E2EBFA;\n",
              "      box-shadow: 0px 1px 2px rgba(60, 64, 67, 0.3), 0px 1px 3px 1px rgba(60, 64, 67, 0.15);\n",
              "      fill: #174EA6;\n",
              "    }\n",
              "\n",
              "    .colab-df-buttons div {\n",
              "      margin-bottom: 4px;\n",
              "    }\n",
              "\n",
              "    [theme=dark] .colab-df-convert {\n",
              "      background-color: #3B4455;\n",
              "      fill: #D2E3FC;\n",
              "    }\n",
              "\n",
              "    [theme=dark] .colab-df-convert:hover {\n",
              "      background-color: #434B5C;\n",
              "      box-shadow: 0px 1px 3px 1px rgba(0, 0, 0, 0.15);\n",
              "      filter: drop-shadow(0px 1px 2px rgba(0, 0, 0, 0.3));\n",
              "      fill: #FFFFFF;\n",
              "    }\n",
              "  </style>\n",
              "\n",
              "    <script>\n",
              "      const buttonEl =\n",
              "        document.querySelector('#df-f308ea35-9b24-46ab-b451-1f82574bbad4 button.colab-df-convert');\n",
              "      buttonEl.style.display =\n",
              "        google.colab.kernel.accessAllowed ? 'block' : 'none';\n",
              "\n",
              "      async function convertToInteractive(key) {\n",
              "        const element = document.querySelector('#df-f308ea35-9b24-46ab-b451-1f82574bbad4');\n",
              "        const dataTable =\n",
              "          await google.colab.kernel.invokeFunction('convertToInteractive',\n",
              "                                                    [key], {});\n",
              "        if (!dataTable) return;\n",
              "\n",
              "        const docLinkHtml = 'Like what you see? Visit the ' +\n",
              "          '<a target=\"_blank\" href=https://colab.research.google.com/notebooks/data_table.ipynb>data table notebook</a>'\n",
              "          + ' to learn more about interactive tables.';\n",
              "        element.innerHTML = '';\n",
              "        dataTable['output_type'] = 'display_data';\n",
              "        await google.colab.output.renderOutput(dataTable, element);\n",
              "        const docLink = document.createElement('div');\n",
              "        docLink.innerHTML = docLinkHtml;\n",
              "        element.appendChild(docLink);\n",
              "      }\n",
              "    </script>\n",
              "  </div>\n",
              "\n",
              "\n",
              "<div id=\"df-9eca7deb-f8ad-449c-bed6-7e8b9031f148\">\n",
              "  <button class=\"colab-df-quickchart\" onclick=\"quickchart('df-9eca7deb-f8ad-449c-bed6-7e8b9031f148')\"\n",
              "            title=\"Suggest charts\"\n",
              "            style=\"display:none;\">\n",
              "\n",
              "<svg xmlns=\"http://www.w3.org/2000/svg\" height=\"24px\"viewBox=\"0 0 24 24\"\n",
              "     width=\"24px\">\n",
              "    <g>\n",
              "        <path d=\"M19 3H5c-1.1 0-2 .9-2 2v14c0 1.1.9 2 2 2h14c1.1 0 2-.9 2-2V5c0-1.1-.9-2-2-2zM9 17H7v-7h2v7zm4 0h-2V7h2v10zm4 0h-2v-4h2v4z\"/>\n",
              "    </g>\n",
              "</svg>\n",
              "  </button>\n",
              "\n",
              "<style>\n",
              "  .colab-df-quickchart {\n",
              "      --bg-color: #E8F0FE;\n",
              "      --fill-color: #1967D2;\n",
              "      --hover-bg-color: #E2EBFA;\n",
              "      --hover-fill-color: #174EA6;\n",
              "      --disabled-fill-color: #AAA;\n",
              "      --disabled-bg-color: #DDD;\n",
              "  }\n",
              "\n",
              "  [theme=dark] .colab-df-quickchart {\n",
              "      --bg-color: #3B4455;\n",
              "      --fill-color: #D2E3FC;\n",
              "      --hover-bg-color: #434B5C;\n",
              "      --hover-fill-color: #FFFFFF;\n",
              "      --disabled-bg-color: #3B4455;\n",
              "      --disabled-fill-color: #666;\n",
              "  }\n",
              "\n",
              "  .colab-df-quickchart {\n",
              "    background-color: var(--bg-color);\n",
              "    border: none;\n",
              "    border-radius: 50%;\n",
              "    cursor: pointer;\n",
              "    display: none;\n",
              "    fill: var(--fill-color);\n",
              "    height: 32px;\n",
              "    padding: 0;\n",
              "    width: 32px;\n",
              "  }\n",
              "\n",
              "  .colab-df-quickchart:hover {\n",
              "    background-color: var(--hover-bg-color);\n",
              "    box-shadow: 0 1px 2px rgba(60, 64, 67, 0.3), 0 1px 3px 1px rgba(60, 64, 67, 0.15);\n",
              "    fill: var(--button-hover-fill-color);\n",
              "  }\n",
              "\n",
              "  .colab-df-quickchart-complete:disabled,\n",
              "  .colab-df-quickchart-complete:disabled:hover {\n",
              "    background-color: var(--disabled-bg-color);\n",
              "    fill: var(--disabled-fill-color);\n",
              "    box-shadow: none;\n",
              "  }\n",
              "\n",
              "  .colab-df-spinner {\n",
              "    border: 2px solid var(--fill-color);\n",
              "    border-color: transparent;\n",
              "    border-bottom-color: var(--fill-color);\n",
              "    animation:\n",
              "      spin 1s steps(1) infinite;\n",
              "  }\n",
              "\n",
              "  @keyframes spin {\n",
              "    0% {\n",
              "      border-color: transparent;\n",
              "      border-bottom-color: var(--fill-color);\n",
              "      border-left-color: var(--fill-color);\n",
              "    }\n",
              "    20% {\n",
              "      border-color: transparent;\n",
              "      border-left-color: var(--fill-color);\n",
              "      border-top-color: var(--fill-color);\n",
              "    }\n",
              "    30% {\n",
              "      border-color: transparent;\n",
              "      border-left-color: var(--fill-color);\n",
              "      border-top-color: var(--fill-color);\n",
              "      border-right-color: var(--fill-color);\n",
              "    }\n",
              "    40% {\n",
              "      border-color: transparent;\n",
              "      border-right-color: var(--fill-color);\n",
              "      border-top-color: var(--fill-color);\n",
              "    }\n",
              "    60% {\n",
              "      border-color: transparent;\n",
              "      border-right-color: var(--fill-color);\n",
              "    }\n",
              "    80% {\n",
              "      border-color: transparent;\n",
              "      border-right-color: var(--fill-color);\n",
              "      border-bottom-color: var(--fill-color);\n",
              "    }\n",
              "    90% {\n",
              "      border-color: transparent;\n",
              "      border-bottom-color: var(--fill-color);\n",
              "    }\n",
              "  }\n",
              "</style>\n",
              "\n",
              "  <script>\n",
              "    async function quickchart(key) {\n",
              "      const quickchartButtonEl =\n",
              "        document.querySelector('#' + key + ' button');\n",
              "      quickchartButtonEl.disabled = true;  // To prevent multiple clicks.\n",
              "      quickchartButtonEl.classList.add('colab-df-spinner');\n",
              "      try {\n",
              "        const charts = await google.colab.kernel.invokeFunction(\n",
              "            'suggestCharts', [key], {});\n",
              "      } catch (error) {\n",
              "        console.error('Error during call to suggestCharts:', error);\n",
              "      }\n",
              "      quickchartButtonEl.classList.remove('colab-df-spinner');\n",
              "      quickchartButtonEl.classList.add('colab-df-quickchart-complete');\n",
              "    }\n",
              "    (() => {\n",
              "      let quickchartButtonEl =\n",
              "        document.querySelector('#df-9eca7deb-f8ad-449c-bed6-7e8b9031f148 button');\n",
              "      quickchartButtonEl.style.display =\n",
              "        google.colab.kernel.accessAllowed ? 'block' : 'none';\n",
              "    })();\n",
              "  </script>\n",
              "</div>\n",
              "\n",
              "    </div>\n",
              "  </div>\n"
            ],
            "application/vnd.google.colaboratory.intrinsic+json": {
              "type": "dataframe",
              "variable_name": "moons",
              "summary": "{\n  \"name\": \"moons\",\n  \"rows\": 1000,\n  \"fields\": [\n    {\n      \"column\": \"X0\",\n      \"properties\": {\n        \"dtype\": \"number\",\n        \"std\": 0.8673710765466924,\n        \"min\": -1.061750818658048,\n        \"max\": 2.0646373678153123,\n        \"num_unique_values\": 1000,\n        \"samples\": [\n          0.5171725206686113,\n          0.7535605030752364,\n          1.2408016376275735\n        ],\n        \"semantic_type\": \"\",\n        \"description\": \"\"\n      }\n    },\n    {\n      \"column\": \"X1\",\n      \"properties\": {\n        \"dtype\": \"number\",\n        \"std\": 0.4948222944223276,\n        \"min\": -0.5716971982171706,\n        \"max\": 1.042676886779827,\n        \"num_unique_values\": 1000,\n        \"samples\": [\n          -0.37846148253188083,\n          0.6870605739485167,\n          -0.45972026667192367\n        ],\n        \"semantic_type\": \"\",\n        \"description\": \"\"\n      }\n    },\n    {\n      \"column\": \"label\",\n      \"properties\": {\n        \"dtype\": \"number\",\n        \"std\": 0,\n        \"min\": 0,\n        \"max\": 1,\n        \"num_unique_values\": 2,\n        \"samples\": [\n          0,\n          1\n        ],\n        \"semantic_type\": \"\",\n        \"description\": \"\"\n      }\n    }\n  ]\n}"
            }
          },
          "metadata": {},
          "execution_count": 66
        }
      ]
    },
    {
      "cell_type": "code",
      "source": [
        "# Count the occurrences of each label\n",
        "label_counts = moons['label'].value_counts()\n",
        "print(\"\\nCount of each label:\")\n",
        "print(label_counts)"
      ],
      "metadata": {
        "colab": {
          "base_uri": "https://localhost:8080/"
        },
        "id": "x8IllOukOetK",
        "outputId": "0c80f6b6-d33b-4e9d-9993-e1b598a53ac0"
      },
      "execution_count": 67,
      "outputs": [
        {
          "output_type": "stream",
          "name": "stdout",
          "text": [
            "\n",
            "Count of each label:\n",
            "label\n",
            "1    500\n",
            "0    500\n",
            "Name: count, dtype: int64\n"
          ]
        }
      ]
    },
    {
      "cell_type": "code",
      "source": [
        "# Visualize the data on a scatter plot\n",
        "import matplotlib.pyplot as plt\n",
        "plt.scatter(x=X[:, 0],\n",
        "            y=X[:, 1],\n",
        "            c=y,\n",
        "            cmap=plt.cm.RdYlBu)\n"
      ],
      "metadata": {
        "id": "owrkPSFvQPFI",
        "colab": {
          "base_uri": "https://localhost:8080/",
          "height": 447
        },
        "outputId": "de044392-1245-4305-a3fd-e502990f1a3a"
      },
      "execution_count": 68,
      "outputs": [
        {
          "output_type": "execute_result",
          "data": {
            "text/plain": [
              "<matplotlib.collections.PathCollection at 0x78e951d51060>"
            ]
          },
          "metadata": {},
          "execution_count": 68
        },
        {
          "output_type": "display_data",
          "data": {
            "text/plain": [
              "<Figure size 640x480 with 1 Axes>"
            ],
            "image/png": "[encoded data removed]"
          },
          "metadata": {}
        }
      ]
    },
    {
      "cell_type": "code",
      "source": [
        "# Turn data into tensors of dtype float\n",
        "X = torch.from_numpy(X).type(torch.float)\n",
        "y = torch.from_numpy(y).type(torch.float)\n",
        "\n",
        "# Split the data into train and test sets (80% train, 20% test)\n",
        "from sklearn.model_selection import train_test_split\n",
        "X_train, X_test, y_train, y_test = train_test_split(X, y, test_size=0.2, random_state=RANDOM_SEED)\n"
      ],
      "metadata": {
        "id": "bDhyHn9fR4dq"
      },
      "execution_count": 69,
      "outputs": []
    },
    {
      "cell_type": "code",
      "source": [
        "type(X), X.dtype, type(y), y.dtype"
      ],
      "metadata": {
        "colab": {
          "base_uri": "https://localhost:8080/"
        },
        "id": "k1bwxpVuNzd5",
        "outputId": "957d6c23-e2b1-4b5a-9c78-55702fad5d5e"
      },
      "execution_count": 70,
      "outputs": [
        {
          "output_type": "execute_result",
          "data": {
            "text/plain": [
              "(torch.Tensor, torch.float32, torch.Tensor, torch.float32)"
            ]
          },
          "metadata": {},
          "execution_count": 70
        }
      ]
    },
    {
      "cell_type": "code",
      "source": [
        "X_train[:5], y_train[:5]"
      ],
      "metadata": {
        "colab": {
          "base_uri": "https://localhost:8080/"
        },
        "id": "5nTFr-rjN6NJ",
        "outputId": "f1978b9d-03be-4c7a-9363-5cfab33ffa35"
      },
      "execution_count": 71,
      "outputs": [
        {
          "output_type": "execute_result",
          "data": {
            "text/plain": [
              "(tensor([[ 1.9758,  0.2076],\n",
              "         [-0.9608,  0.4007],\n",
              "         [-0.0986,  1.0231],\n",
              "         [-0.1083,  0.9919],\n",
              "         [ 0.3767, -0.2620]]),\n",
              " tensor([1., 0., 0., 0., 1.]))"
            ]
          },
          "metadata": {},
          "execution_count": 71
        }
      ]
    },
    {
      "cell_type": "markdown",
      "source": [
        "## 2. Build a model by subclassing `nn.Module` that incorporates non-linear activation functions and is capable of fitting the data you created in 1.\n",
        "  * Feel free to use any combination of PyTorch layers (linear and non-linear) you want."
      ],
      "metadata": {
        "id": "cMIjxZdzQfPz"
      }
    },
    {
      "cell_type": "code",
      "source": [
        "import torch\n",
        "from torch import nn\n",
        "\n",
        "# Inherit from nn.Module to make a model capable of fitting the mooon data\n",
        "class MoonModelV0(nn.Module):\n",
        "    def __init__(self):\n",
        "      super().__init__()\n",
        "      self.linear_layer_1 = nn.Linear(in_features=2, out_features=10)\n",
        "      self.linear_layer_2 = nn.Linear(in_features=10, out_features=10)\n",
        "      self.linear_layer_3 = nn.Linear(in_features=10, out_features=1)\n",
        "      self.relu = nn.ReLU()\n",
        "\n",
        "    def forward(self, x):\n",
        "        return self.linear_layer_3(self.relu(self.linear_layer_2(self.relu(self.linear_layer_1(x)))))\n",
        "\n",
        "# Instantiate the model\n",
        "model_0 = MoonModelV0().to(device)\n",
        "## Your code here ##\n",
        "model_0"
      ],
      "metadata": {
        "id": "hwtyvm34Ri6Q",
        "colab": {
          "base_uri": "https://localhost:8080/"
        },
        "outputId": "f3f9c9f9-dcf0-4fd2-d44b-4caf0c6118cc"
      },
      "execution_count": 72,
      "outputs": [
        {
          "output_type": "execute_result",
          "data": {
            "text/plain": [
              "MoonModelV0(\n",
              "  (linear_layer_1): Linear(in_features=2, out_features=10, bias=True)\n",
              "  (linear_layer_2): Linear(in_features=10, out_features=10, bias=True)\n",
              "  (linear_layer_3): Linear(in_features=10, out_features=1, bias=True)\n",
              "  (relu): ReLU()\n",
              ")"
            ]
          },
          "metadata": {},
          "execution_count": 72
        }
      ]
    },
    {
      "cell_type": "markdown",
      "source": [
        "## 3. Setup a binary classification compatible loss function and optimizer to use when training the model built in 2."
      ],
      "metadata": {
        "id": "DSj97RwyVeFE"
      }
    },
    {
      "cell_type": "code",
      "source": [
        "# Setup loss function\n",
        "loss_fn = nn.BCEWithLogitsLoss()\n",
        "# Setup optimizer to optimize model's parameters\n",
        "optimizer = torch.optim.SGD(params=model_0.parameters(),\n",
        "                            lr=0.1)"
      ],
      "metadata": {
        "id": "whSGw5qgVvxU"
      },
      "execution_count": 73,
      "outputs": []
    },
    {
      "cell_type": "markdown",
      "source": [
        "## 4. Create a training and testing loop to fit the model you created in 2 to the data you created in 1.\n",
        "  * Do a forward pass of the model to see what's coming out in the form of logits, prediction probabilities and labels.\n",
        "  * To measure model accuray, you can create your own accuracy function or use the accuracy function in [TorchMetrics](https://torchmetrics.readthedocs.io/en/latest/).\n",
        "  * Train the model for long enough for it to reach over 96% accuracy.\n",
        "  * The training loop should output progress every 10 epochs of the model's training and test set loss and accuracy."
      ],
      "metadata": {
        "id": "nvk4PfNTWUAt"
      }
    },
    {
      "cell_type": "code",
      "source": [
        "# What's coming out of our model?\n",
        "\n",
        "# logits (raw outputs of model)\n",
        "print(\"Logits:\")\n",
        "## Your code here ##\n",
        "model_0.eval()\n",
        "with torch.inference_mode():\n",
        "  y_logits = model_0(X_test.to(device))[:5]\n",
        "print(y_logits[:5])\n",
        "\n",
        "# Prediction probabilities\n",
        "print(\"Pred probs:\")\n",
        "## Your code here ##\n",
        "y_pred_probs = torch.sigmoid(y_logits)\n",
        "print(y_pred_probs)\n",
        "\n",
        "# Prediction labels\n",
        "print(\"Pred labels:\")\n",
        "## Your code here ##\n",
        "y_pred_probs = torch.round(y_pred_probs)\n",
        "print(torch.round(y_pred_probs).squeeze())\n",
        "\n",
        "# Actual Prediction\n",
        "print(\"Correct labels:\")\n",
        "print(y_test[:5])"
      ],
      "metadata": {
        "colab": {
          "base_uri": "https://localhost:8080/"
        },
        "id": "AgnFdlamd2-D",
        "outputId": "2a742065-9750-433b-cf7e-be758ec9df0a"
      },
      "execution_count": 74,
      "outputs": [
        {
          "output_type": "stream",
          "name": "stdout",
          "text": [
            "Logits:\n",
            "tensor([[ 0.0327],\n",
            "        [ 0.0312],\n",
            "        [-0.0034],\n",
            "        [ 0.0302],\n",
            "        [ 0.0006]])\n",
            "Pred probs:\n",
            "tensor([[0.5082],\n",
            "        [0.5078],\n",
            "        [0.4991],\n",
            "        [0.5075],\n",
            "        [0.5002]])\n",
            "Pred labels:\n",
            "tensor([1., 1., 0., 1., 1.])\n",
            "Correct labels:\n",
            "tensor([1., 0., 1., 0., 1.])\n"
          ]
        }
      ]
    },
    {
      "cell_type": "code",
      "source": [
        "# Let's calculuate the accuracy using accuracy from TorchMetrics\n",
        "!pip -q install torchmetrics # Colab doesn't come with torchmetrics\n",
        "from torchmetrics import Accuracy\n",
        "\n",
        "## TODO: Uncomment this code to use the Accuracy function\n",
        "acc_fn = Accuracy(task=\"multiclass\", num_classes=2).to(device) # send accuracy function to device\n",
        "acc_fn"
      ],
      "metadata": {
        "id": "rUSDNHB4euoJ",
        "colab": {
          "base_uri": "https://localhost:8080/"
        },
        "outputId": "22a565cd-5202-4dd9-b587-c1c251b901e3"
      },
      "execution_count": 75,
      "outputs": [
        {
          "output_type": "execute_result",
          "data": {
            "text/plain": [
              "MulticlassAccuracy()"
            ]
          },
          "metadata": {},
          "execution_count": 75
        }
      ]
    },
    {
      "cell_type": "markdown",
      "source": [
        "# **Training Bar** -> from tqdm import tqdm  -> Import tqdm for progress bars\n",
        "\n",
        "\n",
        "for epoch in tqdm(range(epochs), desc=\"Training Data\"):\n",
        "  ### Training\n",
        "  model_0.train()\n"
      ],
      "metadata": {
        "id": "UAQRDxZFi_vw"
      }
    },
    {
      "cell_type": "code",
      "source": [
        "from tqdm import tqdm  # Import tqdm for progress bars\n",
        "## TODO: Uncomment this to set the seed\n",
        "torch.manual_seed(RANDOM_SEED)\n",
        "\n",
        "# Setup epochs\n",
        "epochs = 1000\n",
        "\n",
        "# Send data to the device\n",
        "X_train, y_train = X_train.to(device), y_train.to(device)\n",
        "X_test, y_test = X_test.to(device), y_test.to(device)\n",
        "\n",
        "\n",
        "# Loop through the data\n",
        "for epoch in tqdm(range(epochs), desc=\"Training Data\"):\n",
        "  ### Training\n",
        "  model_0.train()\n",
        "\n",
        "\n",
        "  # 1. Forward pass (logits output)\n",
        "  y_logits = model_0(X_train).squeeze()\n",
        "  # Turn logits into prediction probabilities\n",
        "  y_preds = torch.round(torch.sigmoid(y_logits))\n",
        "\n",
        "  # Turn prediction probabilities into prediction labels\n",
        "\n",
        "\n",
        "  # 2. Calculaute the loss\n",
        "  loss = loss_fn(y_logits, y_train)\n",
        "  # loss = loss_fn(y_logits, y_train) # loss = compare model raw outputs to desired model outputs\n",
        "\n",
        "  # Calculate the accuracy\n",
        "  acc = acc_fn(y_preds, y_train)\n",
        "  # acc = acc_fn(y_pred, y_train.int()) # the accuracy function needs to compare pred labels (not logits) with actual labels\n",
        "\n",
        "  # 3. Zero the gradients\n",
        "  optimizer.zero_grad()\n",
        "\n",
        "\n",
        "  # 4. Loss backward (perform backpropagation) - https://brilliant.org/wiki/backpropagation/#:~:text=Backpropagation%2C%20short%20for%20%22backward%20propagation,to%20the%20neural%20network's%20weights.\n",
        "  loss.backward()\n",
        "\n",
        "  # 5. Step the optimizer (gradient descent) - https://towardsdatascience.com/gradient-descent-algorithm-a-deep-dive-cf04e8115f21#:~:text=Gradient%20descent%20(GD)%20is%20an,e.g.%20in%20a%20linear%20regression)\n",
        "  optimizer.step()\n",
        "\n",
        "  ### Testing\n",
        "  model_0.eval()\n",
        "  with torch.inference_mode():\n",
        "    # 1. Forward pass (to get the logits)\n",
        "    test_logits = model_0(X_test).squeeze()\n",
        "\n",
        "    # Turn the test logits into prediction labels\n",
        "    test_pred = torch.round(torch.sigmoid(test_logits))\n",
        "\n",
        "    # 2. Caculate the test loss/acc\n",
        "    test_loss = loss_fn(test_logits, y_test)\n",
        "    test_acc = acc_fn(test_pred, y_test)\n",
        "\n",
        "  # Print out what's happening every 100 epochs\n",
        "  if epoch % 10 == 0:\n",
        "    print(f\"Epoch: {epoch} | Loss: {loss:.4f} | Acc: {acc:.2f}% | Test Loss: {test_loss:.4f} | Test Acc: {test_acc:.2f}%\")\n",
        ""
      ],
      "metadata": {
        "id": "SHBY3h7XXnxt",
        "colab": {
          "base_uri": "https://localhost:8080/"
        },
        "outputId": "29f85349-6e8a-45d8-c8f5-d2cc1853dba2"
      },
      "execution_count": 76,
      "outputs": [
        {
          "output_type": "stream",
          "name": "stderr",
          "text": [
            "Training Data:   3%|▎         | 29/1000 [00:00<00:03, 288.64it/s]"
          ]
        },
        {
          "output_type": "stream",
          "name": "stdout",
          "text": [
            "Epoch: 0 | Loss: 0.6954 | Acc: 0.38% | Test Loss: 0.6946 | Test Acc: 0.50%\n",
            "Epoch: 10 | Loss: 0.6820 | Acc: 0.76% | Test Loss: 0.6821 | Test Acc: 0.73%\n",
            "Epoch: 20 | Loss: 0.6679 | Acc: 0.80% | Test Loss: 0.6692 | Test Acc: 0.77%\n",
            "Epoch: 30 | Loss: 0.6507 | Acc: 0.78% | Test Loss: 0.6531 | Test Acc: 0.73%\n",
            "Epoch: 40 | Loss: 0.6261 | Acc: 0.76% | Test Loss: 0.6301 | Test Acc: 0.69%\n",
            "Epoch: 50 | Loss: 0.5933 | Acc: 0.75% | Test Loss: 0.5996 | Test Acc: 0.71%\n"
          ]
        },
        {
          "output_type": "stream",
          "name": "stderr",
          "text": [
            "Training Data:  12%|█▏        | 116/1000 [00:00<00:03, 269.29it/s]"
          ]
        },
        {
          "output_type": "stream",
          "name": "stdout",
          "text": [
            "Epoch: 60 | Loss: 0.5528 | Acc: 0.76% | Test Loss: 0.5613 | Test Acc: 0.73%\n",
            "Epoch: 70 | Loss: 0.5071 | Acc: 0.77% | Test Loss: 0.5180 | Test Acc: 0.75%\n",
            "Epoch: 80 | Loss: 0.4610 | Acc: 0.79% | Test Loss: 0.4742 | Test Acc: 0.75%\n",
            "Epoch: 90 | Loss: 0.4200 | Acc: 0.80% | Test Loss: 0.4349 | Test Acc: 0.75%\n",
            "Epoch: 100 | Loss: 0.3864 | Acc: 0.82% | Test Loss: 0.4020 | Test Acc: 0.77%\n",
            "Epoch: 110 | Loss: 0.3593 | Acc: 0.83% | Test Loss: 0.3746 | Test Acc: 0.79%\n"
          ]
        },
        {
          "output_type": "stream",
          "name": "stderr",
          "text": [
            "\rTraining Data:  14%|█▍        | 144/1000 [00:00<00:03, 248.42it/s]"
          ]
        },
        {
          "output_type": "stream",
          "name": "stdout",
          "text": [
            "Epoch: 120 | Loss: 0.3371 | Acc: 0.84% | Test Loss: 0.3513 | Test Acc: 0.80%\n",
            "Epoch: 130 | Loss: 0.3184 | Acc: 0.85% | Test Loss: 0.3309 | Test Acc: 0.81%\n",
            "Epoch: 140 | Loss: 0.3021 | Acc: 0.86% | Test Loss: 0.3128 | Test Acc: 0.83%\n",
            "Epoch: 150 | Loss: 0.2878 | Acc: 0.86% | Test Loss: 0.2967 | Test Acc: 0.85%\n",
            "Epoch: 160 | Loss: 0.2751 | Acc: 0.87% | Test Loss: 0.2821 | Test Acc: 0.87%\n"
          ]
        },
        {
          "output_type": "stream",
          "name": "stderr",
          "text": [
            "Training Data:  19%|█▉        | 194/1000 [00:00<00:03, 224.34it/s]"
          ]
        },
        {
          "output_type": "stream",
          "name": "stdout",
          "text": [
            "Epoch: 170 | Loss: 0.2638 | Acc: 0.87% | Test Loss: 0.2690 | Test Acc: 0.88%\n",
            "Epoch: 180 | Loss: 0.2537 | Acc: 0.88% | Test Loss: 0.2574 | Test Acc: 0.89%\n",
            "Epoch: 190 | Loss: 0.2447 | Acc: 0.88% | Test Loss: 0.2470 | Test Acc: 0.89%\n",
            "Epoch: 200 | Loss: 0.2366 | Acc: 0.89% | Test Loss: 0.2376 | Test Acc: 0.90%\n",
            "Epoch: 210 | Loss: 0.2294 | Acc: 0.89% | Test Loss: 0.2292 | Test Acc: 0.90%\n"
          ]
        },
        {
          "output_type": "stream",
          "name": "stderr",
          "text": [
            "Training Data:  24%|██▍       | 244/1000 [00:01<00:03, 201.27it/s]"
          ]
        },
        {
          "output_type": "stream",
          "name": "stdout",
          "text": [
            "Epoch: 220 | Loss: 0.2234 | Acc: 0.89% | Test Loss: 0.2221 | Test Acc: 0.92%\n",
            "Epoch: 230 | Loss: 0.2183 | Acc: 0.90% | Test Loss: 0.2160 | Test Acc: 0.92%\n",
            "Epoch: 240 | Loss: 0.2137 | Acc: 0.90% | Test Loss: 0.2105 | Test Acc: 0.92%\n"
          ]
        },
        {
          "output_type": "stream",
          "name": "stderr",
          "text": [
            "\rTraining Data:  26%|██▋       | 265/1000 [00:01<00:03, 195.25it/s]"
          ]
        },
        {
          "output_type": "stream",
          "name": "stdout",
          "text": [
            "Epoch: 250 | Loss: 0.2094 | Acc: 0.90% | Test Loss: 0.2056 | Test Acc: 0.92%\n",
            "Epoch: 260 | Loss: 0.2054 | Acc: 0.90% | Test Loss: 0.2010 | Test Acc: 0.93%\n",
            "Epoch: 270 | Loss: 0.2016 | Acc: 0.91% | Test Loss: 0.1968 | Test Acc: 0.93%\n",
            "Epoch: 280 | Loss: 0.1980 | Acc: 0.91% | Test Loss: 0.1929 | Test Acc: 0.93%\n"
          ]
        },
        {
          "output_type": "stream",
          "name": "stderr",
          "text": [
            "Training Data:  33%|███▎      | 329/1000 [00:01<00:03, 184.90it/s]"
          ]
        },
        {
          "output_type": "stream",
          "name": "stdout",
          "text": [
            "Epoch: 290 | Loss: 0.1944 | Acc: 0.91% | Test Loss: 0.1891 | Test Acc: 0.93%\n",
            "Epoch: 300 | Loss: 0.1908 | Acc: 0.91% | Test Loss: 0.1853 | Test Acc: 0.93%\n",
            "Epoch: 310 | Loss: 0.1872 | Acc: 0.92% | Test Loss: 0.1815 | Test Acc: 0.93%\n",
            "Epoch: 320 | Loss: 0.1836 | Acc: 0.92% | Test Loss: 0.1776 | Test Acc: 0.93%\n",
            "Epoch: 330 | Loss: 0.1798 | Acc: 0.92% | Test Loss: 0.1737 | Test Acc: 0.93%\n"
          ]
        },
        {
          "output_type": "stream",
          "name": "stderr",
          "text": [
            "\rTraining Data:  35%|███▍      | 349/1000 [00:01<00:03, 178.20it/s]"
          ]
        },
        {
          "output_type": "stream",
          "name": "stdout",
          "text": [
            "Epoch: 340 | Loss: 0.1760 | Acc: 0.92% | Test Loss: 0.1698 | Test Acc: 0.93%\n",
            "Epoch: 350 | Loss: 0.1722 | Acc: 0.93% | Test Loss: 0.1658 | Test Acc: 0.93%\n"
          ]
        },
        {
          "output_type": "stream",
          "name": "stderr",
          "text": [
            "Training Data:  38%|███▊      | 384/1000 [00:01<00:04, 140.43it/s]"
          ]
        },
        {
          "output_type": "stream",
          "name": "stdout",
          "text": [
            "Epoch: 360 | Loss: 0.1682 | Acc: 0.93% | Test Loss: 0.1616 | Test Acc: 0.93%\n",
            "Epoch: 370 | Loss: 0.1642 | Acc: 0.93% | Test Loss: 0.1575 | Test Acc: 0.94%\n",
            "Epoch: 380 | Loss: 0.1600 | Acc: 0.93% | Test Loss: 0.1532 | Test Acc: 0.94%\n"
          ]
        },
        {
          "output_type": "stream",
          "name": "stderr",
          "text": [
            "\rTraining Data:  40%|████      | 400/1000 [00:02<00:04, 139.06it/s]"
          ]
        },
        {
          "output_type": "stream",
          "name": "stdout",
          "text": [
            "Epoch: 390 | Loss: 0.1558 | Acc: 0.93% | Test Loss: 0.1489 | Test Acc: 0.94%\n",
            "Epoch: 400 | Loss: 0.1515 | Acc: 0.94% | Test Loss: 0.1445 | Test Acc: 0.94%\n",
            "Epoch: 410 | Loss: 0.1471 | Acc: 0.94% | Test Loss: 0.1400 | Test Acc: 0.94%\n"
          ]
        },
        {
          "output_type": "stream",
          "name": "stderr",
          "text": [
            "Training Data:  43%|████▎     | 428/1000 [00:02<00:05, 105.73it/s]"
          ]
        },
        {
          "output_type": "stream",
          "name": "stdout",
          "text": [
            "Epoch: 420 | Loss: 0.1426 | Acc: 0.94% | Test Loss: 0.1355 | Test Acc: 0.94%\n",
            "Epoch: 430 | Loss: 0.1381 | Acc: 0.95% | Test Loss: 0.1310 | Test Acc: 0.94%\n"
          ]
        },
        {
          "output_type": "stream",
          "name": "stderr",
          "text": [
            "Training Data:  45%|████▌     | 450/1000 [00:02<00:07, 77.32it/s]"
          ]
        },
        {
          "output_type": "stream",
          "name": "stdout",
          "text": [
            "Epoch: 440 | Loss: 0.1336 | Acc: 0.95% | Test Loss: 0.1264 | Test Acc: 0.95%\n",
            "Epoch: 450 | Loss: 0.1290 | Acc: 0.95% | Test Loss: 0.1218 | Test Acc: 0.96%\n"
          ]
        },
        {
          "output_type": "stream",
          "name": "stderr",
          "text": [
            "Training Data:  48%|████▊     | 475/1000 [00:03<00:07, 71.29it/s]"
          ]
        },
        {
          "output_type": "stream",
          "name": "stdout",
          "text": [
            "Epoch: 460 | Loss: 0.1245 | Acc: 0.95% | Test Loss: 0.1172 | Test Acc: 0.97%\n",
            "Epoch: 470 | Loss: 0.1201 | Acc: 0.95% | Test Loss: 0.1128 | Test Acc: 0.97%\n"
          ]
        },
        {
          "output_type": "stream",
          "name": "stderr",
          "text": [
            "Training Data:  49%|████▉     | 491/1000 [00:03<00:07, 71.82it/s]"
          ]
        },
        {
          "output_type": "stream",
          "name": "stdout",
          "text": [
            "Epoch: 480 | Loss: 0.1157 | Acc: 0.95% | Test Loss: 0.1083 | Test Acc: 0.97%\n",
            "Epoch: 490 | Loss: 0.1113 | Acc: 0.95% | Test Loss: 0.1040 | Test Acc: 0.97%\n"
          ]
        },
        {
          "output_type": "stream",
          "name": "stderr",
          "text": [
            "Training Data:  52%|█████▏    | 518/1000 [00:03<00:05, 81.24it/s]"
          ]
        },
        {
          "output_type": "stream",
          "name": "stdout",
          "text": [
            "Epoch: 500 | Loss: 0.1069 | Acc: 0.96% | Test Loss: 0.0997 | Test Acc: 0.98%\n",
            "Epoch: 510 | Loss: 0.1026 | Acc: 0.96% | Test Loss: 0.0956 | Test Acc: 0.98%\n"
          ]
        },
        {
          "output_type": "stream",
          "name": "stderr",
          "text": [
            "\rTraining Data:  53%|█████▎    | 527/1000 [00:03<00:07, 66.64it/s]"
          ]
        },
        {
          "output_type": "stream",
          "name": "stdout",
          "text": [
            "Epoch: 520 | Loss: 0.0984 | Acc: 0.96% | Test Loss: 0.0914 | Test Acc: 0.98%\n"
          ]
        },
        {
          "output_type": "stream",
          "name": "stderr",
          "text": [
            "\rTraining Data:  54%|█████▎    | 535/1000 [00:04<00:08, 55.67it/s]"
          ]
        },
        {
          "output_type": "stream",
          "name": "stdout",
          "text": [
            "Epoch: 530 | Loss: 0.0943 | Acc: 0.96% | Test Loss: 0.0874 | Test Acc: 0.98%\n"
          ]
        },
        {
          "output_type": "stream",
          "name": "stderr",
          "text": [
            "Training Data:  55%|█████▌    | 550/1000 [00:04<00:07, 57.46it/s]"
          ]
        },
        {
          "output_type": "stream",
          "name": "stdout",
          "text": [
            "Epoch: 540 | Loss: 0.0903 | Acc: 0.97% | Test Loss: 0.0835 | Test Acc: 0.98%\n",
            "Epoch: 550 | Loss: 0.0864 | Acc: 0.97% | Test Loss: 0.0798 | Test Acc: 0.99%\n"
          ]
        },
        {
          "output_type": "stream",
          "name": "stderr",
          "text": [
            "Training Data:  58%|█████▊    | 578/1000 [00:04<00:05, 77.09it/s]"
          ]
        },
        {
          "output_type": "stream",
          "name": "stdout",
          "text": [
            "Epoch: 560 | Loss: 0.0827 | Acc: 0.98% | Test Loss: 0.0761 | Test Acc: 0.99%\n",
            "Epoch: 570 | Loss: 0.0790 | Acc: 0.98% | Test Loss: 0.0726 | Test Acc: 0.99%\n"
          ]
        },
        {
          "output_type": "stream",
          "name": "stderr",
          "text": [
            "\rTraining Data:  59%|█████▉    | 589/1000 [00:04<00:04, 82.72it/s]"
          ]
        },
        {
          "output_type": "stream",
          "name": "stdout",
          "text": [
            "Epoch: 580 | Loss: 0.0756 | Acc: 0.98% | Test Loss: 0.0693 | Test Acc: 0.99%\n",
            "Epoch: 590 | Loss: 0.0722 | Acc: 0.99% | Test Loss: 0.0661 | Test Acc: 0.99%\n"
          ]
        },
        {
          "output_type": "stream",
          "name": "stderr",
          "text": [
            "Training Data:  61%|██████    | 609/1000 [00:05<00:04, 78.58it/s]"
          ]
        },
        {
          "output_type": "stream",
          "name": "stdout",
          "text": [
            "Epoch: 600 | Loss: 0.0690 | Acc: 0.99% | Test Loss: 0.0630 | Test Acc: 0.99%\n",
            "Epoch: 610 | Loss: 0.0660 | Acc: 0.99% | Test Loss: 0.0600 | Test Acc: 0.99%\n"
          ]
        },
        {
          "output_type": "stream",
          "name": "stderr",
          "text": [
            "Training Data:  64%|██████▍   | 638/1000 [00:05<00:04, 84.25it/s]"
          ]
        },
        {
          "output_type": "stream",
          "name": "stdout",
          "text": [
            "Epoch: 620 | Loss: 0.0630 | Acc: 0.99% | Test Loss: 0.0572 | Test Acc: 1.00%\n",
            "Epoch: 630 | Loss: 0.0602 | Acc: 0.99% | Test Loss: 0.0545 | Test Acc: 1.00%\n"
          ]
        },
        {
          "output_type": "stream",
          "name": "stderr",
          "text": [
            "\rTraining Data:  65%|██████▍   | 647/1000 [00:05<00:04, 82.93it/s]"
          ]
        },
        {
          "output_type": "stream",
          "name": "stdout",
          "text": [
            "Epoch: 640 | Loss: 0.0575 | Acc: 0.99% | Test Loss: 0.0520 | Test Acc: 1.00%\n",
            "Epoch: 650 | Loss: 0.0550 | Acc: 0.99% | Test Loss: 0.0496 | Test Acc: 1.00%\n",
            "Epoch: 660 | Loss: 0.0526 | Acc: 0.99% | Test Loss: 0.0473 | Test Acc: 1.00%"
          ]
        },
        {
          "output_type": "stream",
          "name": "stderr",
          "text": [
            "Training Data:  67%|██████▋   | 670/1000 [00:05<00:03, 88.98it/s]"
          ]
        },
        {
          "output_type": "stream",
          "name": "stdout",
          "text": [
            "\n",
            "Epoch: 670 | Loss: 0.0503 | Acc: 0.99% | Test Loss: 0.0451 | Test Acc: 1.00%\n",
            "Epoch: 680 | Loss: 0.0481 | Acc: 0.99% | Test Loss: 0.0431 | Test Acc: 1.00%\n"
          ]
        },
        {
          "output_type": "stream",
          "name": "stderr",
          "text": [
            "Training Data:  70%|███████   | 705/1000 [00:06<00:02, 126.42it/s]"
          ]
        },
        {
          "output_type": "stream",
          "name": "stdout",
          "text": [
            "Epoch: 690 | Loss: 0.0461 | Acc: 1.00% | Test Loss: 0.0412 | Test Acc: 1.00%\n",
            "Epoch: 700 | Loss: 0.0442 | Acc: 1.00% | Test Loss: 0.0394 | Test Acc: 1.00%\n",
            "Epoch: 710 | Loss: 0.0424 | Acc: 1.00% | Test Loss: 0.0376 | Test Acc: 1.00%\n",
            "Epoch: 720 | Loss: 0.0407 | Acc: 1.00% | Test Loss: 0.0360 | Test Acc: 1.00%\n"
          ]
        },
        {
          "output_type": "stream",
          "name": "stderr",
          "text": [
            "Training Data:  76%|███████▌  | 755/1000 [00:06<00:01, 136.19it/s]"
          ]
        },
        {
          "output_type": "stream",
          "name": "stdout",
          "text": [
            "Epoch: 730 | Loss: 0.0390 | Acc: 1.00% | Test Loss: 0.0345 | Test Acc: 1.00%\n",
            "Epoch: 740 | Loss: 0.0375 | Acc: 1.00% | Test Loss: 0.0331 | Test Acc: 1.00%\n",
            "Epoch: 750 | Loss: 0.0361 | Acc: 1.00% | Test Loss: 0.0317 | Test Acc: 1.00%\n",
            "Epoch: 760 | Loss: 0.0347 | Acc: 1.00% | Test Loss: 0.0305 | Test Acc: 1.00%\n"
          ]
        },
        {
          "output_type": "stream",
          "name": "stderr",
          "text": [
            "Training Data:  79%|███████▉  | 788/1000 [00:06<00:01, 145.40it/s]"
          ]
        },
        {
          "output_type": "stream",
          "name": "stdout",
          "text": [
            "Epoch: 770 | Loss: 0.0335 | Acc: 1.00% | Test Loss: 0.0293 | Test Acc: 1.00%\n",
            "Epoch: 780 | Loss: 0.0323 | Acc: 1.00% | Test Loss: 0.0282 | Test Acc: 1.00%\n",
            "Epoch: 790 | Loss: 0.0311 | Acc: 1.00% | Test Loss: 0.0272 | Test Acc: 1.00%\n"
          ]
        },
        {
          "output_type": "stream",
          "name": "stderr",
          "text": [
            "Training Data:  83%|████████▎ | 834/1000 [00:06<00:00, 183.19it/s]"
          ]
        },
        {
          "output_type": "stream",
          "name": "stdout",
          "text": [
            "Epoch: 800 | Loss: 0.0301 | Acc: 1.00% | Test Loss: 0.0262 | Test Acc: 1.00%\n",
            "Epoch: 810 | Loss: 0.0290 | Acc: 1.00% | Test Loss: 0.0253 | Test Acc: 1.00%\n",
            "Epoch: 820 | Loss: 0.0281 | Acc: 1.00% | Test Loss: 0.0245 | Test Acc: 1.00%\n",
            "Epoch: 830 | Loss: 0.0272 | Acc: 1.00% | Test Loss: 0.0236 | Test Acc: 1.00%\n",
            "Epoch: 840 | Loss: 0.0263 | Acc: 1.00% | Test Loss: 0.0229 | Test Acc: 1.00%\n"
          ]
        },
        {
          "output_type": "stream",
          "name": "stderr",
          "text": [
            "Training Data:  87%|████████▋ | 870/1000 [00:07<00:00, 161.82it/s]"
          ]
        },
        {
          "output_type": "stream",
          "name": "stdout",
          "text": [
            "Epoch: 850 | Loss: 0.0255 | Acc: 1.00% | Test Loss: 0.0221 | Test Acc: 1.00%\n",
            "Epoch: 860 | Loss: 0.0247 | Acc: 1.00% | Test Loss: 0.0214 | Test Acc: 1.00%\n",
            "Epoch: 870 | Loss: 0.0239 | Acc: 1.00% | Test Loss: 0.0207 | Test Acc: 1.00%\n",
            "Epoch: 880 | Loss: 0.0232 | Acc: 1.00% | Test Loss: 0.0201 | Test Acc: 1.00%\n"
          ]
        },
        {
          "output_type": "stream",
          "name": "stderr",
          "text": [
            "Training Data:  94%|█████████▎| 936/1000 [00:07<00:00, 202.36it/s]"
          ]
        },
        {
          "output_type": "stream",
          "name": "stdout",
          "text": [
            "Epoch: 890 | Loss: 0.0225 | Acc: 1.00% | Test Loss: 0.0195 | Test Acc: 1.00%\n",
            "Epoch: 900 | Loss: 0.0219 | Acc: 1.00% | Test Loss: 0.0189 | Test Acc: 1.00%\n",
            "Epoch: 910 | Loss: 0.0213 | Acc: 1.00% | Test Loss: 0.0183 | Test Acc: 1.00%\n",
            "Epoch: 920 | Loss: 0.0207 | Acc: 1.00% | Test Loss: 0.0178 | Test Acc: 1.00%\n",
            "Epoch: 930 | Loss: 0.0201 | Acc: 1.00% | Test Loss: 0.0173 | Test Acc: 1.00%\n"
          ]
        },
        {
          "output_type": "stream",
          "name": "stderr",
          "text": [
            "Training Data:  99%|█████████▉| 992/1000 [00:07<00:00, 237.81it/s]"
          ]
        },
        {
          "output_type": "stream",
          "name": "stdout",
          "text": [
            "Epoch: 940 | Loss: 0.0196 | Acc: 1.00% | Test Loss: 0.0168 | Test Acc: 1.00%\n",
            "Epoch: 950 | Loss: 0.0191 | Acc: 1.00% | Test Loss: 0.0163 | Test Acc: 1.00%\n",
            "Epoch: 960 | Loss: 0.0186 | Acc: 1.00% | Test Loss: 0.0159 | Test Acc: 1.00%\n",
            "Epoch: 970 | Loss: 0.0181 | Acc: 1.00% | Test Loss: 0.0155 | Test Acc: 1.00%\n",
            "Epoch: 980 | Loss: 0.0176 | Acc: 1.00% | Test Loss: 0.0151 | Test Acc: 1.00%\n",
            "Epoch: 990 | Loss: 0.0172 | Acc: 1.00% | Test Loss: 0.0147 | Test Acc: 1.00%\n"
          ]
        },
        {
          "output_type": "stream",
          "name": "stderr",
          "text": [
            "\rTraining Data: 100%|██████████| 1000/1000 [00:07<00:00, 130.04it/s]\n"
          ]
        }
      ]
    },
    {
      "cell_type": "code",
      "source": [
        "y_logits.shape, y_train.shape"
      ],
      "metadata": {
        "colab": {
          "base_uri": "https://localhost:8080/"
        },
        "id": "qD3VTpdLW4YJ",
        "outputId": "15b4bc0e-25f5-4324-93fa-b0467b04a953"
      },
      "execution_count": 49,
      "outputs": [
        {
          "output_type": "execute_result",
          "data": {
            "text/plain": [
              "(torch.Size([800]), torch.Size([800]))"
            ]
          },
          "metadata": {},
          "execution_count": 49
        }
      ]
    },
    {
      "cell_type": "markdown",
      "source": [
        "## 5. Make predictions with your trained model and plot them using the `plot_decision_boundary()` function created in this notebook."
      ],
      "metadata": {
        "id": "8Nwihtomj9JO"
      }
    },
    {
      "cell_type": "code",
      "source": [
        "# Plot the model predictions\n",
        "import numpy as np\n",
        "\n",
        "def plot_decision_boundary(model, X, y):\n",
        "\n",
        "    # Put everything to CPU (works better with NumPy + Matplotlib)\n",
        "    model.to(\"cpu\")\n",
        "    X, y = X.to(\"cpu\"), y.to(\"cpu\")\n",
        "\n",
        "    # Source - https://madewithml.com/courses/foundations/neural-networks/\n",
        "    # (with modifications)\n",
        "    x_min, x_max = X[:, 0].min() - 0.1, X[:, 0].max() + 0.1\n",
        "    y_min, y_max = X[:, 1].min() - 0.1, X[:, 1].max() + 0.1\n",
        "    xx, yy = np.meshgrid(np.linspace(x_min, x_max, 101),\n",
        "                         np.linspace(y_min, y_max, 101))\n",
        "\n",
        "    # Make features\n",
        "    X_to_pred_on = torch.from_numpy(np.column_stack((xx.ravel(), yy.ravel()))).float()\n",
        "\n",
        "    # Make predictions\n",
        "    model.eval()\n",
        "    with torch.inference_mode():\n",
        "        y_logits = model(X_to_pred_on)\n",
        "\n",
        "    # Test for multi-class or binary and adjust logits to prediction labels\n",
        "    if len(torch.unique(y)) > 2:\n",
        "        y_pred = torch.softmax(y_logits, dim=1).argmax(dim=1) # mutli-class\n",
        "    else:\n",
        "        y_pred = torch.round(torch.sigmoid(y_logits)) # binary\n",
        "\n",
        "    # Reshape preds and plot\n",
        "    y_pred = y_pred.reshape(xx.shape).detach().numpy()\n",
        "    plt.contourf(xx, yy, y_pred, cmap=plt.cm.RdYlBu, alpha=0.7)\n",
        "    plt.scatter(X[:, 0], X[:, 1], c=y, s=40, cmap=plt.cm.RdYlBu)\n",
        "    plt.xlim(xx.min(), xx.max())\n",
        "    plt.ylim(yy.min(), yy.max())"
      ],
      "metadata": {
        "id": "0YRzatb8a1P2"
      },
      "execution_count": 50,
      "outputs": []
    },
    {
      "cell_type": "code",
      "source": [
        "# Plot decision boundaries for training and test sets\n",
        "plt.figure(figsize=(12, 6))\n",
        "plt.subplot(1, 2, 1)\n",
        "plt.title(\"Train\")\n",
        "plot_decision_boundary(model_0, X_train, y_train)\n",
        "plt.figure(figsize=(12, 6))\n",
        "plt.subplot(1, 2, 2)\n",
        "plt.title(\"Test\")\n",
        "plot_decision_boundary(model_0, X_test, y_test)"
      ],
      "metadata": {
        "id": "PMrcpyirig1d",
        "colab": {
          "base_uri": "https://localhost:8080/",
          "height": 1000
        },
        "outputId": "b185b178-4c65-419b-9853-3871925a1071"
      },
      "execution_count": 80,
      "outputs": [
        {
          "output_type": "display_data",
          "data": {
            "text/plain": [
              "<Figure size 1200x600 with 1 Axes>"
            ],
            "image/png": "[encoded data removed]"
          },
          "metadata": {}
        },
        {
          "output_type": "display_data",
          "data": {
            "text/plain": [
              "<Figure size 1200x600 with 1 Axes>"
            ],
            "image/png": "[encoded data removed]"
          },
          "metadata": {}
        }
      ]
    },
    {
      "cell_type": "markdown",
      "source": [
        "## 6. Replicate the Tanh (hyperbolic tangent) activation function in pure PyTorch.\n",
        "  * Feel free to reference the [ML cheatsheet website](https://ml-cheatsheet.readthedocs.io/en/latest/activation_functions.html#tanh) for the formula."
      ],
      "metadata": {
        "id": "EtMYBvtciiAU"
      }
    },
    {
      "cell_type": "code",
      "source": [
        "# Create a straight line tensor\n",
        "A = torch.arange(-100, 100, 1, dtype=torch.float32)\n",
        "A.dtype\n"
      ],
      "metadata": {
        "id": "BlXaWC5TkEUE",
        "colab": {
          "base_uri": "https://localhost:8080/"
        },
        "outputId": "630cf11f-e8dd-486c-f889-1975eb4fc54a"
      },
      "execution_count": 84,
      "outputs": [
        {
          "output_type": "execute_result",
          "data": {
            "text/plain": [
              "torch.float32"
            ]
          },
          "metadata": {},
          "execution_count": 84
        }
      ]
    },
    {
      "cell_type": "code",
      "source": [
        "# Visualize the tensor\n",
        "plt.plot(A);"
      ],
      "metadata": {
        "colab": {
          "base_uri": "https://localhost:8080/",
          "height": 430
        },
        "id": "Ad09VaeTZ00h",
        "outputId": "9a32f386-6e84-4899-f438-8b8a9ea1015c"
      },
      "execution_count": 85,
      "outputs": [
        {
          "output_type": "display_data",
          "data": {
            "text/plain": [
              "<Figure size 640x480 with 1 Axes>"
            ],
            "image/png": "[encoded data removed]"
          },
          "metadata": {}
        }
      ]
    },
    {
      "cell_type": "code",
      "source": [
        "# Test torch.tanh() on the tensor and plot it\n",
        "\n",
        "plt.plot(torch.tanh(A))"
      ],
      "metadata": {
        "id": "vZPCcQmIkZjO",
        "colab": {
          "base_uri": "https://localhost:8080/",
          "height": 447
        },
        "outputId": "34baa568-b4e3-465e-aecd-b2da58ef596f"
      },
      "execution_count": 86,
      "outputs": [
        {
          "output_type": "execute_result",
          "data": {
            "text/plain": [
              "[<matplotlib.lines.Line2D at 0x78e94980be20>]"
            ]
          },
          "metadata": {},
          "execution_count": 86
        },
        {
          "output_type": "display_data",
          "data": {
            "text/plain": [
              "<Figure size 640x480 with 1 Axes>"
            ],
            "image/png": "[encoded data removed]"
          },
          "metadata": {}
        }
      ]
    },
    {
      "cell_type": "code",
      "source": [
        "# Replicate torch.tanh() and plot it\n",
        "def tanh(z: torch.Tensor):\n",
        "\treturn (torch.exp(z) - torch.exp(-z)) / (torch.exp(z) + torch.exp(-z))"
      ],
      "metadata": {
        "id": "J-ne__Kjkdc1"
      },
      "execution_count": 87,
      "outputs": []
    },
    {
      "cell_type": "code",
      "source": [
        "plt.plot(tanh(A))"
      ],
      "metadata": {
        "colab": {
          "base_uri": "https://localhost:8080/",
          "height": 447
        },
        "id": "h-0g5AGaahMY",
        "outputId": "6c4faaea-28b9-4c7e-8dbd-5f279cd12de5"
      },
      "execution_count": 89,
      "outputs": [
        {
          "output_type": "execute_result",
          "data": {
            "text/plain": [
              "[<matplotlib.lines.Line2D at 0x78e94c0f8f10>]"
            ]
          },
          "metadata": {},
          "execution_count": 89
        },
        {
          "output_type": "display_data",
          "data": {
            "text/plain": [
              "<Figure size 640x480 with 1 Axes>"
            ],
            "image/png": "[encoded data removed]"
          },
          "metadata": {}
        }
      ]
    },
    {
      "cell_type": "markdown",
      "source": [
        "## 7. Create a multi-class dataset using the [spirals data creation function from CS231n](https://cs231n.github.io/neural-networks-case-study/) (see below for the code).\n",
        "  * Split the data into training and test sets (80% train, 20% test) as well as turn it into PyTorch tensors.\n",
        "  * Construct a model capable of fitting the data (you may need a combination of linear and non-linear layers).\n",
        "  * Build a loss function and optimizer capable of handling multi-class data (optional extension: use the Adam optimizer instead of SGD, you may have to experiment with different values of the learning rate to get it working).\n",
        "  * Make a training and testing loop for the multi-class data and train a model on it to reach over 95% testing accuracy (you can use any accuracy measuring function here that you like) - 1000 epochs should be plenty.\n",
        "  * Plot the decision boundaries on the spirals dataset from your model predictions, the `plot_decision_boundary()` function should work for this dataset too."
      ],
      "metadata": {
        "id": "Lbt1bNcWk5G9"
      }
    },
    {
      "cell_type": "code",
      "source": [
        "# Code for creating a spiral dataset from CS231n\n",
        "import numpy as np\n",
        "import matplotlib.pyplot as plt\n",
        "RANDOM_SEED = 42\n",
        "np.random.seed(RANDOM_SEED)\n",
        "N = 100 # number of points per class\n",
        "D = 2 # dimensionality\n",
        "K = 3 # number of classes\n",
        "X = np.zeros((N*K,D)) # data matrix (each row = single example)\n",
        "y = np.zeros(N*K, dtype='uint8') # class labels\n",
        "for j in range(K):\n",
        "  ix = range(N*j,N*(j+1))\n",
        "  r = np.linspace(0.0,1,N) # radius\n",
        "  t = np.linspace(j*4,(j+1)*4,N) + np.random.randn(N)*0.2 # theta\n",
        "  X[ix] = np.c_[r*np.sin(t), r*np.cos(t)]\n",
        "  y[ix] = j\n",
        "# lets visualize the data\n",
        "plt.scatter(X[:, 0], X[:, 1], c=y, s=40, cmap=plt.cm.RdYlBu)\n",
        "plt.show()"
      ],
      "metadata": {
        "colab": {
          "base_uri": "https://localhost:8080/",
          "height": 430
        },
        "id": "tU-UNZsKlJls",
        "outputId": "8fb32e1a-f29d-4a0a-e65a-cd96290bbde4"
      },
      "execution_count": 99,
      "outputs": [
        {
          "output_type": "display_data",
          "data": {
            "text/plain": [
              "<Figure size 640x480 with 1 Axes>"
            ],
            "image/png": "[encoded data removed]"
          },
          "metadata": {}
        }
      ]
    },
    {
      "cell_type": "code",
      "source": [
        "# Turn data into tensors\n",
        "import torch\n",
        "X = torch.from_numpy(X).type(torch.float) # features as float32\n",
        "y = torch.from_numpy(y).type(torch.LongTensor) # labels need to be of type long\n",
        "\n",
        "# Create train and test splits\n",
        "from sklearn.model_selection import train_test_split\n",
        "X_zero_train, X_zero_test, y_zero_train, y_zero_test = train_test_split(X, y, test_size=0.2, random_state=RANDOM_SEED)"
      ],
      "metadata": {
        "id": "OWVrmkEyl0VP"
      },
      "execution_count": 100,
      "outputs": []
    },
    {
      "cell_type": "code",
      "source": [
        "# Let's calculuate the accuracy for when we fit our model\n",
        "!pip -q install torchmetrics # colab doesn't come with torchmetrics\n",
        "from torchmetrics import Accuracy\n",
        "\n",
        "## TODO: uncomment the two lines below to send the accuracy function to the device\n",
        "acc_fn = Accuracy(task=\"multiclass\", num_classes=4).to(device)\n",
        "acc_fn"
      ],
      "metadata": {
        "id": "a-v-7f0op0tG",
        "colab": {
          "base_uri": "https://localhost:8080/"
        },
        "outputId": "f78dfe4f-0892-4345-b09f-850ee4cbc8bc"
      },
      "execution_count": 101,
      "outputs": [
        {
          "output_type": "execute_result",
          "data": {
            "text/plain": [
              "MulticlassAccuracy()"
            ]
          },
          "metadata": {},
          "execution_count": 101
        }
      ]
    },
    {
      "cell_type": "code",
      "source": [
        "# Prepare device agnostic code\n",
        "device = \"cuda\" if torch.cuda.is_available() else \"cpu\"\n",
        "\n",
        "# Create model by subclassing nn.Module\n",
        "class ZeroModelV0(nn.Module):\n",
        "  def __init__(self, input_features, output_features, hidden_features=8):\n",
        "    super().__init__()\n",
        "    self.linear_layer_stack = nn.Sequential(\n",
        "        nn.Linear(in_features=input_features, out_features=hidden_features),\n",
        "        nn.ReLU(),\n",
        "        nn.Linear(in_features=hidden_features, out_features=hidden_features),\n",
        "        nn.ReLU(),\n",
        "        nn.Linear(in_features=hidden_features, out_features=output_features)\n",
        "    )\n",
        "\n",
        "  def forward(self, x):\n",
        "    return self.linear_layer_stack(x)\n",
        "\n",
        "\n",
        "# Instantiate model and send it to device\n",
        "model_1 = ZeroModelV0(input_features=2, output_features=4, hidden_features=8).to(device)\n",
        "model_1\n"
      ],
      "metadata": {
        "id": "DB3u3ldumapf",
        "colab": {
          "base_uri": "https://localhost:8080/"
        },
        "outputId": "bbde89eb-a9d1-41fe-9de2-5b05fbb9ade1"
      },
      "execution_count": 102,
      "outputs": [
        {
          "output_type": "execute_result",
          "data": {
            "text/plain": [
              "ZeroModelV0(\n",
              "  (linear_layer_stack): Sequential(\n",
              "    (0): Linear(in_features=2, out_features=8, bias=True)\n",
              "    (1): ReLU()\n",
              "    (2): Linear(in_features=8, out_features=8, bias=True)\n",
              "    (3): ReLU()\n",
              "    (4): Linear(in_features=8, out_features=4, bias=True)\n",
              "  )\n",
              ")"
            ]
          },
          "metadata": {},
          "execution_count": 102
        }
      ]
    },
    {
      "cell_type": "code",
      "source": [
        "# Setup data to be device agnostic\n",
        "X_zero_train, y_zero_train = X_zero_train.to(device), y_zero_train.to(device)\n",
        "X_zero_test, y_zero_test = X_zero_test.to(device), y_zero_test.to(device)\n",
        "\n",
        "# Print out first 10 untrained model outputs (forward pass)\n",
        "print(\"Logits:\")\n",
        "## Your code here ##\n",
        "print(model_1(X_zero_train)[:10])\n",
        "\n",
        "print(\"Pred probs:\")\n",
        "## Your code here ##\n",
        "print(torch.softmax(model_1(X_zero_train)[:10], dim=1))\n",
        "\n",
        "print(\"Pred labels:\")\n",
        "## Your code here ##\n",
        "print(torch.softmax(model_1(X_zero_train)[:10], dim=1).argmax(dim=1))"
      ],
      "metadata": {
        "colab": {
          "base_uri": "https://localhost:8080/"
        },
        "id": "QE7XWSSunMTS",
        "outputId": "4bf200b4-1360-47ff-f2d8-d3d60ec1a08b"
      },
      "execution_count": 103,
      "outputs": [
        {
          "output_type": "stream",
          "name": "stdout",
          "text": [
            "Logits:\n",
            "tensor([[ 0.2334, -0.2913,  0.1134, -0.0414],\n",
            "        [ 0.2265, -0.2849,  0.1025, -0.0440],\n",
            "        [ 0.2208, -0.3258,  0.0771, -0.0429],\n",
            "        [ 0.0880, -0.3095, -0.1056, -0.1984],\n",
            "        [ 0.1403, -0.3421, -0.0466, -0.1191],\n",
            "        [ 0.1865, -0.3204,  0.0310, -0.0829],\n",
            "        [ 0.2016, -0.3287,  0.0486, -0.0655],\n",
            "        [ 0.2508, -0.2552,  0.1419,  0.0056],\n",
            "        [ 0.1830, -0.2835,  0.0432, -0.0876],\n",
            "        [ 0.0862, -0.3103, -0.1087, -0.2005]], grad_fn=<SliceBackward0>)\n",
            "Pred probs:\n",
            "tensor([[0.3088, 0.1827, 0.2739, 0.2346],\n",
            "        [0.3081, 0.1847, 0.2721, 0.2351],\n",
            "        [0.3112, 0.1802, 0.2696, 0.2391],\n",
            "        [0.3080, 0.2070, 0.2538, 0.2313],\n",
            "        [0.3107, 0.1918, 0.2578, 0.2397],\n",
            "        [0.3103, 0.1869, 0.2657, 0.2371],\n",
            "        [0.3113, 0.1832, 0.2672, 0.2383],\n",
            "        [0.3047, 0.1837, 0.2732, 0.2384],\n",
            "        [0.3068, 0.1924, 0.2668, 0.2340],\n",
            "        [0.3080, 0.2072, 0.2535, 0.2313]], grad_fn=<SoftmaxBackward0>)\n",
            "Pred labels:\n",
            "tensor([0, 0, 0, 0, 0, 0, 0, 0, 0, 0])\n"
          ]
        }
      ]
    },
    {
      "cell_type": "code",
      "source": [
        "# Setup loss function and optimizer\n",
        "loss_fn = nn.CrossEntropyLoss()\n",
        "optimizer = torch.optim.Adam(params=model_1.parameters(),\n",
        "                            lr=0.1)"
      ],
      "metadata": {
        "id": "54EqLRKLo0AW"
      },
      "execution_count": 104,
      "outputs": []
    },
    {
      "cell_type": "code",
      "source": [
        "from tqdm import tqdm  # Import tqdm for progress bars\n",
        "## TODO: Uncomment this to set the seed\n",
        "torch.manual_seed(RANDOM_SEED)\n",
        "\n",
        "# Setup epochs\n",
        "epochs = 1000\n",
        "\n",
        "# Loop through the data\n",
        "for epoch in tqdm(range(epochs), desc=\"Training Data\"):\n",
        "  ### Training\n",
        "  model_1.train()\n",
        "\n",
        "\n",
        "  # 1. Forward pass (logits output)\n",
        "  y_logits = model_1(X_zero_train)\n",
        "  # Turn logits into prediction probabilities\n",
        "  y_preds = torch.round(torch.softmax(y_logits, dim=1))\n",
        "\n",
        "  # Turn prediction probabilities into prediction labels\n",
        "\n",
        "\n",
        "  # 2. Calculaute the loss\n",
        "  loss = loss_fn(y_logits, y_zero_train)\n",
        "  # loss = loss_fn(y_logits, y_train) # loss = compare model raw outputs to desired model outputs\n",
        "\n",
        "  # Calculate the accuracy\n",
        "  acc = acc_fn(y_preds, y_zero_train)\n",
        "  # acc = acc_fn(y_pred, y_train.int()) # the accuracy function needs to compare pred labels (not logits) with actual labels\n",
        "\n",
        "  # 3. Zero the gradients\n",
        "  optimizer.zero_grad()\n",
        "\n",
        "\n",
        "  # 4. Loss backward (perform backpropagation) - https://brilliant.org/wiki/backpropagation/#:~:text=Backpropagation%2C%20short%20for%20%22backward%20propagation,to%20the%20neural%20network's%20weights.\n",
        "  loss.backward()\n",
        "\n",
        "  # 5. Step the optimizer (gradient descent) - https://towardsdatascience.com/gradient-descent-algorithm-a-deep-dive-cf04e8115f21#:~:text=Gradient%20descent%20(GD)%20is%20an,e.g.%20in%20a%20linear%20regression)\n",
        "  optimizer.step()\n",
        "\n",
        "  ### Testing\n",
        "  model_1.eval()\n",
        "  with torch.inference_mode():\n",
        "    # 1. Forward pass (to get the logits)\n",
        "    test_logits = model_1(X_zero_test)\n",
        "\n",
        "    # Turn the test logits into prediction labels\n",
        "    test_pred = torch.softmax(test_logits, dim=1).argmax(dim=1)\n",
        "\n",
        "    # 2. Caculate the test loss/acc\n",
        "    test_loss = loss_fn(test_logits, y_zero_test)\n",
        "    test_acc = acc_fn(test_pred, y_zero_test)\n",
        "\n",
        "  # Print out what's happening every 100 epochs\n",
        "  if epoch % 10 == 0:\n",
        "    print(f\"Epoch: {epoch} | Loss: {loss:.4f} | Acc: {acc:.2f}% | Test Loss: {test_loss:.4f} | Test Acc: {test_acc:.2f}%\")\n",
        ""
      ],
      "metadata": {
        "id": "vIlExkUHnmxi",
        "colab": {
          "base_uri": "https://localhost:8080/"
        },
        "outputId": "0fe147d6-72e8-4b65-9322-cdd95682325a"
      },
      "execution_count": 105,
      "outputs": [
        {
          "output_type": "stream",
          "name": "stderr",
          "text": [
            "Training Data:   2%|▏         | 18/1000 [00:00<00:05, 177.53it/s]"
          ]
        },
        {
          "output_type": "stream",
          "name": "stdout",
          "text": [
            "Epoch: 0 | Loss: 1.3946 | Acc: 0.32% | Test Loss: 1.2366 | Test Acc: 0.47%\n",
            "Epoch: 10 | Loss: 0.8340 | Acc: 0.50% | Test Loss: 0.8000 | Test Acc: 0.60%\n",
            "Epoch: 20 | Loss: 0.5532 | Acc: 0.66% | Test Loss: 0.5688 | Test Acc: 0.62%\n"
          ]
        },
        {
          "output_type": "stream",
          "name": "stderr",
          "text": [
            "\rTraining Data:   4%|▍         | 44/1000 [00:00<00:04, 221.93it/s]"
          ]
        },
        {
          "output_type": "stream",
          "name": "stdout",
          "text": [
            "Epoch: 30 | Loss: 0.3681 | Acc: 0.83% | Test Loss: 0.3903 | Test Acc: 0.85%\n",
            "Epoch: 40 | Loss: 0.2431 | Acc: 0.89% | Test Loss: 0.2440 | Test Acc: 0.90%\n"
          ]
        },
        {
          "output_type": "stream",
          "name": "stderr",
          "text": [
            "\rTraining Data:   7%|▋         | 67/1000 [00:00<00:04, 221.81it/s]"
          ]
        },
        {
          "output_type": "stream",
          "name": "stdout",
          "text": [
            "Epoch: 50 | Loss: 0.1056 | Acc: 0.96% | Test Loss: 0.0698 | Test Acc: 1.00%\n",
            "Epoch: 60 | Loss: 0.0576 | Acc: 0.98% | Test Loss: 0.0285 | Test Acc: 1.00%\n",
            "Epoch: 70 | Loss: 0.0419 | Acc: 0.98% | Test Loss: 0.0144 | Test Acc: 1.00%\n"
          ]
        },
        {
          "output_type": "stream",
          "name": "stderr",
          "text": [
            "\rTraining Data:   9%|▉         | 90/1000 [00:00<00:04, 210.85it/s]"
          ]
        },
        {
          "output_type": "stream",
          "name": "stdout",
          "text": [
            "Epoch: 80 | Loss: 0.0344 | Acc: 0.98% | Test Loss: 0.0082 | Test Acc: 1.00%\n",
            "Epoch: 90 | Loss: 0.0300 | Acc: 0.99% | Test Loss: 0.0050 | Test Acc: 1.00%\n"
          ]
        },
        {
          "output_type": "stream",
          "name": "stderr",
          "text": [
            "\rTraining Data:  11%|█▏        | 114/1000 [00:00<00:04, 220.56it/s]"
          ]
        },
        {
          "output_type": "stream",
          "name": "stdout",
          "text": [
            "Epoch: 100 | Loss: 0.0272 | Acc: 0.99% | Test Loss: 0.0036 | Test Acc: 1.00%\n",
            "Epoch: 110 | Loss: 0.0252 | Acc: 0.99% | Test Loss: 0.0030 | Test Acc: 1.00%\n",
            "Epoch: 120 | Loss: 0.0239 | Acc: 0.99% | Test Loss: 0.0026 | Test Acc: 1.00%\n"
          ]
        },
        {
          "output_type": "stream",
          "name": "stderr",
          "text": [
            "\rTraining Data:  14%|█▎        | 137/1000 [00:00<00:03, 221.44it/s]"
          ]
        },
        {
          "output_type": "stream",
          "name": "stdout",
          "text": [
            "Epoch: 130 | Loss: 0.0235 | Acc: 0.99% | Test Loss: 0.0025 | Test Acc: 1.00%\n",
            "Epoch: 140 | Loss: 0.0217 | Acc: 0.99% | Test Loss: 0.0020 | Test Acc: 1.00%\n",
            "Epoch: 150 | Loss: 0.0212 | Acc: 0.99% | Test Loss: 0.0018 | Test Acc: 1.00%\n"
          ]
        },
        {
          "output_type": "stream",
          "name": "stderr",
          "text": [
            "\rTraining Data:  16%|█▌        | 160/1000 [00:00<00:06, 126.38it/s]"
          ]
        },
        {
          "output_type": "stream",
          "name": "stdout",
          "text": [
            "Epoch: 160 | Loss: 0.0203 | Acc: 0.99% | Test Loss: 0.0014 | Test Acc: 1.00%\n"
          ]
        },
        {
          "output_type": "stream",
          "name": "stderr",
          "text": [
            "\rTraining Data:  18%|█▊        | 178/1000 [00:01<00:07, 111.01it/s]"
          ]
        },
        {
          "output_type": "stream",
          "name": "stdout",
          "text": [
            "Epoch: 170 | Loss: 0.0201 | Acc: 0.99% | Test Loss: 0.0011 | Test Acc: 1.00%\n",
            "Epoch: 180 | Loss: 0.0194 | Acc: 0.99% | Test Loss: 0.0007 | Test Acc: 1.00%\n",
            "Epoch: 190 | Loss: 0.0195 | Acc: 0.99% | Test Loss: 0.0005 | Test Acc: 1.00%\n"
          ]
        },
        {
          "output_type": "stream",
          "name": "stderr",
          "text": [
            "\rTraining Data:  19%|█▉        | 193/1000 [00:01<00:07, 107.86it/s]"
          ]
        },
        {
          "output_type": "stream",
          "name": "stdout",
          "text": [
            "Epoch: 200 | Loss: 0.0186 | Acc: 0.99% | Test Loss: 0.0004 | Test Acc: 1.00%\n"
          ]
        },
        {
          "output_type": "stream",
          "name": "stderr",
          "text": [
            "\rTraining Data:  21%|██        | 206/1000 [00:01<00:07, 106.45it/s]"
          ]
        },
        {
          "output_type": "stream",
          "name": "stdout",
          "text": [
            "Epoch: 210 | Loss: 0.0181 | Acc: 0.99% | Test Loss: 0.0004 | Test Acc: 1.00%\n"
          ]
        },
        {
          "output_type": "stream",
          "name": "stderr",
          "text": [
            "\rTraining Data:  22%|██▏       | 219/1000 [00:01<00:07, 107.61it/s]"
          ]
        },
        {
          "output_type": "stream",
          "name": "stdout",
          "text": [
            "Epoch: 220 | Loss: 0.0185 | Acc: 0.99% | Test Loss: 0.0004 | Test Acc: 1.00%\n"
          ]
        },
        {
          "output_type": "stream",
          "name": "stderr",
          "text": [
            "\rTraining Data:  23%|██▎       | 231/1000 [00:01<00:08, 91.80it/s] "
          ]
        },
        {
          "output_type": "stream",
          "name": "stdout",
          "text": [
            "Epoch: 230 | Loss: 0.0175 | Acc: 0.99% | Test Loss: 0.0003 | Test Acc: 1.00%\n"
          ]
        },
        {
          "output_type": "stream",
          "name": "stderr",
          "text": [
            "\rTraining Data:  24%|██▍       | 242/1000 [00:01<00:08, 92.16it/s]"
          ]
        },
        {
          "output_type": "stream",
          "name": "stdout",
          "text": [
            "Epoch: 240 | Loss: 0.0182 | Acc: 0.99% | Test Loss: 0.0003 | Test Acc: 1.00%\n"
          ]
        },
        {
          "output_type": "stream",
          "name": "stderr",
          "text": [
            "\rTraining Data:  25%|██▌       | 252/1000 [00:02<00:08, 87.24it/s]"
          ]
        },
        {
          "output_type": "stream",
          "name": "stdout",
          "text": [
            "Epoch: 250 | Loss: 0.0180 | Acc: 0.99% | Test Loss: 0.0003 | Test Acc: 1.00%\n"
          ]
        },
        {
          "output_type": "stream",
          "name": "stderr",
          "text": [
            "\rTraining Data:  26%|██▌       | 262/1000 [00:02<00:08, 82.55it/s]"
          ]
        },
        {
          "output_type": "stream",
          "name": "stdout",
          "text": [
            "Epoch: 260 | Loss: 0.0175 | Acc: 0.99% | Test Loss: 0.0003 | Test Acc: 1.00%\n"
          ]
        },
        {
          "output_type": "stream",
          "name": "stderr",
          "text": [
            "\rTraining Data:  28%|██▊       | 280/1000 [00:02<00:06, 104.74it/s]"
          ]
        },
        {
          "output_type": "stream",
          "name": "stdout",
          "text": [
            "Epoch: 270 | Loss: 0.0166 | Acc: 0.99% | Test Loss: 0.0003 | Test Acc: 1.00%\n",
            "Epoch: 280 | Loss: 0.0182 | Acc: 0.99% | Test Loss: 0.0003 | Test Acc: 1.00%\n",
            "Epoch: 290 | Loss: 0.0165 | Acc: 0.99% | Test Loss: 0.0002 | Test Acc: 1.00%\n"
          ]
        },
        {
          "output_type": "stream",
          "name": "stderr",
          "text": [
            "\rTraining Data:  30%|██▉       | 298/1000 [00:02<00:05, 120.78it/s]"
          ]
        },
        {
          "output_type": "stream",
          "name": "stdout",
          "text": [
            "Epoch: 300 | Loss: 0.0163 | Acc: 0.99% | Test Loss: 0.0002 | Test Acc: 1.00%\n"
          ]
        },
        {
          "output_type": "stream",
          "name": "stderr",
          "text": [
            "Training Data:  34%|███▍      | 339/1000 [00:02<00:04, 156.78it/s]"
          ]
        },
        {
          "output_type": "stream",
          "name": "stdout",
          "text": [
            "Epoch: 310 | Loss: 0.0164 | Acc: 0.99% | Test Loss: 0.0002 | Test Acc: 1.00%\n",
            "Epoch: 320 | Loss: 0.0159 | Acc: 0.99% | Test Loss: 0.0002 | Test Acc: 1.00%\n",
            "Epoch: 330 | Loss: 0.0169 | Acc: 0.99% | Test Loss: 0.0002 | Test Acc: 1.00%\n",
            "Epoch: 340 | Loss: 0.0157 | Acc: 0.99% | Test Loss: 0.0002 | Test Acc: 1.00%\n"
          ]
        },
        {
          "output_type": "stream",
          "name": "stderr",
          "text": [
            "Training Data:  38%|███▊      | 382/1000 [00:02<00:03, 186.39it/s]"
          ]
        },
        {
          "output_type": "stream",
          "name": "stdout",
          "text": [
            "Epoch: 350 | Loss: 0.0164 | Acc: 0.99% | Test Loss: 0.0002 | Test Acc: 1.00%\n",
            "Epoch: 360 | Loss: 0.0157 | Acc: 0.99% | Test Loss: 0.0002 | Test Acc: 1.00%\n",
            "Epoch: 370 | Loss: 0.0155 | Acc: 0.99% | Test Loss: 0.0002 | Test Acc: 1.00%\n",
            "Epoch: 380 | Loss: 0.0157 | Acc: 0.99% | Test Loss: 0.0002 | Test Acc: 1.00%\n",
            "Epoch: 390 | Loss: 0.0153 | Acc: 0.99% | Test Loss: 0.0002 | Test Acc: 1.00%\n",
            "Epoch: 400 | Loss: 0.0163 | Acc: 0.99% | Test Loss: 0.0002 | Test Acc: 1.00%\n"
          ]
        },
        {
          "output_type": "stream",
          "name": "stderr",
          "text": [
            "Training Data:  44%|████▍     | 445/1000 [00:02<00:02, 248.90it/s]"
          ]
        },
        {
          "output_type": "stream",
          "name": "stdout",
          "text": [
            "Epoch: 410 | Loss: 0.0151 | Acc: 0.99% | Test Loss: 0.0002 | Test Acc: 1.00%\n",
            "Epoch: 420 | Loss: 0.0163 | Acc: 0.99% | Test Loss: 0.0002 | Test Acc: 1.00%\n",
            "Epoch: 430 | Loss: 0.0150 | Acc: 0.99% | Test Loss: 0.0002 | Test Acc: 1.00%\n",
            "Epoch: 440 | Loss: 0.0153 | Acc: 0.99% | Test Loss: 0.0002 | Test Acc: 1.00%\n",
            "Epoch: 450 | Loss: 0.0149 | Acc: 0.99% | Test Loss: 0.0002 | Test Acc: 1.00%\n",
            "Epoch: 460 | Loss: 0.0149 | Acc: 0.99% | Test Loss: 0.0002 | Test Acc: 1.00%\n"
          ]
        },
        {
          "output_type": "stream",
          "name": "stderr",
          "text": [
            "Training Data:  50%|████▉     | 497/1000 [00:03<00:02, 231.18it/s]"
          ]
        },
        {
          "output_type": "stream",
          "name": "stdout",
          "text": [
            "Epoch: 470 | Loss: 0.0155 | Acc: 0.99% | Test Loss: 0.0001 | Test Acc: 1.00%\n",
            "Epoch: 480 | Loss: 0.0148 | Acc: 0.99% | Test Loss: 0.0001 | Test Acc: 1.00%\n",
            "Epoch: 490 | Loss: 0.0151 | Acc: 0.99% | Test Loss: 0.0001 | Test Acc: 1.00%\n",
            "Epoch: 500 | Loss: 0.0156 | Acc: 0.99% | Test Loss: 0.0001 | Test Acc: 1.00%\n",
            "Epoch: 510 | Loss: 0.0152 | Acc: 0.99% | Test Loss: 0.0001 | Test Acc: 1.00%\n"
          ]
        },
        {
          "output_type": "stream",
          "name": "stderr",
          "text": [
            "Training Data:  55%|█████▍    | 545/1000 [00:03<00:02, 219.57it/s]"
          ]
        },
        {
          "output_type": "stream",
          "name": "stdout",
          "text": [
            "Epoch: 520 | Loss: 0.0149 | Acc: 0.99% | Test Loss: 0.0001 | Test Acc: 1.00%\n",
            "Epoch: 530 | Loss: 0.0149 | Acc: 0.99% | Test Loss: 0.0001 | Test Acc: 1.00%\n",
            "Epoch: 540 | Loss: 0.0151 | Acc: 0.99% | Test Loss: 0.0001 | Test Acc: 1.00%\n",
            "Epoch: 550 | Loss: 0.0151 | Acc: 0.99% | Test Loss: 0.0001 | Test Acc: 1.00%\n",
            "Epoch: 560 | Loss: 0.0149 | Acc: 0.99% | Test Loss: 0.0001 | Test Acc: 1.00%\n"
          ]
        },
        {
          "output_type": "stream",
          "name": "stderr",
          "text": [
            "Training Data:  59%|█████▉    | 592/1000 [00:03<00:01, 207.98it/s]"
          ]
        },
        {
          "output_type": "stream",
          "name": "stdout",
          "text": [
            "Epoch: 570 | Loss: 0.0149 | Acc: 0.99% | Test Loss: 0.0001 | Test Acc: 1.00%\n",
            "Epoch: 580 | Loss: 0.0149 | Acc: 0.99% | Test Loss: 0.0001 | Test Acc: 1.00%\n",
            "Epoch: 590 | Loss: 0.0149 | Acc: 0.99% | Test Loss: 0.0001 | Test Acc: 1.00%\n",
            "Epoch: 600 | Loss: 0.0148 | Acc: 0.99% | Test Loss: 0.0001 | Test Acc: 1.00%\n"
          ]
        },
        {
          "output_type": "stream",
          "name": "stderr",
          "text": [
            "Training Data:  64%|██████▎   | 636/1000 [00:03<00:01, 202.75it/s]"
          ]
        },
        {
          "output_type": "stream",
          "name": "stdout",
          "text": [
            "Epoch: 610 | Loss: 0.0148 | Acc: 0.99% | Test Loss: 0.0001 | Test Acc: 1.00%\n",
            "Epoch: 620 | Loss: 0.0148 | Acc: 0.99% | Test Loss: 0.0001 | Test Acc: 1.00%\n",
            "Epoch: 630 | Loss: 0.0148 | Acc: 0.99% | Test Loss: 0.0001 | Test Acc: 1.00%\n",
            "Epoch: 640 | Loss: 0.0148 | Acc: 0.99% | Test Loss: 0.0001 | Test Acc: 1.00%\n"
          ]
        },
        {
          "output_type": "stream",
          "name": "stderr",
          "text": [
            "\rTraining Data:  66%|██████▌   | 657/1000 [00:04<00:01, 174.34it/s]"
          ]
        },
        {
          "output_type": "stream",
          "name": "stdout",
          "text": [
            "Epoch: 650 | Loss: 0.0147 | Acc: 0.99% | Test Loss: 0.0001 | Test Acc: 1.00%\n",
            "Epoch: 660 | Loss: 0.0147 | Acc: 0.99% | Test Loss: 0.0001 | Test Acc: 1.00%\n"
          ]
        },
        {
          "output_type": "stream",
          "name": "stderr",
          "text": [
            "\rTraining Data:  68%|██████▊   | 676/1000 [00:04<00:01, 173.61it/s]"
          ]
        },
        {
          "output_type": "stream",
          "name": "stdout",
          "text": [
            "Epoch: 670 | Loss: 0.0147 | Acc: 0.99% | Test Loss: 0.0001 | Test Acc: 1.00%\n",
            "Epoch: 680 | Loss: 0.0147 | Acc: 0.99% | Test Loss: 0.0001 | Test Acc: 1.00%\n"
          ]
        },
        {
          "output_type": "stream",
          "name": "stderr",
          "text": [
            "\rTraining Data:  69%|██████▉   | 694/1000 [00:04<00:01, 175.20it/s]"
          ]
        },
        {
          "output_type": "stream",
          "name": "stdout",
          "text": [
            "Epoch: 690 | Loss: 0.0147 | Acc: 0.99% | Test Loss: 0.0001 | Test Acc: 1.00%\n",
            "Epoch: 700 | Loss: 0.0147 | Acc: 0.99% | Test Loss: 0.0001 | Test Acc: 1.00%\n"
          ]
        },
        {
          "output_type": "stream",
          "name": "stderr",
          "text": [
            "\rTraining Data:  71%|███████   | 712/1000 [00:04<00:01, 162.62it/s]"
          ]
        },
        {
          "output_type": "stream",
          "name": "stdout",
          "text": [
            "Epoch: 710 | Loss: 0.0146 | Acc: 0.99% | Test Loss: 0.0001 | Test Acc: 1.00%\n",
            "Epoch: 720 | Loss: 0.0146 | Acc: 0.99% | Test Loss: 0.0001 | Test Acc: 1.00%\n"
          ]
        },
        {
          "output_type": "stream",
          "name": "stderr",
          "text": [
            "\rTraining Data:  73%|███████▎  | 732/1000 [00:04<00:01, 171.76it/s]"
          ]
        },
        {
          "output_type": "stream",
          "name": "stdout",
          "text": [
            "Epoch: 730 | Loss: 0.0146 | Acc: 0.99% | Test Loss: 0.0001 | Test Acc: 1.00%\n",
            "Epoch: 740 | Loss: 0.0146 | Acc: 0.99% | Test Loss: 0.0001 | Test Acc: 1.00%\n"
          ]
        },
        {
          "output_type": "stream",
          "name": "stderr",
          "text": [
            "\rTraining Data:  75%|███████▌  | 750/1000 [00:04<00:01, 172.32it/s]"
          ]
        },
        {
          "output_type": "stream",
          "name": "stdout",
          "text": [
            "Epoch: 750 | Loss: 0.0146 | Acc: 0.99% | Test Loss: 0.0001 | Test Acc: 1.00%\n",
            "Epoch: 760 | Loss: 0.0146 | Acc: 0.99% | Test Loss: 0.0001 | Test Acc: 1.00%\n"
          ]
        },
        {
          "output_type": "stream",
          "name": "stderr",
          "text": [
            "\rTraining Data:  77%|███████▋  | 768/1000 [00:04<00:01, 149.97it/s]"
          ]
        },
        {
          "output_type": "stream",
          "name": "stdout",
          "text": [
            "Epoch: 770 | Loss: 0.0146 | Acc: 0.99% | Test Loss: 0.0001 | Test Acc: 1.00%\n",
            "Epoch: 780 | Loss: 0.0146 | Acc: 0.99% | Test Loss: 0.0001 | Test Acc: 1.00%"
          ]
        },
        {
          "output_type": "stream",
          "name": "stderr",
          "text": [
            "Training Data:  81%|████████  | 807/1000 [00:04<00:01, 162.63it/s]"
          ]
        },
        {
          "output_type": "stream",
          "name": "stdout",
          "text": [
            "\n",
            "Epoch: 790 | Loss: 0.0145 | Acc: 0.99% | Test Loss: 0.0001 | Test Acc: 1.00%\n",
            "Epoch: 800 | Loss: 0.0145 | Acc: 0.99% | Test Loss: 0.0001 | Test Acc: 1.00%\n",
            "Epoch: 810 | Loss: 0.0145 | Acc: 0.99% | Test Loss: 0.0001 | Test Acc: 1.00%\n"
          ]
        },
        {
          "output_type": "stream",
          "name": "stderr",
          "text": [
            "Training Data:  85%|████████▍ | 848/1000 [00:05<00:00, 180.67it/s]"
          ]
        },
        {
          "output_type": "stream",
          "name": "stdout",
          "text": [
            "Epoch: 820 | Loss: 0.0145 | Acc: 0.99% | Test Loss: 0.0001 | Test Acc: 1.00%\n",
            "Epoch: 830 | Loss: 0.0145 | Acc: 0.99% | Test Loss: 0.0001 | Test Acc: 1.00%\n",
            "Epoch: 840 | Loss: 0.0145 | Acc: 0.99% | Test Loss: 0.0001 | Test Acc: 1.00%\n",
            "Epoch: 850 | Loss: 0.0145 | Acc: 0.99% | Test Loss: 0.0001 | Test Acc: 1.00%\n",
            "Epoch: 860 | Loss: 0.0145 | Acc: 0.99% | Test Loss: 0.0001 | Test Acc: 1.00%\n"
          ]
        },
        {
          "output_type": "stream",
          "name": "stderr",
          "text": [
            "Training Data:  90%|████████▉ | 896/1000 [00:05<00:00, 204.01it/s]"
          ]
        },
        {
          "output_type": "stream",
          "name": "stdout",
          "text": [
            "Epoch: 870 | Loss: 0.0146 | Acc: 0.99% | Test Loss: 0.0001 | Test Acc: 1.00%\n",
            "Epoch: 880 | Loss: 0.0146 | Acc: 0.99% | Test Loss: 0.0001 | Test Acc: 1.00%\n",
            "Epoch: 890 | Loss: 0.0147 | Acc: 0.99% | Test Loss: 0.0001 | Test Acc: 1.00%\n",
            "Epoch: 900 | Loss: 0.0144 | Acc: 0.99% | Test Loss: 0.0001 | Test Acc: 1.00%\n"
          ]
        },
        {
          "output_type": "stream",
          "name": "stderr",
          "text": [
            "\rTraining Data:  92%|█████████▏| 917/1000 [00:05<00:00, 143.38it/s]"
          ]
        },
        {
          "output_type": "stream",
          "name": "stdout",
          "text": [
            "Epoch: 910 | Loss: 0.0146 | Acc: 0.99% | Test Loss: 0.0001 | Test Acc: 1.00%\n"
          ]
        },
        {
          "output_type": "stream",
          "name": "stderr",
          "text": [
            "\rTraining Data:  93%|█████████▎| 934/1000 [00:05<00:00, 148.93it/s]"
          ]
        },
        {
          "output_type": "stream",
          "name": "stdout",
          "text": [
            "Epoch: 920 | Loss: 0.0146 | Acc: 0.99% | Test Loss: 0.0001 | Test Acc: 1.00%\n",
            "Epoch: 930 | Loss: 0.0143 | Acc: 0.99% | Test Loss: 0.0001 | Test Acc: 1.00%\n",
            "Epoch: 940 | Loss: 0.0146 | Acc: 0.99% | Test Loss: 0.0001 | Test Acc: 1.00%\n"
          ]
        },
        {
          "output_type": "stream",
          "name": "stderr",
          "text": [
            "\rTraining Data:  95%|█████████▌| 953/1000 [00:05<00:00, 156.03it/s]"
          ]
        },
        {
          "output_type": "stream",
          "name": "stdout",
          "text": [
            "Epoch: 950 | Loss: 0.0143 | Acc: 0.99% | Test Loss: 0.0001 | Test Acc: 1.00%\n"
          ]
        },
        {
          "output_type": "stream",
          "name": "stderr",
          "text": [
            "\rTraining Data:  98%|█████████▊| 976/1000 [00:05<00:00, 169.75it/s]"
          ]
        },
        {
          "output_type": "stream",
          "name": "stdout",
          "text": [
            "Epoch: 960 | Loss: 0.0145 | Acc: 0.99% | Test Loss: 0.0001 | Test Acc: 1.00%\n",
            "Epoch: 970 | Loss: 0.0144 | Acc: 0.99% | Test Loss: 0.0001 | Test Acc: 1.00%\n",
            "Epoch: 980 | Loss: 0.0147 | Acc: 0.99% | Test Loss: 0.0001 | Test Acc: 1.00%\n",
            "Epoch: 990 | Loss: 0.0143 | Acc: 0.99% | Test Loss: 0.0001 | Test Acc: 1.00%\n"
          ]
        },
        {
          "output_type": "stream",
          "name": "stderr",
          "text": [
            "Training Data: 100%|██████████| 1000/1000 [00:06<00:00, 161.91it/s]\n"
          ]
        }
      ]
    },
    {
      "cell_type": "code",
      "source": [
        "# Plot decision boundaries for training and test sets\n",
        "# Plot the decision boundary\n",
        "plt.figure(figsize=(12, 6))\n",
        "plt.subplot(1, 2, 1)\n",
        "plt.title(\"Train\")\n",
        "plot_decision_boundary(model_1, X_zero_train, y_zero_train)\n",
        "plt.subplot(1, 2, 2)\n",
        "plt.title(\"Test\")\n",
        "plot_decision_boundary(model_1, X_zero_test, y_zero_test)"
      ],
      "metadata": {
        "id": "JrwVRbaE0keT",
        "colab": {
          "base_uri": "https://localhost:8080/",
          "height": 545
        },
        "outputId": "a4a5eb3e-a24e-4e33-f995-a18b4fb80d01"
      },
      "execution_count": 108,
      "outputs": [
        {
          "output_type": "display_data",
          "data": {
            "text/plain": [
              "<Figure size 1200x600 with 2 Axes>"
            ],
            "image/png": "[encoded data removed]"
          },
          "metadata": {}
        }
      ]
    }
  ]
}